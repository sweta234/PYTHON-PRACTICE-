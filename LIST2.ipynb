{
 "cells": [
  {
   "cell_type": "code",
   "execution_count": 3,
   "id": "e72827e1",
   "metadata": {},
   "outputs": [
    {
     "name": "stdout",
     "output_type": "stream",
     "text": [
      "24\n"
     ]
    }
   ],
   "source": [
    "r = [1,2,3,5,6,7]\n",
    "d = sum(i for i in r)\n",
    "print (d)"
   ]
  },
  {
   "cell_type": "code",
   "execution_count": 6,
   "id": "ba0c8c40",
   "metadata": {},
   "outputs": [
    {
     "name": "stdout",
     "output_type": "stream",
     "text": [
      "1\n"
     ]
    }
   ],
   "source": [
    "r = [1,2,3,5,6,7]\n",
    "d = (i for i in r)\n",
    "print (i*i)"
   ]
  },
  {
   "cell_type": "code",
   "execution_count": 8,
   "id": "94f0cb49",
   "metadata": {},
   "outputs": [
    {
     "name": "stdout",
     "output_type": "stream",
     "text": [
      "7\n"
     ]
    }
   ],
   "source": [
    "r = [1,2,3,5,6,7]\n",
    "g = max(i for i in r)\n",
    "print (g)"
   ]
  },
  {
   "cell_type": "code",
   "execution_count": 9,
   "id": "804ae1e9",
   "metadata": {},
   "outputs": [
    {
     "name": "stdout",
     "output_type": "stream",
     "text": [
      "1\n"
     ]
    }
   ],
   "source": [
    "r = [1,2,3,5,6,7]\n",
    "g = min(i for i in r)\n",
    "print (g)"
   ]
  },
  {
   "cell_type": "code",
   "execution_count": 15,
   "id": "8df6d56e",
   "metadata": {},
   "outputs": [],
   "source": [
    "Sample = ['abc', 'xyz', 'aba', '1221']\n",
    "for i in Sample:\n",
    "    if len(i) < 3:\n",
    "        print (i)"
   ]
  },
  {
   "cell_type": "code",
   "execution_count": 16,
   "id": "b0baf31a",
   "metadata": {},
   "outputs": [
    {
     "name": "stdout",
     "output_type": "stream",
     "text": [
      "[(1, 2), (2, 1), (2, 3), (2, 5), (4, 4)]\n"
     ]
    }
   ],
   "source": [
    "Sample = [(2, 5), (1, 2), (4, 4), (2, 3), (2, 1)]\n",
    "print (sorted(Sample))\n"
   ]
  },
  {
   "cell_type": "code",
   "execution_count": 20,
   "id": "422af18c",
   "metadata": {},
   "outputs": [],
   "source": [
    "Sample =  [(2, 5), (1, 2), (4, 4), (2, 3), (2, 1)]\n",
    "for i in Sample:\n",
    "    if i in i:\n",
    "        print (i)"
   ]
  },
  {
   "cell_type": "code",
   "execution_count": 22,
   "id": "b66d995e",
   "metadata": {},
   "outputs": [
    {
     "name": "stdout",
     "output_type": "stream",
     "text": [
      "None\n"
     ]
    }
   ],
   "source": [
    "Sample =  [(2, 5), (1, 2), (4, 4), (2, 3), (2, 1)]\n",
    "def che(Sample):\n",
    "    f = []\n",
    "    if Sample == f:\n",
    "        print ('TRUE')\n",
    "Sample =  [(2, 5), (1, 2), (4, 4), (2, 3), (2, 1)]\n",
    "print (che(Sample))"
   ]
  },
  {
   "cell_type": "code",
   "execution_count": 23,
   "id": "0d04bad2",
   "metadata": {},
   "outputs": [
    {
     "name": "stdout",
     "output_type": "stream",
     "text": [
      "[(2, 5), (1, 2), (4, 4), (2, 3), (2, 1)]\n"
     ]
    }
   ],
   "source": [
    "Sample =  [(2, 5), (1, 2), (4, 4), (2, 3), (2, 1)]\n",
    "print (Sample.copy())"
   ]
  },
  {
   "cell_type": "code",
   "execution_count": 25,
   "id": "4b4343d8",
   "metadata": {},
   "outputs": [],
   "source": [
    "Sample =  [(2, 5), (1, 2), (4, 4), (2, 3), (2, 1)]\n",
    "for i in Sample:\n",
    "    if len(i) >2:\n",
    "        print (i)\n",
    "Sample =  [(2, 5), (1, 2), (4, 4), (2, 3), (2, 1)]\n"
   ]
  },
  {
   "cell_type": "code",
   "execution_count": 26,
   "id": "d50311c3",
   "metadata": {},
   "outputs": [
    {
     "name": "stdout",
     "output_type": "stream",
     "text": [
      "[1, 4, 9, 16, 25]\n",
      "[256, 289, 324, 361, 400]\n"
     ]
    }
   ],
   "source": [
    "def printValues():\n",
    "\tl = list()\n",
    "\tfor i in range(1,21):\n",
    "\t\tl.append(i**2)\n",
    "\tprint(l[:5])\n",
    "\tprint(l[-5:])\n",
    "\n",
    "printValues()\n",
    "\n"
   ]
  },
  {
   "cell_type": "code",
   "execution_count": 28,
   "id": "68272406",
   "metadata": {},
   "outputs": [
    {
     "name": "stdout",
     "output_type": "stream",
     "text": [
      "0\n",
      "-31\n",
      "-42\n",
      "-64\n",
      "-77\n",
      "22\n",
      "-9\n",
      "-20\n",
      "-42\n",
      "-55\n",
      "44\n",
      "13\n",
      "2\n",
      "-20\n",
      "-33\n",
      "31\n",
      "0\n",
      "-11\n",
      "-33\n",
      "-46\n",
      "55\n",
      "24\n",
      "13\n",
      "-9\n",
      "-22\n"
     ]
    }
   ],
   "source": [
    "s = [12,34,56,43,67]\n",
    "f = [12,43,54,76,89]\n",
    "for i in s:\n",
    "    for d in f:\n",
    "        print (i-d)"
   ]
  },
  {
   "cell_type": "code",
   "execution_count": 30,
   "id": "a91fc577",
   "metadata": {},
   "outputs": [
    {
     "name": "stdout",
     "output_type": "stream",
     "text": [
      "3\n"
     ]
    }
   ],
   "source": [
    "s = [12,34,56,43,67]\n",
    "print (s.index(43))"
   ]
  },
  {
   "cell_type": "code",
   "execution_count": 33,
   "id": "1b8c10a8",
   "metadata": {},
   "outputs": [
    {
     "name": "stdout",
     "output_type": "stream",
     "text": [
      "None\n"
     ]
    }
   ],
   "source": [
    "s = [12,34,56,43,67]\n",
    "dc = []\n",
    "f = (s.append(dc))\n",
    "print (f)"
   ]
  },
  {
   "cell_type": "code",
   "execution_count": 34,
   "id": "bcb9cd2c",
   "metadata": {},
   "outputs": [
    {
     "ename": "AttributeError",
     "evalue": "module 'random' has no attribute 'randict'",
     "output_type": "error",
     "traceback": [
      "\u001b[1;31m---------------------------------------------------------------------------\u001b[0m",
      "\u001b[1;31mAttributeError\u001b[0m                            Traceback (most recent call last)",
      "\u001b[1;32m~\\AppData\\Local\\Temp/ipykernel_8492/3631766345.py\u001b[0m in \u001b[0;36m<module>\u001b[1;34m\u001b[0m\n\u001b[0;32m      1\u001b[0m \u001b[1;32mimport\u001b[0m \u001b[0mrandom\u001b[0m\u001b[1;33m\u001b[0m\u001b[1;33m\u001b[0m\u001b[0m\n\u001b[0;32m      2\u001b[0m \u001b[0ms\u001b[0m \u001b[1;33m=\u001b[0m \u001b[1;33m[\u001b[0m\u001b[1;36m12\u001b[0m\u001b[1;33m,\u001b[0m\u001b[1;36m34\u001b[0m\u001b[1;33m,\u001b[0m\u001b[1;36m56\u001b[0m\u001b[1;33m,\u001b[0m\u001b[1;36m43\u001b[0m\u001b[1;33m,\u001b[0m\u001b[1;36m67\u001b[0m\u001b[1;33m]\u001b[0m\u001b[1;33m\u001b[0m\u001b[1;33m\u001b[0m\u001b[0m\n\u001b[1;32m----> 3\u001b[1;33m \u001b[0mprint\u001b[0m \u001b[1;33m(\u001b[0m\u001b[0mrandom\u001b[0m\u001b[1;33m.\u001b[0m\u001b[0mrandict\u001b[0m\u001b[1;33m(\u001b[0m\u001b[0ms\u001b[0m\u001b[1;33m)\u001b[0m\u001b[1;33m)\u001b[0m\u001b[1;33m\u001b[0m\u001b[1;33m\u001b[0m\u001b[0m\n\u001b[0m",
      "\u001b[1;31mAttributeError\u001b[0m: module 'random' has no attribute 'randict'"
     ]
    }
   ],
   "source": [
    "import random\n",
    "s = [12,34,56,43,67]\n",
    "print (random.randict(s))\n"
   ]
  },
  {
   "cell_type": "code",
   "execution_count": 3,
   "id": "c429426d",
   "metadata": {},
   "outputs": [],
   "source": [
    "from collections import Counter"
   ]
  },
  {
   "cell_type": "code",
   "execution_count": 8,
   "id": "a72aeedb",
   "metadata": {},
   "outputs": [
    {
     "name": "stdout",
     "output_type": "stream",
     "text": [
      "Counter({1: 1, 2: 1, 3: 1, 4: 1, 5: 1, 6: 1, 7: 1, 8: 1, 9: 1, 10: 1, 11: 1, 12: 1, 13: 1, 14: 1, 15: 1, 16: 1, 17: 1, 18: 1, 19: 1})\n"
     ]
    }
   ],
   "source": [
    "f = (d for d in range(1,20))\n",
    "print (Counter(f))"
   ]
  },
  {
   "cell_type": "code",
   "execution_count": 9,
   "id": "ad432c56",
   "metadata": {},
   "outputs": [
    {
     "name": "stdout",
     "output_type": "stream",
     "text": [
      "True\n"
     ]
    }
   ],
   "source": [
    "s = [12,34,56,43,67]\n",
    "for i in s:\n",
    "    if i == 43:\n",
    "        print ('True')\n"
   ]
  },
  {
   "cell_type": "code",
   "execution_count": 10,
   "id": "97cb12b9",
   "metadata": {},
   "outputs": [
    {
     "name": "stdout",
     "output_type": "stream",
     "text": [
      "['p', 'q', 'p', 'q', 'p', 'q', 'p', 'q', 'p', 'q']\n"
     ]
    }
   ],
   "source": [
    "Sample =  ['p', 'q']\n",
    "print (Sample*5)\n"
   ]
  },
  {
   "cell_type": "code",
   "execution_count": 11,
   "id": "b3492317",
   "metadata": {},
   "outputs": [
    {
     "name": "stdout",
     "output_type": "stream",
     "text": [
      "['p1', 'q1', 'p2', 'q2', 'p3', 'q3', 'p4', 'q4']\n"
     ]
    }
   ],
   "source": [
    "my_list = ['p', 'q']\n",
    "n = 4\n",
    "new_list = ['{}{}'.format(x, y) for y in range(1, n+1) for x in my_list]\n",
    "print(new_list)\n"
   ]
  },
  {
   "cell_type": "code",
   "execution_count": 17,
   "id": "4c51cfa1",
   "metadata": {},
   "outputs": [],
   "source": [
    "s = [12,34,56,43,67]\n",
    "new = (i for i in s if i in i)\n",
    "\n",
    "          "
   ]
  },
  {
   "cell_type": "code",
   "execution_count": 22,
   "id": "57dee934",
   "metadata": {},
   "outputs": [
    {
     "name": "stdout",
     "output_type": "stream",
     "text": [
      "12\n",
      "34\n",
      "67\n",
      "34\n"
     ]
    }
   ],
   "source": [
    "s = [12,34,56,43,67,34]\n",
    "d = [12,34,67,65,64,54]\n",
    "for i in s:\n",
    "    for s in d:\n",
    "        if i == s:\n",
    "            print (i)"
   ]
  },
  {
   "cell_type": "code",
   "execution_count": 24,
   "id": "e8939bb7",
   "metadata": {},
   "outputs": [
    {
     "name": "stdout",
     "output_type": "stream",
     "text": [
      "11\n",
      "33\n",
      "50\n"
     ]
    }
   ],
   "source": [
    "Sample = [11, 33, 50]\n",
    "for i in Sample:\n",
    "    print (i)\n"
   ]
  },
  {
   "cell_type": "code",
   "execution_count": 30,
   "id": "09a13f30",
   "metadata": {},
   "outputs": [
    {
     "name": "stdout",
     "output_type": "stream",
     "text": [
      "[]\n"
     ]
    }
   ],
   "source": [
    "f = []\n",
    "print ((f)* 3)"
   ]
  },
  {
   "cell_type": "code",
   "execution_count": 32,
   "id": "e140cf83",
   "metadata": {},
   "outputs": [
    {
     "name": "stdout",
     "output_type": "stream",
     "text": [
      "11\n",
      "33\n",
      "50\n"
     ]
    }
   ],
   "source": [
    "Sample = [11, 33, 50]\n",
    "for i in Sample:\n",
    "    print (i)"
   ]
  },
  {
   "cell_type": "code",
   "execution_count": 33,
   "id": "2084fa38",
   "metadata": {},
   "outputs": [
    {
     "name": "stdout",
     "output_type": "stream",
     "text": [
      "1\n",
      "2\n",
      "3\n",
      "4\n"
     ]
    }
   ],
   "source": [
    "for i in range(1,5):\n",
    "    print (i)"
   ]
  },
  {
   "cell_type": "code",
   "execution_count": 1,
   "id": "55d2601e",
   "metadata": {},
   "outputs": [
    {
     "name": "stdout",
     "output_type": "stream",
     "text": [
      "{'a': 1, 'b': 2, 'c': 3}\n"
     ]
    }
   ],
   "source": [
    "# Python3 program to Convert a\n",
    "# list to dictionary\n",
    "\n",
    "def Convert(lst):\n",
    "\tres_dct = {lst[i]: lst[i + 1] for i in range(0, len(lst), 2)}\n",
    "\treturn res_dct\n",
    "\t\t\n",
    "# Driver code\n",
    "lst = ['a', 1, 'b', 2, 'c', 3]\n",
    "print(Convert(lst))\n",
    "\n"
   ]
  },
  {
   "cell_type": "code",
   "execution_count": 8,
   "id": "e9db260d",
   "metadata": {},
   "outputs": [
    {
     "name": "stdout",
     "output_type": "stream",
     "text": [
      "['a', 'd', 'g', 'j', 'm']\n"
     ]
    }
   ],
   "source": [
    "Sample  =  ['a', 'b', 'c', 'd', 'e', 'f', 'g', 'h', 'i', 'j', 'k', 'l', 'm', 'n']\n",
    "print (Sample[0::3])\n"
   ]
  },
  {
   "cell_type": "code",
   "execution_count": 18,
   "id": "d112fa68",
   "metadata": {},
   "outputs": [
    {
     "name": "stdout",
     "output_type": "stream",
     "text": [
      "[1, 3, 5, 7, 9, 2, 4, 6, 8]\n"
     ]
    }
   ],
   "source": [
    "num1 = [1, 3, 5, 7, 9, 10]\n",
    "num2 = [2, 4, 6, 8]\n",
    "num1[-1:] = num2\n",
    "print(num1)\n"
   ]
  },
  {
   "cell_type": "code",
   "execution_count": 19,
   "id": "68befc60",
   "metadata": {},
   "outputs": [
    {
     "name": "stdout",
     "output_type": "stream",
     "text": [
      "['p1', 'q1', 'p2', 'q2', 'p3', 'q3', 'p4', 'q4']\n"
     ]
    }
   ],
   "source": [
    "my_list = ['p', 'q']\n",
    "n = 4\n",
    "new_list = ['{}{}'.format(x, y) for y in range(1, n+1) for x in my_list]\n",
    "print(new_list)\n"
   ]
  },
  {
   "cell_type": "code",
   "execution_count": 23,
   "id": "44632674",
   "metadata": {},
   "outputs": [
    {
     "name": "stdout",
     "output_type": "stream",
     "text": [
      "['emp', 'emp', 'emp', 'emp']\n"
     ]
    }
   ],
   "source": [
    "Sample = [1,2,3,4]\n",
    "string = 'emp'\n",
    "nwe  = ['{}'.format(string) for x in Sample]\n",
    "print (nwe)\n"
   ]
  },
  {
   "cell_type": "code",
   "execution_count": 27,
   "id": "bd8841eb",
   "metadata": {},
   "outputs": [
    {
     "name": "stdout",
     "output_type": "stream",
     "text": [
      "[10, 9, 9, 7, 7, 7, 6, 6, 6, 5, 4, 4, 4, 3, 3, 2, 2, 1, 0, 0, 0, 0, 0, 0, 0, 0, 0]\n"
     ]
    }
   ],
   "source": [
    "X = [3, 4, 0, 0, 0, 6, 2, 0, 6, 7, 6, 0, 0, 0, 9, 10, 7, 4, 4, 5, 3, 0, 0, 2, 9, 7, 1]\n",
    "y =  (sorted(X))\n",
    "print (y[::-1])\n"
   ]
  },
  {
   "cell_type": "code",
   "execution_count": 29,
   "id": "b8fc801a",
   "metadata": {},
   "outputs": [
    {
     "name": "stdout",
     "output_type": "stream",
     "text": [
      "3\n",
      "6\n",
      "12\n",
      "9\n"
     ]
    }
   ],
   "source": [
    "Sample =  [1,2,3], [4,5,6], [10,11,12], [7,8,9]\n",
    "for i in Sample:\n",
    "    #if sum(i) == max(i):\n",
    "        print (max(i))\n"
   ]
  },
  {
   "cell_type": "code",
   "execution_count": 30,
   "id": "e925bbdb",
   "metadata": {},
   "outputs": [],
   "source": [
    "Sample =  [[10, 20], [40], [30, 56, 25], [10, 20], [33], [40]]\n",
    "for i in Sample:\n",
    "    if i in i:\n",
    "        print (i)\n"
   ]
  },
  {
   "cell_type": "code",
   "execution_count": 33,
   "id": "304f0daa",
   "metadata": {},
   "outputs": [],
   "source": [
    "d = ['abcd', 'abc', 'bcd', 'bkie', 'cder', 'cdsw', 'sdfsd', 'dagfa', 'acjd']\n",
    "for (i) in d:\n",
    "    if d[0] == 'a':\n",
    "        print (i)"
   ]
  },
  {
   "cell_type": "code",
   "execution_count": 34,
   "id": "432fc913",
   "metadata": {},
   "outputs": [],
   "source": [
    "Sample = [{},{},{}]\n",
    "d = []\n",
    "if Sample == []:\n",
    "    print ('True')\n"
   ]
  },
  {
   "cell_type": "code",
   "execution_count": 36,
   "id": "eabd1a35",
   "metadata": {},
   "outputs": [
    {
     "name": "stdout",
     "output_type": "stream",
     "text": [
      "None\n",
      "None\n",
      "None\n",
      "None\n",
      "None\n",
      "None\n",
      "None\n",
      "None\n"
     ]
    }
   ],
   "source": [
    "s = [0, 0, 1, 2, 3, 4, 4, 5, 6, 6, 6, 7, 8, 9, 4, 4]\n",
    "for i in s:\n",
    "    if i == i:\n",
    "        print (s.remove(i))\n"
   ]
  },
  {
   "cell_type": "code",
   "execution_count": 53,
   "id": "2137dec2",
   "metadata": {},
   "outputs": [
    {
     "name": "stdout",
     "output_type": "stream",
     "text": [
      "[1, 1, 2, 3, 4, 4, 5, 1]\n"
     ]
    }
   ],
   "source": [
    " g = [1, 1, 2, 3, 4, 4, 5, 1]\n",
    "f = (g[:-5])\n",
    "g =  (g[3:])\n",
    "print (f+g)\n"
   ]
  },
  {
   "cell_type": "code",
   "execution_count": 56,
   "id": "7fbac73f",
   "metadata": {},
   "outputs": [
    {
     "name": "stdout",
     "output_type": "stream",
     "text": [
      "22\n",
      "4\n",
      "-16\n",
      "-9\n",
      "11\n",
      "-12\n",
      "14\n",
      "-5\n",
      "18\n"
     ]
    }
   ],
   "source": [
    "Original = [22.4, 4.0, -16.22, -9.1, 11.0, -12.22, 14.2, -5.2, 17.5]\n",
    "for i in Original:\n",
    "    print (round(i))\n"
   ]
  },
  {
   "cell_type": "code",
   "execution_count": 64,
   "id": "f5a9ed9e",
   "metadata": {},
   "outputs": [
    {
     "name": "stdout",
     "output_type": "stream",
     "text": [
      "[[], [2], [2], [2], [], [2], [2], [2], [], [2], [2], [2], [], [2], [2], [2]]\n"
     ]
    }
   ],
   "source": [
    "d = []\n",
    "for num in range(4):\n",
    "    d.append([])\n",
    "    for f in range(3):\n",
    "        d.append([2])\n",
    "print (d)"
   ]
  },
  {
   "cell_type": "code",
   "execution_count": 67,
   "id": "f429d2da",
   "metadata": {},
   "outputs": [
    {
     "name": "stdout",
     "output_type": "stream",
     "text": [
      "[([1, 3], [2, 4]), ([5, 7], [6, 8]), ([9, 11], [10, 12, 14])]\n"
     ]
    }
   ],
   "source": [
    "d = [[1, 3], [5, 7], [9, 11]]\n",
    "g = [[2, 4], [6, 8], [10, 12, 14]]\n",
    "x = zip(d,g)\n",
    "\n",
    "print (list(x))"
   ]
  },
  {
   "cell_type": "code",
   "execution_count": 70,
   "id": "c644cd63",
   "metadata": {},
   "outputs": [
    {
     "name": "stdout",
     "output_type": "stream",
     "text": [
      "1\n",
      "1\n",
      "1\n",
      "1\n"
     ]
    }
   ],
   "source": [
    "d = [[1, 3], [5, 7], [9, 11], [13, 15, 17]]\n",
    "f = []\n",
    "for list1 in d:\n",
    "    print (d.count(list1))\n"
   ]
  },
  {
   "cell_type": "code",
   "execution_count": 72,
   "id": "92d03174",
   "metadata": {},
   "outputs": [
    {
     "ename": "TypeError",
     "evalue": "'int' object is not iterable",
     "output_type": "error",
     "traceback": [
      "\u001b[1;31m---------------------------------------------------------------------------\u001b[0m",
      "\u001b[1;31mTypeError\u001b[0m                                 Traceback (most recent call last)",
      "\u001b[1;32m~\\AppData\\Local\\Temp/ipykernel_8396/2061554831.py\u001b[0m in \u001b[0;36m<module>\u001b[1;34m\u001b[0m\n\u001b[0;32m      2\u001b[0m \u001b[1;32mfor\u001b[0m \u001b[0mlist1\u001b[0m \u001b[1;32min\u001b[0m \u001b[0md\u001b[0m\u001b[1;33m:\u001b[0m\u001b[1;33m\u001b[0m\u001b[1;33m\u001b[0m\u001b[0m\n\u001b[0;32m      3\u001b[0m     \u001b[0mf\u001b[0m \u001b[1;33m=\u001b[0m \u001b[0mlen\u001b[0m\u001b[1;33m(\u001b[0m\u001b[0mlist1\u001b[0m\u001b[1;33m)\u001b[0m\u001b[1;33m\u001b[0m\u001b[1;33m\u001b[0m\u001b[0m\n\u001b[1;32m----> 4\u001b[1;33m     \u001b[0mprint\u001b[0m \u001b[1;33m(\u001b[0m\u001b[0mmax\u001b[0m\u001b[1;33m(\u001b[0m\u001b[0mf\u001b[0m\u001b[1;33m)\u001b[0m\u001b[1;33m)\u001b[0m\u001b[1;33m\u001b[0m\u001b[1;33m\u001b[0m\u001b[0m\n\u001b[0m",
      "\u001b[1;31mTypeError\u001b[0m: 'int' object is not iterable"
     ]
    }
   ],
   "source": [
    "d = [[0], [1, 3], [5, 7], [9, 11], [13, 15, 17]]\n",
    "for list1 in d:\n",
    "    f = len(list1)\n",
    "    print (max(f))"
   ]
  },
  {
   "cell_type": "code",
   "execution_count": 3,
   "id": "9e9aa19b",
   "metadata": {},
   "outputs": [
    {
     "name": "stdout",
     "output_type": "stream",
     "text": [
      "0\n"
     ]
    }
   ],
   "source": [
    "c = [[1, 3], [5, 7], [1, 11], [1, 15, 7]]\n",
    "for i in c:\n",
    "    x =  (c.count(1))\n",
    "print (x)\n"
   ]
  },
  {
   "cell_type": "code",
   "execution_count": 6,
   "id": "3ab0aa39",
   "metadata": {},
   "outputs": [
    {
     "name": "stdout",
     "output_type": "stream",
     "text": [
      "<enumerate object at 0x000002587C77BD80>\n",
      "<enumerate object at 0x000002587C77BD80>\n",
      "<enumerate object at 0x000002587C77BD80>\n",
      "<enumerate object at 0x000002587C77BD80>\n",
      "<enumerate object at 0x000002587C77BD80>\n",
      "<enumerate object at 0x000002587C77BD80>\n"
     ]
    }
   ],
   "source": [
    "S = [[1, 3], [5, 7], [1, 3], [13, 15, 17], [5, 7], [9, 11]]\n",
    "for i in S:\n",
    "    if i  == i:\n",
    "        print (enumerate(S))\n",
    "     \n"
   ]
  },
  {
   "cell_type": "code",
   "execution_count": 7,
   "id": "1213d642",
   "metadata": {},
   "outputs": [],
   "source": [
    "def sor(lst):\n",
    "    lst1 = sorted(lst,key = len)\n",
    "    return lst1"
   ]
  },
  {
   "cell_type": "code",
   "execution_count": 15,
   "id": "5ee7e5bb",
   "metadata": {},
   "outputs": [],
   "source": [
    "d = [[2], [0], [1, 2, 3], [0, 1, 2, 3, 6, 7], [9, 11], [13, 14, 15, 17]]\n",
    "for d in range(1,20):\n",
    "    if d > 20:\n",
    "        print (d)\n",
    "#d = [[2], [0], [1, 2, 3], [0, 1, 2, 3, 6, 7], [9, 11], [13, 14, 15, 17]]\n",
    "#print (d)\n",
    "        \n"
   ]
  },
  {
   "cell_type": "code",
   "execution_count": 16,
   "id": "d941ee14",
   "metadata": {},
   "outputs": [
    {
     "name": "stdout",
     "output_type": "stream",
     "text": [
      "y\n"
     ]
    },
    {
     "ename": "TypeError",
     "evalue": "'int' object is not iterable",
     "output_type": "error",
     "traceback": [
      "\u001b[1;31m---------------------------------------------------------------------------\u001b[0m",
      "\u001b[1;31mTypeError\u001b[0m                                 Traceback (most recent call last)",
      "\u001b[1;32m~\\AppData\\Local\\Temp/ipykernel_15380/3545428360.py\u001b[0m in \u001b[0;36m<module>\u001b[1;34m\u001b[0m\n\u001b[0;32m      1\u001b[0m \u001b[0md\u001b[0m \u001b[1;33m=\u001b[0m \u001b[1;33m[\u001b[0m\u001b[1;34m'Python'\u001b[0m\u001b[1;33m,\u001b[0m \u001b[1;36m3\u001b[0m\u001b[1;33m,\u001b[0m \u001b[1;36m2\u001b[0m\u001b[1;33m,\u001b[0m \u001b[1;36m4\u001b[0m\u001b[1;33m,\u001b[0m \u001b[1;36m5\u001b[0m\u001b[1;33m,\u001b[0m \u001b[1;34m'version'\u001b[0m\u001b[1;33m]\u001b[0m\u001b[1;33m\u001b[0m\u001b[1;33m\u001b[0m\u001b[0m\n\u001b[0;32m      2\u001b[0m \u001b[1;32mfor\u001b[0m \u001b[0mx\u001b[0m \u001b[1;32min\u001b[0m \u001b[0md\u001b[0m\u001b[1;33m:\u001b[0m\u001b[1;33m\u001b[0m\u001b[1;33m\u001b[0m\u001b[0m\n\u001b[1;32m----> 3\u001b[1;33m     \u001b[0mprint\u001b[0m \u001b[1;33m(\u001b[0m\u001b[0mmax\u001b[0m\u001b[1;33m(\u001b[0m\u001b[0mx\u001b[0m\u001b[1;33m)\u001b[0m\u001b[1;33m)\u001b[0m\u001b[1;33m\u001b[0m\u001b[1;33m\u001b[0m\u001b[0m\n\u001b[0m",
      "\u001b[1;31mTypeError\u001b[0m: 'int' object is not iterable"
     ]
    }
   ],
   "source": [
    "d = ['Python', 3, 2, 4, 5, 'version']\n",
    "for x in d:\n",
    "    print (max(x))\n"
   ]
  },
  {
   "cell_type": "code",
   "execution_count": 18,
   "id": "a17b2bfa",
   "metadata": {},
   "outputs": [
    {
     "name": "stdout",
     "output_type": "stream",
     "text": [
      "0\n",
      "0\n",
      "2\n",
      "3\n",
      "4\n",
      "6\n"
     ]
    }
   ],
   "source": [
    "X = [1, 1, 3, 4, 5, 6, 7]\n",
    "Y = [0, 1, 2, 3, 4, 5, 7]\n",
    "for i in X:\n",
    "    for x in Y:\n",
    "        if i == x:\n",
    "            print (X.index(i))\n",
    "        \n"
   ]
  },
  {
   "cell_type": "code",
   "execution_count": 20,
   "id": "c7e52455",
   "metadata": {},
   "outputs": [
    {
     "name": "stdout",
     "output_type": "stream",
     "text": [
      "[[-2, 4, -5], [1, -1, 1], [1, 2, 3]]\n"
     ]
    }
   ],
   "source": [
    "X = [[1, 2, 3], [-2, 4, -5], [1, -1, 1]]\n",
    "\n",
    "print (sorted(X))"
   ]
  },
  {
   "cell_type": "code",
   "execution_count": 1,
   "id": "e051be20",
   "metadata": {},
   "outputs": [],
   "source": [
    "X = ['Python', 'list', 'exercises', 'practice', 'solution']\n",
    "for i in X:\n",
    "    if len(i) == 5:\n",
    "        print (i)\n"
   ]
  },
  {
   "cell_type": "code",
   "execution_count": 2,
   "id": "c0e89747",
   "metadata": {},
   "outputs": [
    {
     "name": "stdout",
     "output_type": "stream",
     "text": [
      "7\n",
      "None\n"
     ]
    }
   ],
   "source": [
    "def ex(X):\n",
    "    for i in X:\n",
    "        if i == 7:\n",
    "            print (i)\n",
    "X = [1, 1, 3, 4, 4, 5, 6, 7]\n",
    "print (ex(X))"
   ]
  },
  {
   "cell_type": "code",
   "execution_count": 7,
   "id": "de4d40e2",
   "metadata": {},
   "outputs": [
    {
     "name": "stdout",
     "output_type": "stream",
     "text": [
      "Original Nested list:\n",
      "[[1, 2, 3], [2, 4, 5], [1, 1, 1]]\n",
      "After removing 1st column:\n",
      "[[2, 3], [4, 5], [1, 1]]\n",
      "\n",
      "Original Nested list:\n",
      "[[1, 2, 3], [-2, 4, -5], [1, -1, 1]]\n",
      "After removing 3rd column:\n",
      "[[1, 2], [-2, 4], [1, -1]]\n"
     ]
    }
   ],
   "source": [
    "def remove_column(nums, n):\n",
    "   for i in nums: \n",
    "    del i[n] \n",
    "   return nums\n",
    "\n",
    "list1 = [[1, 2, 3], [2, 4, 5], [1, 1, 1]]\n",
    "n = 0\n",
    "print(\"Original Nested list:\")\n",
    "print(list1)\n",
    "print(\"After removing 1st column:\")\n",
    "print(remove_column(list1, n))\n",
    "\n",
    "list2 = [[1, 2, 3], [-2, 4, -5], [1, -1, 1]]\n",
    "n = 2\n",
    "print(\"\\nOriginal Nested list:\")\n",
    "print(list2)\n",
    "print(\"After removing 3rd column:\")\n",
    "print(remove_column(list2, n))\n"
   ]
  },
  {
   "cell_type": "code",
   "execution_count": 9,
   "id": "dd09e229",
   "metadata": {},
   "outputs": [
    {
     "name": "stdout",
     "output_type": "stream",
     "text": [
      "2\n",
      "4\n",
      "1\n",
      "None\n"
     ]
    }
   ],
   "source": [
    "def ns(nums, n):\n",
    "    for i in nums:\n",
    "        print (i[n])\n",
    "nums = [[1, 2, 3], [2, 4, 5], [1, 1, 1]]\n",
    "n = 1\n",
    "print (ns(nums,n))"
   ]
  },
  {
   "cell_type": "code",
   "execution_count": 17,
   "id": "5de42868",
   "metadata": {},
   "outputs": [
    {
     "name": "stdout",
     "output_type": "stream",
     "text": [
      "[1, 2, 3, 4, 5, 6, 7, 8, 9]\n"
     ]
    }
   ],
   "source": [
    "d = [1, 2, 3, 4, 5, 6, 7, 8, 9, 10]\n",
    "print (d[:-1])\n"
   ]
  },
  {
   "cell_type": "code",
   "execution_count": 2,
   "id": "3fc450e9",
   "metadata": {},
   "outputs": [],
   "source": [
    "d = [[12, 18, 23, 25, 45], [7, 12, 18, 24, 28], [1, 5, 8, 12, 15, 16, 18]]\n",
    "for  i in d:\n",
    "    if i != i:\n",
    "        print (i)\n"
   ]
  },
  {
   "cell_type": "code",
   "execution_count": 7,
   "id": "1e6bb94d",
   "metadata": {},
   "outputs": [
    {
     "name": "stdout",
     "output_type": "stream",
     "text": [
      "deR\n",
      "neerG\n",
      "eulB\n",
      "etihW\n",
      "kcalB\n"
     ]
    }
   ],
   "source": [
    "X = ['Red', 'Green', 'Blue', 'White', 'Black']\n",
    "for  i in X:\n",
    "    print (i[::-1])"
   ]
  },
  {
   "cell_type": "code",
   "execution_count": 11,
   "id": "98d4a8fd",
   "metadata": {},
   "outputs": [],
   "source": [
    "Original = [10, 20, 30, 40, 20, 50, 60, 40]\n",
    "for i in Original:\n",
    "    if i!= i :\n",
    "        print (i*i)"
   ]
  },
  {
   "cell_type": "code",
   "execution_count": 14,
   "id": "eb8ec93c",
   "metadata": {},
   "outputs": [
    {
     "ename": "TypeError",
     "evalue": "'int' object is not iterable",
     "output_type": "error",
     "traceback": [
      "\u001b[1;31m---------------------------------------------------------------------------\u001b[0m",
      "\u001b[1;31mTypeError\u001b[0m                                 Traceback (most recent call last)",
      "\u001b[1;32m~\\AppData\\Local\\Temp/ipykernel_3152/3340053942.py\u001b[0m in \u001b[0;36m<module>\u001b[1;34m\u001b[0m\n\u001b[0;32m      2\u001b[0m \u001b[1;32mfor\u001b[0m \u001b[0mi\u001b[0m \u001b[1;32min\u001b[0m \u001b[0ms\u001b[0m\u001b[1;33m:\u001b[0m\u001b[1;33m\u001b[0m\u001b[1;33m\u001b[0m\u001b[0m\n\u001b[0;32m      3\u001b[0m     \u001b[1;32mif\u001b[0m \u001b[0mi\u001b[0m \u001b[1;32min\u001b[0m \u001b[0mrange\u001b[0m\u001b[1;33m(\u001b[0m\u001b[1;36m8\u001b[0m\u001b[1;33m,\u001b[0m\u001b[1;36m10\u001b[0m\u001b[1;33m)\u001b[0m\u001b[1;33m:\u001b[0m\u001b[1;33m\u001b[0m\u001b[1;33m\u001b[0m\u001b[0m\n\u001b[1;32m----> 4\u001b[1;33m         \u001b[0mprint\u001b[0m \u001b[1;33m(\u001b[0m\u001b[0msum\u001b[0m\u001b[1;33m(\u001b[0m\u001b[0mi\u001b[0m\u001b[1;33m)\u001b[0m\u001b[1;33m)\u001b[0m\u001b[1;33m\u001b[0m\u001b[1;33m\u001b[0m\u001b[0m\n\u001b[0m",
      "\u001b[1;31mTypeError\u001b[0m: 'int' object is not iterable"
     ]
    }
   ],
   "source": [
    "s = [2, 1, 5, 6, 8, 3, 4, 9, 10, 11, 8, 12]\n",
    "for i in s:\n",
    "    if i in range(8,10):\n",
    "        print (sum(i))\n"
   ]
  },
  {
   "cell_type": "code",
   "execution_count": 16,
   "id": "8e907c06",
   "metadata": {},
   "outputs": [],
   "source": [
    "A =[1, 2, 3, 4, 5, 6, 7, 8]\n",
    "B = [2, 2, 3, 1, 2, 6, 7, 9]\n",
    "C = [2, 1, 3, 1, 2, 6, 7, 9]\n",
    "def ch(A,B,C):\n",
    "    for i in A:\n",
    "        for s in B:\n",
    "            for f in C:\n",
    "                if i==s==f:\n",
    "                    print (sum(i,s,f))\n"
   ]
  },
  {
   "cell_type": "code",
   "execution_count": 21,
   "id": "c6c54869",
   "metadata": {},
   "outputs": [],
   "source": [
    "s = [1, 2, 2, 2, 4, 4, 4, 5, 5, 5, 5]\n",
    "for i in s:\n",
    "    if i!=i:\n",
    "        print  (enumerate (i))\n",
    "        "
   ]
  },
  {
   "cell_type": "code",
   "execution_count": 30,
   "id": "4e50cfa9",
   "metadata": {},
   "outputs": [
    {
     "name": "stdout",
     "output_type": "stream",
     "text": [
      "7\n",
      "3\n"
     ]
    }
   ],
   "source": [
    "s = [12, 33, 23, 10, 67, 89, 45, 667, 23, 12, 11, 10, 54]\n",
    "ret = max(i for i in s)\n",
    "rty = min(i for i in s)\n",
    "print (s.index(ret))\n",
    "print (s.index(rty))"
   ]
  },
  {
   "cell_type": "code",
   "execution_count": 32,
   "id": "bcedde80",
   "metadata": {},
   "outputs": [
    {
     "name": "stdout",
     "output_type": "stream",
     "text": [
      "True\n",
      "True\n",
      "True\n"
     ]
    }
   ],
   "source": [
    "color1 = ['red', 'green', 'black', 'orange']\n",
    "color2 =['red', 'pink', 'green', 'white', 'black']\n",
    "color3 = ['white', 'orange', 'pink', 'black']\n",
    "for i in color1:\n",
    "    for s in color2:\n",
    "        if s == i:\n",
    "            print ('True')\n",
    "\n"
   ]
  },
  {
   "cell_type": "code",
   "execution_count": 35,
   "id": "c8987139",
   "metadata": {},
   "outputs": [
    {
     "name": "stdout",
     "output_type": "stream",
     "text": [
      "1\n",
      "1\n",
      "2\n",
      "3\n",
      "3\n",
      "4\n",
      "4\n",
      "5\n"
     ]
    }
   ],
   "source": [
    "A = [1, 1, 2, 3, 3, 4, 4, 5]\n",
    "for i in A:\n",
    "    print ((i))\n"
   ]
  },
  {
   "cell_type": "code",
   "execution_count": 38,
   "id": "d76f9a72",
   "metadata": {},
   "outputs": [
    {
     "name": "stdout",
     "output_type": "stream",
     "text": [
      "Original list:\n",
      "[19, 'red', 12, 'green', 'blue', 10, 'white', 'green', 1]\n",
      "\n",
      "Sort the said  mixed list of integers and strings:\n",
      "[1, 10, 12, 19, 'blue', 'green', 'green', 'red', 'white']\n"
     ]
    }
   ],
   "source": [
    "def sort_mixed_list(mixed_list):\n",
    "    int_part = sorted([i for i in mixed_list if type(i) is int])\n",
    "    str_part = sorted([i for i in mixed_list if type(i) is str])\n",
    "    return int_part + str_part\n",
    "mixed_list = [19,'red',12,'green','blue', 10,'white','green',1]\n",
    "print(\"Original list:\")\n",
    "print(mixed_list)\n",
    "print(\"\\nSort the said  mixed list of integers and strings:\")\n",
    "print(sort_mixed_list(mixed_list))\n"
   ]
  },
  {
   "cell_type": "code",
   "execution_count": 39,
   "id": "bfc4bf50",
   "metadata": {},
   "outputs": [
    {
     "name": "stdout",
     "output_type": "stream",
     "text": [
      "['-12', '-500', '0', '100', '12', '200', '4', '45', '7']\n"
     ]
    }
   ],
   "source": [
    "s = ['4', '12', '45', '7', '0', '100', '200', '-12', '-500']\n",
    "print (sorted(s))\n"
   ]
  },
  {
   "cell_type": "code",
   "execution_count": 42,
   "id": "bce753ba",
   "metadata": {},
   "outputs": [
    {
     "name": "stdout",
     "output_type": "stream",
     "text": [
      "None\n",
      "None\n",
      "None\n"
     ]
    }
   ],
   "source": [
    "D = [[], [], [], 'Red', 'Green', [1, 2], 'Blue', [], []]\n",
    "g = []\n",
    "for i in D:\n",
    "    if i == []:\n",
    "        print (D.remove(i))\n",
    "    \n"
   ]
  },
  {
   "cell_type": "code",
   "execution_count": 43,
   "id": "51a08b72",
   "metadata": {},
   "outputs": [
    {
     "name": "stdout",
     "output_type": "stream",
     "text": [
      "Original list of lists:\n",
      "[[1, 2, 3, 2], [4, 5, 6, 2], [7, 8, 9, 5]]\n",
      "\n",
      "Sum: 1st column of the said list of lists:\n",
      "12\n",
      "\n",
      "Sum: 2nd column of the said list of lists:\n",
      "15\n",
      "\n",
      "Sum: 4th column of the said list of lists:\n",
      "9\n"
     ]
    }
   ],
   "source": [
    "def sum_column(nums, C):\n",
    "    result = sum(row[C] for row in nums)\n",
    "    return result\n",
    "\n",
    "nums = [\n",
    "        [1,2,3,2],\n",
    "        [4,5,6,2],\n",
    "        [7,8,9,5],\n",
    "        ]\n",
    "print(\"Original list of lists:\")\n",
    "print(nums)\n",
    "\n",
    "column = 0\n",
    "print(\"\\nSum: 1st column of the said list of lists:\")\n",
    "print(sum_column(nums, column))\n",
    "column = 1\n",
    "print(\"\\nSum: 2nd column of the said list of lists:\")\n",
    "print(sum_column(nums, column))\n",
    "column = 3\n",
    "print(\"\\nSum: 4th column of the said list of lists:\")\n",
    "print(sum_column(nums, column))\n"
   ]
  },
  {
   "cell_type": "code",
   "execution_count": 44,
   "id": "3333da3d",
   "metadata": {},
   "outputs": [
    {
     "name": "stdout",
     "output_type": "stream",
     "text": [
      "<enumerate object at 0x000001FBC42C36C0>\n",
      "<enumerate object at 0x000001FBC42C36C0>\n",
      "<enumerate object at 0x000001FBC42C36C0>\n"
     ]
    }
   ],
   "source": [
    "s = [[1, 2, 3, 2], [4, 5, 6, 2], [7, 8, 9, 5]]\n",
    "for i in s:\n",
    "    print (enumerate(i))\n"
   ]
  },
  {
   "cell_type": "code",
   "execution_count": 45,
   "id": "c20b4b36",
   "metadata": {},
   "outputs": [],
   "source": [
    "def specified_element(nums, N):\n",
    "    result = [i[N] for i in nums]\n",
    "    return result\n",
    "    \n",
    "\n"
   ]
  },
  {
   "cell_type": "code",
   "execution_count": 47,
   "id": "bf512dec",
   "metadata": {},
   "outputs": [],
   "source": [
    "for s in range(1,10):\n",
    "    if s == (2,9,10):\n",
    "        break\n",
    "        print (s)"
   ]
  },
  {
   "cell_type": "code",
   "execution_count": 48,
   "id": "d01d38e5",
   "metadata": {},
   "outputs": [
    {
     "name": "stdout",
     "output_type": "stream",
     "text": [
      "\n",
      "Generate a number in a specified range (1, 10) except [2, 9, 10]\n",
      "3\n",
      "\n",
      "Generate a number in a specified range (-5, 5) except [-5,0,4,3,2]\n",
      "-3\n"
     ]
    }
   ],
   "source": [
    "from random import choice\n",
    "def generate_random(start_range, end_range, nums):\n",
    "    result = choice([i for i in range(start_range,end_range) if i not in nums])\n",
    "    return result\n",
    "   \n",
    "start_range = 1\n",
    "end_range = 10\n",
    "nums = [2, 9, 10]\n",
    "print(\"\\nGenerate a number in a specified range (1, 10) except [2, 9, 10]\")\n",
    "print(generate_random(start_range,end_range,nums))\n",
    "\n",
    "start_range = -5\n",
    "end_range = 5\n",
    "nums = [-5,0,4,3,2]\n",
    "\n",
    "print(\"\\nGenerate a number in a specified range (-5, 5) except [-5,0,4,3,2]\")\n",
    "print(generate_random(start_range,end_range,nums))\n"
   ]
  },
  {
   "cell_type": "code",
   "execution_count": 53,
   "id": "4318fcd6",
   "metadata": {},
   "outputs": [
    {
     "name": "stdout",
     "output_type": "stream",
     "text": [
      "68\n"
     ]
    }
   ],
   "source": [
    "x = [10, 2, 56]\n",
    "resut = sum(int(el) for el in x)\n",
    "print (resut)\n"
   ]
  },
  {
   "cell_type": "code",
   "execution_count": 56,
   "id": "18c821a6",
   "metadata": {},
   "outputs": [],
   "source": [
    "from itertools import permutations \n",
    "#Z = ['orange', 'red', 'green', 'blue']\n",
    "perm = permutations( ['orange', 'red', 'green', 'blue'], 5) \n",
    "for i in list(perm):\n",
    "        print (i) \n",
    "\n",
    "\n"
   ]
  },
  {
   "cell_type": "code",
   "execution_count": 58,
   "id": "465c2a9b",
   "metadata": {},
   "outputs": [
    {
     "name": "stdout",
     "output_type": "stream",
     "text": [
      "[['white', 'black', 'pink'], ['green', 'blue'], ['orange', 'red']]\n"
     ]
    }
   ],
   "source": [
    "X = [['orange', 'red'], ['green', 'blue'], ['white', 'black', 'pink']]\n",
    "print (X[::-1])\n"
   ]
  },
  {
   "cell_type": "code",
   "execution_count": 59,
   "id": "d9fead79",
   "metadata": {},
   "outputs": [],
   "source": [
    "X =[[10, 20], [30, 40], [50, 60], [30, 20, 80]]\n",
    "Y = [[61], [12, 14, 15], [12, 13, 19, 20], [12]]\n",
    "def jo(X,Y,N):\n",
    "    if len[X] == len[Y]:\n",
    "        Print (X+Y)"
   ]
  },
  {
   "cell_type": "code",
   "execution_count": 61,
   "id": "ccd29e14",
   "metadata": {},
   "outputs": [
    {
     "name": "stdout",
     "output_type": "stream",
     "text": [
      "[7, 13]\n"
     ]
    }
   ],
   "source": [
    "X =[2, 4, 7, 0, 5, 8]\n",
    "Y =[2, 5, 8]\n",
    "Z =[0, 1]\n",
    "G =[3, 3, -1, 7]\n",
    "\n",
    "result = [r+i+u+o for r,i,u,o in zip(X,Y,Z,G)]\n",
    "print (result)\n"
   ]
  },
  {
   "cell_type": "code",
   "execution_count": 63,
   "id": "7747d95b",
   "metadata": {},
   "outputs": [
    {
     "name": "stdout",
     "output_type": "stream",
     "text": [
      "('X', 70)\n"
     ]
    }
   ],
   "source": [
    "A = [('V', 60), ('VI', 70), ('VII', 75), ('VIII', 72), ('IX', 78), ('X', 70)]\n",
    "s = max(i for i in A)\n",
    "print (s)"
   ]
  },
  {
   "cell_type": "code",
   "execution_count": 65,
   "id": "b7db8dfe",
   "metadata": {},
   "outputs": [],
   "source": [
    "def df(X,N):\n",
    "    D = []\n",
    "    return D.appen(X)\n",
    "    "
   ]
  },
  {
   "cell_type": "code",
   "execution_count": 1,
   "id": "2541d57e",
   "metadata": {},
   "outputs": [
    {
     "ename": "ModuleNotFoundError",
     "evalue": "No module named 'colections'",
     "output_type": "error",
     "traceback": [
      "\u001b[1;31m---------------------------------------------------------------------------\u001b[0m",
      "\u001b[1;31mModuleNotFoundError\u001b[0m                       Traceback (most recent call last)",
      "\u001b[1;32m~\\AppData\\Local\\Temp/ipykernel_13516/2958198296.py\u001b[0m in \u001b[0;36m<module>\u001b[1;34m\u001b[0m\n\u001b[1;32m----> 1\u001b[1;33m \u001b[1;32mfrom\u001b[0m \u001b[0mcolections\u001b[0m \u001b[1;32mimport\u001b[0m \u001b[0mCounter\u001b[0m\u001b[1;33m\u001b[0m\u001b[1;33m\u001b[0m\u001b[0m\n\u001b[0m\u001b[0;32m      2\u001b[0m \u001b[0ms\u001b[0m \u001b[1;33m=\u001b[0m \u001b[1;33m[\u001b[0m\u001b[1;34m's'\u001b[0m\u001b[1;33m,\u001b[0m \u001b[1;34m'd'\u001b[0m\u001b[1;33m,\u001b[0m \u001b[1;34m'f'\u001b[0m\u001b[1;33m,\u001b[0m \u001b[1;34m's'\u001b[0m\u001b[1;33m,\u001b[0m \u001b[1;34m'd'\u001b[0m\u001b[1;33m,\u001b[0m \u001b[1;34m'f'\u001b[0m\u001b[1;33m,\u001b[0m \u001b[1;34m's'\u001b[0m\u001b[1;33m,\u001b[0m \u001b[1;34m'f'\u001b[0m\u001b[1;33m,\u001b[0m \u001b[1;34m'k'\u001b[0m\u001b[1;33m,\u001b[0m \u001b[1;34m'o'\u001b[0m\u001b[1;33m,\u001b[0m \u001b[1;34m'p'\u001b[0m\u001b[1;33m,\u001b[0m \u001b[1;34m'i'\u001b[0m\u001b[1;33m,\u001b[0m \u001b[1;34m'w'\u001b[0m\u001b[1;33m,\u001b[0m \u001b[1;34m'e'\u001b[0m\u001b[1;33m,\u001b[0m \u001b[1;34m'k'\u001b[0m\u001b[1;33m,\u001b[0m \u001b[1;34m'c'\u001b[0m\u001b[1;33m]\u001b[0m\u001b[1;33m\u001b[0m\u001b[1;33m\u001b[0m\u001b[0m\n\u001b[0;32m      3\u001b[0m \u001b[1;32mfor\u001b[0m \u001b[0mi\u001b[0m \u001b[1;32min\u001b[0m \u001b[0ms\u001b[0m\u001b[1;33m:\u001b[0m\u001b[1;33m\u001b[0m\u001b[1;33m\u001b[0m\u001b[0m\n\u001b[0;32m      4\u001b[0m     \u001b[0mprint\u001b[0m \u001b[1;33m(\u001b[0m\u001b[0ms\u001b[0m\u001b[1;33m.\u001b[0m\u001b[0mCo\u001b[0m\u001b[1;33m)\u001b[0m\u001b[1;33m\u001b[0m\u001b[1;33m\u001b[0m\u001b[0m\n",
      "\u001b[1;31mModuleNotFoundError\u001b[0m: No module named 'colections'"
     ]
    }
   ],
   "source": [
    "from colections import Counter\n",
    "s = ['s', 'd', 'f', 's', 'd', 'f', 's', 'f', 'k', 'o', 'p', 'i', 'w', 'e', 'k', 'c']\n",
    "for i in s:\n",
    "    print (s.Co)"
   ]
  },
  {
   "cell_type": "code",
   "execution_count": 5,
   "id": "5d4767a1",
   "metadata": {},
   "outputs": [
    {
     "name": "stdout",
     "output_type": "stream",
     "text": [
      "4\n",
      "5\n",
      "6\n",
      "7\n",
      "12\n"
     ]
    }
   ],
   "source": [
    "s = [12, 45, 23, 67, 78, 90, 100, 76, 38, 62, 73, 29, 83]\n",
    "for i in s:\n",
    "    if i > 73:\n",
    "        print (s.index(i))\n"
   ]
  },
  {
   "cell_type": "code",
   "execution_count": 6,
   "id": "c1195689",
   "metadata": {},
   "outputs": [
    {
     "ename": "AttributeError",
     "evalue": "'list' object has no attribute 'split'",
     "output_type": "error",
     "traceback": [
      "\u001b[1;31m---------------------------------------------------------------------------\u001b[0m",
      "\u001b[1;31mAttributeError\u001b[0m                            Traceback (most recent call last)",
      "\u001b[1;32m~\\AppData\\Local\\Temp/ipykernel_13516/4138835227.py\u001b[0m in \u001b[0;36m<module>\u001b[1;34m\u001b[0m\n\u001b[0;32m      1\u001b[0m \u001b[0mX\u001b[0m \u001b[1;33m=\u001b[0m \u001b[1;33m[\u001b[0m\u001b[1;34m'Red'\u001b[0m\u001b[1;33m,\u001b[0m \u001b[1;34m'Maroon'\u001b[0m\u001b[1;33m,\u001b[0m \u001b[1;34m'Yellow'\u001b[0m\u001b[1;33m,\u001b[0m \u001b[1;34m'Olive'\u001b[0m\u001b[1;33m]\u001b[0m\u001b[1;33m\u001b[0m\u001b[1;33m\u001b[0m\u001b[0m\n\u001b[0;32m      2\u001b[0m \u001b[1;32mfor\u001b[0m \u001b[0mi\u001b[0m \u001b[1;32min\u001b[0m \u001b[0mX\u001b[0m\u001b[1;33m:\u001b[0m\u001b[1;33m\u001b[0m\u001b[1;33m\u001b[0m\u001b[0m\n\u001b[1;32m----> 3\u001b[1;33m     \u001b[0mprint\u001b[0m \u001b[1;33m(\u001b[0m\u001b[0mX\u001b[0m\u001b[1;33m.\u001b[0m\u001b[0msplit\u001b[0m\u001b[1;33m(\u001b[0m\u001b[0mi\u001b[0m\u001b[1;33m)\u001b[0m\u001b[1;33m)\u001b[0m\u001b[1;33m\u001b[0m\u001b[1;33m\u001b[0m\u001b[0m\n\u001b[0m",
      "\u001b[1;31mAttributeError\u001b[0m: 'list' object has no attribute 'split'"
     ]
    }
   ],
   "source": [
    "X = ['Red', 'Maroon', 'Yellow', 'Olive']\n",
    "for i in X:\n",
    "    print (X.split(i))\n"
   ]
  },
  {
   "cell_type": "code",
   "execution_count": 7,
   "id": "d3b12ed8",
   "metadata": {},
   "outputs": [
    {
     "name": "stdout",
     "output_type": "stream",
     "text": [
      "red\n",
      "white\n",
      "a\n",
      "b\n",
      "black\n",
      "f\n"
     ]
    }
   ],
   "source": [
    "s = ['red', 'white', 'a', 'b', 'black', 'f']\n",
    "for i in s:\n",
    "    print (i)\n"
   ]
  },
  {
   "cell_type": "code",
   "execution_count": 13,
   "id": "c5c2fd82",
   "metadata": {},
   "outputs": [
    {
     "ename": "SyntaxError",
     "evalue": "'return' outside function (Temp/ipykernel_13516/2899302877.py, line 3)",
     "output_type": "error",
     "traceback": [
      "\u001b[1;36m  File \u001b[1;32m\"C:\\Users\\win10\\AppData\\Local\\Temp/ipykernel_13516/2899302877.py\"\u001b[1;36m, line \u001b[1;32m3\u001b[0m\n\u001b[1;33m    return V.insert(i[2], 'a')\u001b[0m\n\u001b[1;37m    ^\u001b[0m\n\u001b[1;31mSyntaxError\u001b[0m\u001b[1;31m:\u001b[0m 'return' outside function\n"
     ]
    }
   ],
   "source": [
    "V = [1, 2, 3, 4, 5, 6, 7, 8, 9, 0]\n",
    "for i in V:\n",
    "     return V.insert(i[2], 'a')\n",
    "print (V)"
   ]
  },
  {
   "cell_type": "code",
   "execution_count": 19,
   "id": "9f5ebcca",
   "metadata": {},
   "outputs": [
    {
     "ename": "TypeError",
     "evalue": "'list' object cannot be interpreted as an integer",
     "output_type": "error",
     "traceback": [
      "\u001b[1;31m---------------------------------------------------------------------------\u001b[0m",
      "\u001b[1;31mTypeError\u001b[0m                                 Traceback (most recent call last)",
      "\u001b[1;32m~\\AppData\\Local\\Temp/ipykernel_13516/2411978213.py\u001b[0m in \u001b[0;36m<module>\u001b[1;34m\u001b[0m\n\u001b[0;32m      6\u001b[0m \u001b[0md\u001b[0m \u001b[1;33m=\u001b[0m \u001b[1;33m[\u001b[0m\u001b[1;36m2\u001b[0m\u001b[1;33m,\u001b[0m \u001b[1;36m3\u001b[0m\u001b[1;33m,\u001b[0m \u001b[1;36m9\u001b[0m\u001b[1;33m,\u001b[0m \u001b[1;36m8\u001b[0m\u001b[1;33m,\u001b[0m \u001b[1;36m2\u001b[0m\u001b[1;33m,\u001b[0m \u001b[1;36m0\u001b[0m\u001b[1;33m,\u001b[0m \u001b[1;36m39\u001b[0m\u001b[1;33m,\u001b[0m \u001b[1;36m84\u001b[0m\u001b[1;33m,\u001b[0m \u001b[1;36m2\u001b[0m\u001b[1;33m,\u001b[0m \u001b[1;36m2\u001b[0m\u001b[1;33m,\u001b[0m \u001b[1;36m34\u001b[0m\u001b[1;33m,\u001b[0m \u001b[1;36m2\u001b[0m\u001b[1;33m,\u001b[0m \u001b[1;36m34\u001b[0m\u001b[1;33m,\u001b[0m \u001b[1;36m5\u001b[0m\u001b[1;33m,\u001b[0m \u001b[1;36m3\u001b[0m\u001b[1;33m,\u001b[0m \u001b[1;36m5\u001b[0m\u001b[1;33m]\u001b[0m\u001b[1;33m\u001b[0m\u001b[1;33m\u001b[0m\u001b[0m\n\u001b[0;32m      7\u001b[0m \u001b[0mn\u001b[0m \u001b[1;33m=\u001b[0m \u001b[0md\u001b[0m\u001b[1;33m[\u001b[0m\u001b[1;33m:\u001b[0m\u001b[1;33m-\u001b[0m\u001b[1;36m4\u001b[0m\u001b[1;33m]\u001b[0m\u001b[1;33m\u001b[0m\u001b[1;33m\u001b[0m\u001b[0m\n\u001b[1;32m----> 8\u001b[1;33m \u001b[0mprint\u001b[0m \u001b[1;33m(\u001b[0m\u001b[0mdf\u001b[0m\u001b[1;33m(\u001b[0m\u001b[0md\u001b[0m\u001b[1;33m,\u001b[0m\u001b[0mn\u001b[0m\u001b[1;33m)\u001b[0m\u001b[1;33m)\u001b[0m\u001b[1;33m\u001b[0m\u001b[1;33m\u001b[0m\u001b[0m\n\u001b[0m\u001b[0;32m      9\u001b[0m \u001b[1;33m\u001b[0m\u001b[0m\n",
      "\u001b[1;32m~\\AppData\\Local\\Temp/ipykernel_13516/2411978213.py\u001b[0m in \u001b[0;36mdf\u001b[1;34m(d, n)\u001b[0m\n\u001b[0;32m      3\u001b[0m     \u001b[0mn\u001b[0m \u001b[1;33m=\u001b[0m \u001b[0md\u001b[0m\u001b[1;33m[\u001b[0m\u001b[1;33m:\u001b[0m\u001b[1;33m-\u001b[0m\u001b[1;36m4\u001b[0m\u001b[1;33m]\u001b[0m\u001b[1;33m\u001b[0m\u001b[1;33m\u001b[0m\u001b[0m\n\u001b[0;32m      4\u001b[0m     \u001b[1;32mfor\u001b[0m \u001b[0mi\u001b[0m \u001b[1;32min\u001b[0m \u001b[0md\u001b[0m\u001b[1;33m:\u001b[0m\u001b[1;33m\u001b[0m\u001b[1;33m\u001b[0m\u001b[0m\n\u001b[1;32m----> 5\u001b[1;33m         \u001b[0mprint\u001b[0m \u001b[1;33m(\u001b[0m\u001b[0md\u001b[0m\u001b[1;33m.\u001b[0m\u001b[0mpop\u001b[0m\u001b[1;33m(\u001b[0m\u001b[0mn\u001b[0m\u001b[1;33m)\u001b[0m\u001b[1;33m)\u001b[0m\u001b[1;33m\u001b[0m\u001b[1;33m\u001b[0m\u001b[0m\n\u001b[0m\u001b[0;32m      6\u001b[0m \u001b[0md\u001b[0m \u001b[1;33m=\u001b[0m \u001b[1;33m[\u001b[0m\u001b[1;36m2\u001b[0m\u001b[1;33m,\u001b[0m \u001b[1;36m3\u001b[0m\u001b[1;33m,\u001b[0m \u001b[1;36m9\u001b[0m\u001b[1;33m,\u001b[0m \u001b[1;36m8\u001b[0m\u001b[1;33m,\u001b[0m \u001b[1;36m2\u001b[0m\u001b[1;33m,\u001b[0m \u001b[1;36m0\u001b[0m\u001b[1;33m,\u001b[0m \u001b[1;36m39\u001b[0m\u001b[1;33m,\u001b[0m \u001b[1;36m84\u001b[0m\u001b[1;33m,\u001b[0m \u001b[1;36m2\u001b[0m\u001b[1;33m,\u001b[0m \u001b[1;36m2\u001b[0m\u001b[1;33m,\u001b[0m \u001b[1;36m34\u001b[0m\u001b[1;33m,\u001b[0m \u001b[1;36m2\u001b[0m\u001b[1;33m,\u001b[0m \u001b[1;36m34\u001b[0m\u001b[1;33m,\u001b[0m \u001b[1;36m5\u001b[0m\u001b[1;33m,\u001b[0m \u001b[1;36m3\u001b[0m\u001b[1;33m,\u001b[0m \u001b[1;36m5\u001b[0m\u001b[1;33m]\u001b[0m\u001b[1;33m\u001b[0m\u001b[1;33m\u001b[0m\u001b[0m\n\u001b[0;32m      7\u001b[0m \u001b[0mn\u001b[0m \u001b[1;33m=\u001b[0m \u001b[0md\u001b[0m\u001b[1;33m[\u001b[0m\u001b[1;33m:\u001b[0m\u001b[1;33m-\u001b[0m\u001b[1;36m4\u001b[0m\u001b[1;33m]\u001b[0m\u001b[1;33m\u001b[0m\u001b[1;33m\u001b[0m\u001b[0m\n",
      "\u001b[1;31mTypeError\u001b[0m: 'list' object cannot be interpreted as an integer"
     ]
    }
   ],
   "source": [
    "d = [2, 3, 9, 8, 2, 0, 39, 84, 2, 2, 34, 2, 34, 5, 3, 5]\n",
    "def df(d, n):\n",
    "    n = d[:-4]\n",
    "    for i in d:\n",
    "        print (d.pop(n))\n",
    "d = [2, 3, 9, 8, 2, 0, 39, 84, 2, 2, 34, 2, 34, 5, 3, 5]\n",
    "n = d[:-4]\n",
    "print (df(d,n))        \n",
    "    \n"
   ]
  },
  {
   "cell_type": "code",
   "execution_count": 20,
   "id": "95d2c722",
   "metadata": {},
   "outputs": [
    {
     "name": "stdout",
     "output_type": "stream",
     "text": [
      "Original lists:\n",
      "[2, 3, 9, 8, 2, 0, 39, 84, 2, 2, 34, 2, 34, 5, 3, 5]\n",
      "\n",
      "Remove the last 3 elements from the said list:\n",
      "[2, 3, 9, 8, 2, 0, 39, 84, 2, 2, 34, 2, 34]\n",
      "\n",
      "Remove the last 5 elements from the said list:\n",
      "[2, 3, 9, 8, 2, 0, 39, 84, 2, 2, 34]\n",
      "\n",
      "Remove the last 1 element from the said list:\n",
      "[2, 3, 9, 8, 2, 0, 39, 84, 2, 2, 34, 2, 34, 5, 3]\n"
     ]
    }
   ],
   "source": [
    "def remove_last_n(nums, N):\n",
    "    result = nums[:len(nums)-N]\n",
    "    return result    \n",
    "nums = [2,3,9,8,2,0,39,84,2,2,34,2,34,5,3,5]\n",
    "print(\"Original lists:\")\n",
    "print(nums)\n",
    "N = 3\n",
    "print(\"\\nRemove the last\",N,\"elements from the said list:\")\n",
    "print(remove_last_n(nums, N))\n",
    "N = 5\n",
    "print(\"\\nRemove the last\",N,\"elements from the said list:\")\n",
    "print(remove_last_n(nums, N))\n",
    "N = 1\n",
    "print(\"\\nRemove the last\",N,\"element from the said list:\")\n",
    "print(remove_last_n(nums, N))\n"
   ]
  },
  {
   "cell_type": "code",
   "execution_count": 30,
   "id": "e208d9cb",
   "metadata": {},
   "outputs": [
    {
     "name": "stdout",
     "output_type": "stream",
     "text": [
      "['c', 'd']\n"
     ]
    }
   ],
   "source": [
    "s = ['a', 'b', 'c', 'd', 'e', 'f', 'g']\n",
    "f = s[2:4]\n",
    "\n",
    "print (f)\n"
   ]
  },
  {
   "cell_type": "code",
   "execution_count": 31,
   "id": "c038bd93",
   "metadata": {},
   "outputs": [
    {
     "name": "stdout",
     "output_type": "stream",
     "text": [
      "6\n",
      "11\n",
      "12\n",
      "7\n",
      "8\n",
      "3\n",
      "8\n",
      "3\n",
      "6\n"
     ]
    }
   ],
   "source": [
    "s = [3, 8, 9, 4, 5, 0, 5, 0, 3]\n",
    "for i in s:\n",
    "    print (i+3)\n"
   ]
  },
  {
   "cell_type": "code",
   "execution_count": 48,
   "id": "7f84dca4",
   "metadata": {},
   "outputs": [
    {
     "name": "stdout",
     "output_type": "stream",
     "text": [
      "['d', 'e', 'f', 'g', 'h', 'a', 'b', 'c']\n"
     ]
    }
   ],
   "source": [
    "d = ['a', 'b', 'c', 'd', 'e', 'f', 'g', 'h']\n",
    "f = d[3:]\n",
    "g = d[:3]\n",
    "print (f+g)"
   ]
  },
  {
   "cell_type": "code",
   "execution_count": 52,
   "id": "67d5a225",
   "metadata": {},
   "outputs": [
    {
     "name": "stdout",
     "output_type": "stream",
     "text": [
      "13\n"
     ]
    }
   ],
   "source": [
    "X = [[1, 2, 3, 5], [2, 3, 5, 4], [0, 5, 4, 1], [3, 7, 2, 1], [1, 2, 1, 2]]\n",
    "result = sum(max(i for i in X))\n",
    "print (result)"
   ]
  },
  {
   "cell_type": "code",
   "execution_count": 53,
   "id": "93be6a10",
   "metadata": {},
   "outputs": [],
   "source": [
    "d = [[1, 2, 3, 5], [2, 3, 5, 4], [0, 5, 4, 1], [3, 7, 2, 1], [1, 2, 1, 2]]\n",
    "for i in d:\n",
    "    if i is not i:\n",
    "        print (i)"
   ]
  },
  {
   "cell_type": "code",
   "execution_count": 58,
   "id": "aefbafd3",
   "metadata": {},
   "outputs": [
    {
     "name": "stdout",
     "output_type": "stream",
     "text": [
      "7 1\n"
     ]
    }
   ],
   "source": [
    "X = [1, 2, 3, 4, 5, 6, 7]\n",
    "r = (X[-1])\n",
    "f = (X[0])\n",
    "print (r,f)"
   ]
  },
  {
   "cell_type": "code",
   "execution_count": 59,
   "id": "1a15f9d0",
   "metadata": {},
   "outputs": [],
   "source": [
    "d  = [(100, 'Math'), (80, 'Math'), (90, 'Math'), (88, 'Science', 89), (90, 'Science', 92)]\n",
    "for i in d:\n",
    "    if i == str(i):\n",
    "        print (d.remove(i))\n"
   ]
  },
  {
   "cell_type": "code",
   "execution_count": 1,
   "id": "a924aed9",
   "metadata": {},
   "outputs": [
    {
     "name": "stdout",
     "output_type": "stream",
     "text": [
      "[1, 2]\n",
      "[1, 2]\n",
      "[3, 4]\n",
      "[3, 4]\n",
      "[5, 6]\n",
      "[5, 6]\n",
      "[5, 6]\n"
     ]
    }
   ],
   "source": [
    "T1 = [[1, 2], [3, 4], [5, 6]]\n",
    "T2 = [[3, 4], [5, 7], [1, 2]]\n",
    "for i in T1:\n",
    "    for j in T2:\n",
    "        if i != j:\n",
    "            print (i)\n"
   ]
  },
  {
   "cell_type": "code",
   "execution_count": 4,
   "id": "e90d1af8",
   "metadata": {},
   "outputs": [
    {
     "name": "stdout",
     "output_type": "stream",
     "text": [
      "[[4, 1, 6], [4, 10, 8], [7, 8]]\n"
     ]
    }
   ],
   "source": [
    "T1=  [[4, 1, 6], [7, 8], [4, 10, 8]]\n",
    "print (sorted(T1))\n"
   ]
  },
  {
   "cell_type": "code",
   "execution_count": 5,
   "id": "5d95abf1",
   "metadata": {},
   "outputs": [],
   "source": [
    "input_list = [1, 2, 2, 5, 8, 4, 4, 8]\n",
    "for i in input_list:\n",
    "    if i!= i:\n",
    "        print (i)"
   ]
  },
  {
   "cell_type": "code",
   "execution_count": 8,
   "id": "c69e789b",
   "metadata": {},
   "outputs": [
    {
     "ename": "NameError",
     "evalue": "name 'k' is not defined",
     "output_type": "error",
     "traceback": [
      "\u001b[1;31m---------------------------------------------------------------------------\u001b[0m",
      "\u001b[1;31mNameError\u001b[0m                                 Traceback (most recent call last)",
      "\u001b[1;32m~\\AppData\\Local\\Temp/ipykernel_14552/3823807302.py\u001b[0m in \u001b[0;36m<module>\u001b[1;34m\u001b[0m\n\u001b[0;32m      4\u001b[0m     \u001b[0mK\u001b[0m \u001b[1;33m=\u001b[0m \u001b[1;36m3\u001b[0m\u001b[1;33m\u001b[0m\u001b[1;33m\u001b[0m\u001b[0m\n\u001b[0;32m      5\u001b[0m \u001b[1;33m\u001b[0m\u001b[0m\n\u001b[1;32m----> 6\u001b[1;33m     \u001b[1;32mif\u001b[0m \u001b[0mi\u001b[0m \u001b[1;33m>\u001b[0m \u001b[0mk\u001b[0m\u001b[1;33m:\u001b[0m\u001b[1;33m\u001b[0m\u001b[1;33m\u001b[0m\u001b[0m\n\u001b[0m\u001b[0;32m      7\u001b[0m         \u001b[0mprint\u001b[0m \u001b[1;33m(\u001b[0m\u001b[0mi\u001b[0m\u001b[1;33m)\u001b[0m\u001b[1;33m\u001b[0m\u001b[1;33m\u001b[0m\u001b[0m\n",
      "\u001b[1;31mNameError\u001b[0m: name 'k' is not defined"
     ]
    }
   ],
   "source": [
    "test_list = [4, 6, 4, 3, 3, 4, 3, 4, 3, 8]\n",
    "K = 3\n",
    "for i in test_list:\n",
    "    K = 3\n",
    "\n",
    "    if i > k:\n",
    "        print (i)\n"
   ]
  },
  {
   "cell_type": "code",
   "execution_count": 9,
   "id": "200e359a",
   "metadata": {},
   "outputs": [
    {
     "name": "stdout",
     "output_type": "stream",
     "text": [
      "4\n",
      "3\n"
     ]
    }
   ],
   "source": [
    "T1 =  [4, 5, 6, 7, 3, 9]\n",
    "for i in T1:\n",
    "    if i in range(1,5):\n",
    "        print (i)\n"
   ]
  },
  {
   "cell_type": "code",
   "execution_count": 10,
   "id": "89fbec0f",
   "metadata": {},
   "outputs": [
    {
     "name": "stdout",
     "output_type": "stream",
     "text": [
      "5\n"
     ]
    }
   ],
   "source": [
    "# creating the array\n",
    "arr = [4, 5, 5, 5, 3, 8]\n",
    "\n",
    "# size of the list\n",
    "size = len(arr)\n",
    "\n",
    "# looping till length - 2\n",
    "for i in range(size - 2):\n",
    "\n",
    "\t# checking the conditions\n",
    "\tif arr[i] == arr[i + 1] and arr[i + 1] == arr[i + 2]:\n",
    "\n",
    "\t\t# printing the element as the\n",
    "\t\t# conditions are satisfied\n",
    "\t\tprint(arr[i])\n"
   ]
  },
  {
   "cell_type": "code",
   "execution_count": 11,
   "id": "e2ce869b",
   "metadata": {},
   "outputs": [],
   "source": [
    "inp = [1,1,2,2,3,4,5]\n",
    "for i in inp:\n",
    "    if i != i:\n",
    "        print (i)"
   ]
  },
  {
   "cell_type": "code",
   "execution_count": 12,
   "id": "cb5473e6",
   "metadata": {},
   "outputs": [],
   "source": [
    "test_list = [(4, 5), (5, 6), (1, 3), (0, 0)]\n",
    "def rem(test_list):\n",
    "    k = 0\n",
    "    for i in test_list:\n",
    "        if i == k:\n",
    "            print (test_list.remove(i))"
   ]
  },
  {
   "cell_type": "code",
   "execution_count": 13,
   "id": "bd9156f4",
   "metadata": {},
   "outputs": [
    {
     "name": "stdout",
     "output_type": "stream",
     "text": [
      "The original list is : [(4, 5, 6, 4, 4), (4, 4, 3), (4, 4, 4), (3, 4, 9)]\n",
      "Filtered tuples : [(4, 5, 6, 4, 4), (4, 4, 4)]\n"
     ]
    }
   ],
   "source": [
    "# Python3 code to demonstrate working of\n",
    "# Retain records with N occurrences of K\n",
    "# Using count() + list comprehension\n",
    "\n",
    "# initializing list\n",
    "test_list = [(4, 5, 6, 4, 4), (4, 4, 3), (4, 4, 4), (3, 4, 9)]\n",
    "\n",
    "# printing original list\n",
    "print(\"The original list is : \" + str(test_list))\n",
    "\n",
    "# initializing K\n",
    "K = 4\n",
    "\n",
    "# initializing N\n",
    "N = 3\n",
    "\n",
    "# Retain records with N occurrences of K\n",
    "# Using count() + list comprehension\n",
    "res = [ele for ele in test_list if ele.count(K) == N]\n",
    "\n",
    "# printing result\n",
    "print(\"Filtered tuples : \" + str(res))\n"
   ]
  },
  {
   "cell_type": "code",
   "execution_count": 14,
   "id": "108a9073",
   "metadata": {},
   "outputs": [
    {
     "ename": "TypeError",
     "evalue": "'int' object is not iterable",
     "output_type": "error",
     "traceback": [
      "\u001b[1;31m---------------------------------------------------------------------------\u001b[0m",
      "\u001b[1;31mTypeError\u001b[0m                                 Traceback (most recent call last)",
      "\u001b[1;32m~\\AppData\\Local\\Temp/ipykernel_14552/2802794821.py\u001b[0m in \u001b[0;36m<module>\u001b[1;34m\u001b[0m\n\u001b[0;32m      1\u001b[0m \u001b[0marr\u001b[0m \u001b[1;33m=\u001b[0m \u001b[1;33m[\u001b[0m\u001b[1;36m2\u001b[0m\u001b[1;33m,\u001b[0m\u001b[1;36m4\u001b[0m\u001b[1;33m,\u001b[0m\u001b[1;36m5\u001b[0m\u001b[1;33m,\u001b[0m\u001b[1;36m10\u001b[0m\u001b[1;33m]\u001b[0m\u001b[1;33m\u001b[0m\u001b[1;33m\u001b[0m\u001b[0m\n\u001b[0;32m      2\u001b[0m \u001b[1;32mfor\u001b[0m \u001b[0mi\u001b[0m \u001b[1;32min\u001b[0m \u001b[0marr\u001b[0m\u001b[1;33m:\u001b[0m\u001b[1;33m\u001b[0m\u001b[1;33m\u001b[0m\u001b[0m\n\u001b[1;32m----> 3\u001b[1;33m     \u001b[0mprint\u001b[0m \u001b[1;33m(\u001b[0m\u001b[0msum\u001b[0m\u001b[1;33m(\u001b[0m\u001b[0mi\u001b[0m\u001b[1;33m)\u001b[0m\u001b[1;33m)\u001b[0m\u001b[1;33m\u001b[0m\u001b[1;33m\u001b[0m\u001b[0m\n\u001b[0m",
      "\u001b[1;31mTypeError\u001b[0m: 'int' object is not iterable"
     ]
    }
   ],
   "source": [
    "arr = [2,4,5,10]\n",
    "for i in arr:\n",
    "    print (sum(i))"
   ]
  },
  {
   "cell_type": "code",
   "execution_count": 7,
   "id": "73fbcbaf",
   "metadata": {},
   "outputs": [
    {
     "name": "stdout",
     "output_type": "stream",
     "text": [
      "['best', 'is', 'geeks', 'for', 'geeks']\n"
     ]
    }
   ],
   "source": [
    "T =  ['geeks', 'for', 'geeks', 'is', 'best']\n",
    "print (T[::-1])"
   ]
  },
  {
   "cell_type": "code",
   "execution_count": 9,
   "id": "0a70bea3",
   "metadata": {},
   "outputs": [
    {
     "name": "stdout",
     "output_type": "stream",
     "text": [
      "The original list is : ['Gfg is best', 'Gfg is for geeks', 'I love G4G']\n",
      "The filtered elements : ['Gfg', 'Gfg', 'geeks', 'G4G']\n"
     ]
    }
   ],
   "source": [
    "# Python3 code to demonstrate working of\n",
    "# Extract words starting with K in String List\n",
    "# Using loop + split()\n",
    "\n",
    "# initializing list\n",
    "test_list = [\"Gfg is best\", \"Gfg is for geeks\", \"I love G4G\"]\n",
    "\n",
    "# printing original list\n",
    "print(\"The original list is : \" + str(test_list))\n",
    "\n",
    "# initializing K\n",
    "K = \"g\"\n",
    "\n",
    "res = []\n",
    "for sub in test_list:\n",
    "\t# splitting phrases\n",
    "\ttemp = sub.split()\n",
    "\tfor ele in temp:\n",
    "\t\t\n",
    "\t\t# checking for matching elements\n",
    "\t\tif ele[0].lower() == K.lower():\n",
    "\t\t\tres.append(ele)\n",
    "\n",
    "# printing result\n",
    "print(\"The filtered elements : \" + str(res))\n"
   ]
  },
  {
   "cell_type": "code",
   "execution_count": 13,
   "id": "c7cf9c44",
   "metadata": {},
   "outputs": [
    {
     "ename": "TypeError",
     "evalue": "must be str or None, not list",
     "output_type": "error",
     "traceback": [
      "\u001b[1;31m---------------------------------------------------------------------------\u001b[0m",
      "\u001b[1;31mTypeError\u001b[0m                                 Traceback (most recent call last)",
      "\u001b[1;32m~\\AppData\\Local\\Temp/ipykernel_18940/971210891.py\u001b[0m in \u001b[0;36m<module>\u001b[1;34m\u001b[0m\n\u001b[0;32m      1\u001b[0m \u001b[0mThe\u001b[0m \u001b[1;33m=\u001b[0m  \u001b[1;33m[\u001b[0m\u001b[1;34m'Gfg is best'\u001b[0m\u001b[1;33m,\u001b[0m \u001b[1;34m'for Geeks'\u001b[0m\u001b[1;33m,\u001b[0m \u001b[1;34m'Preparing'\u001b[0m\u001b[1;33m]\u001b[0m\u001b[1;33m\u001b[0m\u001b[1;33m\u001b[0m\u001b[0m\n\u001b[0;32m      2\u001b[0m \u001b[1;32mfor\u001b[0m \u001b[0mi\u001b[0m \u001b[1;32min\u001b[0m \u001b[0mThe\u001b[0m\u001b[1;33m:\u001b[0m\u001b[1;33m\u001b[0m\u001b[1;33m\u001b[0m\u001b[0m\n\u001b[1;32m----> 3\u001b[1;33m     \u001b[0mprint\u001b[0m \u001b[1;33m(\u001b[0m\u001b[0mi\u001b[0m\u001b[1;33m.\u001b[0m\u001b[0msplit\u001b[0m\u001b[1;33m(\u001b[0m\u001b[0mThe\u001b[0m\u001b[1;33m)\u001b[0m\u001b[1;33m)\u001b[0m\u001b[1;33m\u001b[0m\u001b[1;33m\u001b[0m\u001b[0m\n\u001b[0m",
      "\u001b[1;31mTypeError\u001b[0m: must be str or None, not list"
     ]
    }
   ],
   "source": [
    "The =  ['Gfg is best', 'for Geeks', 'Preparing']\n",
    "for i in The:\n",
    "    print (i.split(The))\n"
   ]
  },
  {
   "cell_type": "code",
   "execution_count": 15,
   "id": "69d1c371",
   "metadata": {},
   "outputs": [
    {
     "ename": "AttributeError",
     "evalue": "'list' object has no attribute 'replace'",
     "output_type": "error",
     "traceback": [
      "\u001b[1;31m---------------------------------------------------------------------------\u001b[0m",
      "\u001b[1;31mAttributeError\u001b[0m                            Traceback (most recent call last)",
      "\u001b[1;32m~\\AppData\\Local\\Temp/ipykernel_18940/2038769531.py\u001b[0m in \u001b[0;36m<module>\u001b[1;34m\u001b[0m\n\u001b[0;32m      1\u001b[0m \u001b[0mtest_list\u001b[0m \u001b[1;33m=\u001b[0m \u001b[1;33m[\u001b[0m\u001b[1;34m'geeksforgeeks'\u001b[0m\u001b[1;33m,\u001b[0m \u001b[1;34m'best'\u001b[0m\u001b[1;33m,\u001b[0m \u001b[1;34m'geeks'\u001b[0m\u001b[1;33m,\u001b[0m \u001b[1;34m'and'\u001b[0m\u001b[1;33m]\u001b[0m\u001b[1;33m\u001b[0m\u001b[1;33m\u001b[0m\u001b[0m\n\u001b[0;32m      2\u001b[0m \u001b[1;32mfor\u001b[0m \u001b[0mele\u001b[0m \u001b[1;32min\u001b[0m \u001b[0mtest_list\u001b[0m\u001b[1;33m:\u001b[0m\u001b[1;33m\u001b[0m\u001b[1;33m\u001b[0m\u001b[0m\n\u001b[1;32m----> 3\u001b[1;33m     \u001b[0mprint\u001b[0m \u001b[1;33m(\u001b[0m\u001b[0mtest_list\u001b[0m\u001b[1;33m.\u001b[0m\u001b[0mreplace\u001b[0m\u001b[1;33m(\u001b[0m\u001b[1;34m'geeksforgeeks'\u001b[0m\u001b[1;33m,\u001b[0m \u001b[1;34m'best'\u001b[0m\u001b[1;33m,\u001b[0m \u001b[1;34m'geeks'\u001b[0m\u001b[1;33m,\u001b[0m \u001b[1;34m'and'\u001b[0m\u001b[1;33m,\u001b[0m \u001b[1;34m'geek'\u001b[0m\u001b[1;33m)\u001b[0m\u001b[1;33m)\u001b[0m\u001b[1;33m\u001b[0m\u001b[1;33m\u001b[0m\u001b[0m\n\u001b[0m\u001b[0;32m      4\u001b[0m \u001b[1;33m\u001b[0m\u001b[0m\n",
      "\u001b[1;31mAttributeError\u001b[0m: 'list' object has no attribute 'replace'"
     ]
    }
   ],
   "source": [
    "test_list = ['geeksforgeeks', 'best', 'geeks', 'and']\n",
    "for ele in test_list:\n",
    "    print (test_list.replace('geeksforgeeks', 'best', 'geeks', 'and', 'geek'))\n",
    "    \n"
   ]
  },
  {
   "cell_type": "code",
   "execution_count": 18,
   "id": "7910e459",
   "metadata": {},
   "outputs": [
    {
     "name": "stdout",
     "output_type": "stream",
     "text": [
      "['best']\n"
     ]
    }
   ],
   "source": [
    "The = ['gfg', '   ', ' ', 'is', '            ', 'best']\n",
    "for i in The:\n",
    "    d = []\n",
    "    if i.strip():\n",
    "        d.append(i)\n",
    "print (d)        \n",
    "    \n"
   ]
  },
  {
   "cell_type": "code",
   "execution_count": 19,
   "id": "eb61deff",
   "metadata": {},
   "outputs": [],
   "source": [
    "I = ['Gfg', 'is', 'not', 'best', 'and', 'not', 'CS']\n",
    "test_list2 = ['Its ok', 'all ok', 'wrong', 'looks ok', 'ok', 'wrong', 'thats ok']\n",
    "df = 'ok'\n",
    "for ele in I:\n",
    "    if df in I:\n",
    "        for j in test_list2:\n",
    "            if df in test_list2:\n",
    "                print (ele)\n"
   ]
  },
  {
   "cell_type": "code",
   "execution_count": 21,
   "id": "8a6c5507",
   "metadata": {},
   "outputs": [
    {
     "name": "stdout",
     "output_type": "stream",
     "text": [
      "yes\n",
      "yes\n",
      "yes\n",
      "yes\n",
      "yes\n",
      "yes\n",
      "yes\n",
      "yes\n",
      "yes\n",
      "yes\n",
      "yes\n",
      "yes\n",
      "yes\n",
      "yes\n"
     ]
    }
   ],
   "source": [
    "String=\"geeks for geeks\"\n",
    "Substring = \"geeks\" \n",
    "for  i in String:\n",
    "    for ele in Substring:\n",
    "        if i in ele:\n",
    "            print ('yes')\n"
   ]
  },
  {
   "cell_type": "code",
   "execution_count": 22,
   "id": "c3e7f632",
   "metadata": {},
   "outputs": [
    {
     "name": "stdout",
     "output_type": "stream",
     "text": [
      "The original string is : gfghsisbjknlmkesbestgfgsdcngfgcsdjnisdjnlbestdjsklgfgcdsbestbnjdsgfgdbhisbhsbestdkgfgb\n",
      "The original list is : ['gfg', 'is', 'best']\n",
      "Maximum frequency substring : gfg\n"
     ]
    }
   ],
   "source": [
    "# Python3 code to demonstrate working of\n",
    "# Maximum occurring Substring from list\n",
    "\n",
    "# initializing string\n",
    "test_str = \"gfghsisbjknlmkesbestgfgsdcngfgcsdjnisdjnlbestdjsklgfgcdsbestbnjdsgfgdbhisbhsbestdkgfgb\"\n",
    "test_list = ['gfg', 'is', 'best']\n",
    "\n",
    "# printing original string and list\n",
    "print(\"The original string is : \" + test_str)\n",
    "print(\"The original list is : \" + str(test_list))\n",
    "res=[]\n",
    "for i in test_list:\n",
    "\tres.append(test_str.count(i))\n",
    "x=max(res)\n",
    "result=test_list[res.index(x)]\n",
    "# printing result\n",
    "print(\"Maximum frequency substring : \" + str(result))\n"
   ]
  },
  {
   "cell_type": "code",
   "execution_count": 1,
   "id": "38702e3b",
   "metadata": {},
   "outputs": [
    {
     "ename": "SyntaxError",
     "evalue": "EOL while scanning string literal (Temp/ipykernel_13928/1484855979.py, line 1)",
     "output_type": "error",
     "traceback": [
      "\u001b[1;36m  File \u001b[1;32m\"C:\\Users\\win10\\AppData\\Local\\Temp/ipykernel_13928/1484855979.py\"\u001b[1;36m, line \u001b[1;32m1\u001b[0m\n\u001b[1;33m    test_str = 'Gfg is best’\u001b[0m\n\u001b[1;37m                            ^\u001b[0m\n\u001b[1;31mSyntaxError\u001b[0m\u001b[1;31m:\u001b[0m EOL while scanning string literal\n"
     ]
    }
   ],
   "source": [
    " test_str = 'Gfg is best’\n",
    "for i in test_str:\n",
    "    print (test_str.count(i))\n"
   ]
  },
  {
   "cell_type": "code",
   "execution_count": 2,
   "id": "b13669c3",
   "metadata": {},
   "outputs": [
    {
     "name": "stdout",
     "output_type": "stream",
     "text": [
      "3\n",
      "7\n",
      "7\n",
      "3\n",
      "3\n",
      "3\n",
      "1\n",
      "3\n",
      "7\n",
      "3\n",
      "2\n",
      "2\n",
      "3\n",
      "3\n",
      "3\n",
      "7\n",
      "7\n",
      "3\n",
      "3\n",
      "2\n",
      "2\n",
      "3\n",
      "3\n",
      "7\n",
      "7\n",
      "3\n",
      "3\n"
     ]
    }
   ],
   "source": [
    "test_str = 'geeks are for geeksforgeeks' \n",
    "que_word = 'geeks'\n",
    "for key in test_str:\n",
    "    print (test_str.count(key))\n",
    "    \n",
    "    \n",
    "\n"
   ]
  },
  {
   "cell_type": "code",
   "execution_count": 5,
   "id": "06241425",
   "metadata": {},
   "outputs": [
    {
     "name": "stdout",
     "output_type": "stream",
     "text": [
      "Geeks_For_Geeks\n"
     ]
    }
   ],
   "source": [
    "Input = 'geeks_for_geeks'\n",
    "f = (Input.title())\n",
    "print (f.replace('-',' '))\n"
   ]
  },
  {
   "cell_type": "code",
   "execution_count": 9,
   "id": "c351f37c",
   "metadata": {},
   "outputs": [
    {
     "name": "stdout",
     "output_type": "stream",
     "text": [
      "for geek\n"
     ]
    }
   ],
   "source": [
    "t = 'geeksforgeeks'\n",
    "f = t[5:8]\n",
    "d = t[:4]\n",
    "print (f,d)\n"
   ]
  },
  {
   "cell_type": "code",
   "execution_count": 10,
   "id": "fb558951",
   "metadata": {},
   "outputs": [
    {
     "name": "stdout",
     "output_type": "stream",
     "text": [
      "The original string is : geeksforgeeks\n",
      "The string after rotation is : sforgeeksgeek\n"
     ]
    }
   ],
   "source": [
    "# Python3 code to demonstrate working of\n",
    "# Right and Left Shift characters in String\n",
    "# Using String multiplication + string slicing\n",
    "\n",
    "# initializing string\n",
    "test_str = 'geeksforgeeks'\n",
    "\n",
    "# printing original string\n",
    "print(\"The original string is : \" + test_str)\n",
    "\n",
    "# initializing right rot\n",
    "r_rot = 7\n",
    "\n",
    "# initializing left rot\n",
    "l_rot = 3\n",
    "\n",
    "# Right and Left Shift characters in String\n",
    "# Using String multiplication + string slicing\n",
    "res = (test_str * 3)[len(test_str) + r_rot - l_rot :\n",
    "\t\t\t\t2 * len(test_str) + r_rot - l_rot]\n",
    "\n",
    "# printing result\n",
    "print(\"The string after rotation is : \" + str(res))\n"
   ]
  },
  {
   "cell_type": "code",
   "execution_count": 13,
   "id": "9884361d",
   "metadata": {},
   "outputs": [
    {
     "name": "stdout",
     "output_type": "stream",
     "text": [
      "['gfg,', 'is,', '(best,', 'for),', 'geeks']\n"
     ]
    }
   ],
   "source": [
    "The  = 'gfg, is, (best, for), geeks'\n",
    "print (The.split())\n"
   ]
  },
  {
   "cell_type": "code",
   "execution_count": 16,
   "id": "d42ae9ce",
   "metadata": {},
   "outputs": [
    {
     "name": "stdout",
     "output_type": "stream",
     "text": [
      "['GFGaBst']\n"
     ]
    }
   ],
   "source": [
    "test_str = 'GFGaBst' \n",
    "for i in test_str:\n",
    "    if i in 'a,u,i,o,u':\n",
    "        print(test_str.split(','))\n",
    "    \n"
   ]
  },
  {
   "cell_type": "code",
   "execution_count": 23,
   "id": "2172937f",
   "metadata": {},
   "outputs": [
    {
     "name": "stdout",
     "output_type": "stream",
     "text": [
      "diob\n"
     ]
    }
   ],
   "source": [
    "test_str = 'boid'\n",
    "print (test_str[::-1])"
   ]
  },
  {
   "cell_type": "code",
   "execution_count": 24,
   "id": "46dd9f11",
   "metadata": {},
   "outputs": [
    {
     "name": "stdout",
     "output_type": "stream",
     "text": [
      "The original string is : void\n",
      "The mirror string : voib\n"
     ]
    }
   ],
   "source": [
    "# Python3 code to demonstrate working of\n",
    "# Mirror Image of String\n",
    "# Using Mirror Image of String\n",
    "\n",
    "# initializing strings\n",
    "test_str = 'void'\n",
    "\n",
    "# printing original string\n",
    "print(\"The original string is : \" + str(test_str))\n",
    "\n",
    "# initializing mirror dictionary\n",
    "mir_dict = {'b':'d', 'd':'b', 'i':'i', 'o':'o', 'v':'v', 'w':'w', 'x':'x'}\n",
    "res = ''\n",
    "\n",
    "# accessing letters from dictionary\n",
    "for ele in test_str:\n",
    "\tif ele in mir_dict:\n",
    "\t\tres += mir_dict[ele]\n",
    "\t\n",
    "\t# if any character not present, flagging to be invalid\n",
    "\telse:\n",
    "\t\tres = \"Not Possible\"\n",
    "\t\tbreak\n",
    "\n",
    "# printing result\n",
    "print(\"The mirror string : \" + str(res))\n"
   ]
  },
  {
   "cell_type": "code",
   "execution_count": 25,
   "id": "f09cfe71",
   "metadata": {},
   "outputs": [
    {
     "name": "stdout",
     "output_type": "stream",
     "text": [
      "The original string is : Geeksforgeeks is best for geeks and CS\n",
      "String after multiple replace : Geeksforgeeks is gfg gfg geeks and gfg\n"
     ]
    }
   ],
   "source": [
    "# Python3 code to demonstrate working of\n",
    "# Replace multiple words with K\n",
    "# Using join() + split() + list comprehension\n",
    "\n",
    "# initializing string\n",
    "test_str = 'Geeksforgeeks is best for geeks and CS'\n",
    "\n",
    "# printing original string\n",
    "print(\"The original string is : \" + str(test_str))\n",
    "\n",
    "# initializing word list\n",
    "word_list = [\"best\", 'CS', 'for']\n",
    "\n",
    "# initializing replace word\n",
    "repl_wrd = 'gfg'\n",
    "\n",
    "# Replace multiple words with K\n",
    "# Using join() + split() + list comprehension\n",
    "res = ' '.join([repl_wrd if idx in word_list else idx for idx in test_str.split()])\n",
    "\n",
    "# printing result\n",
    "print(\"String after multiple replace : \" + str(res))\n"
   ]
  },
  {
   "cell_type": "code",
   "execution_count": 10,
   "id": "bf2ab936",
   "metadata": {},
   "outputs": [
    {
     "name": "stdout",
     "output_type": "stream",
     "text": [
      "GEEKSFO\n"
     ]
    }
   ],
   "source": [
    "test_str = 'geeksforgeek'\n",
    "d = test_str[:7]\n",
    "print (d.upper())"
   ]
  },
  {
   "cell_type": "code",
   "execution_count": 12,
   "id": "4dbd1219",
   "metadata": {},
   "outputs": [
    {
     "name": "stdout",
     "output_type": "stream",
     "text": [
      "not accept\n",
      "accept\n",
      "accept\n",
      "not accept\n",
      "not accept\n",
      "not accept\n",
      "accept\n",
      "not accept\n",
      "not accept\n",
      "accept\n",
      "accept\n",
      "not accept\n",
      "not accept\n"
     ]
    }
   ],
   "source": [
    "Input = 'geeksforgeeks'\n",
    "for i in Input:\n",
    "    if i in 'a,u,o,e,v':\n",
    "        print ('accept')\n",
    "    else:\n",
    "        print ('not accept')"
   ]
  },
  {
   "cell_type": "code",
   "execution_count": 16,
   "id": "16f20779",
   "metadata": {},
   "outputs": [],
   "source": [
    "Input = 'geeksforgeeks'\n",
    "d = 'a,u,v,e,o'\n",
    "count = 0\n",
    "for i in  Input:\n",
    "    if i in d:\n",
    "        count = count+1\n"
   ]
  },
  {
   "cell_type": "code",
   "execution_count": 19,
   "id": "989006f4",
   "metadata": {},
   "outputs": [
    {
     "name": "stdout",
     "output_type": "stream",
     "text": [
      "s\n"
     ]
    }
   ],
   "source": [
    "from collections import Counter\n",
    "The =  'GeeksforGeeks'\n",
    "print (max(Counter(The)))\n",
    "\n"
   ]
  },
  {
   "cell_type": "code",
   "execution_count": 20,
   "id": "efe53177",
   "metadata": {},
   "outputs": [],
   "source": [
    "test_str = 'geekforgeeks'\n",
    "for i in test_str:\n",
    "    if len(test_str)%2 == 1:\n",
    "        print (i)"
   ]
  },
  {
   "cell_type": "code",
   "execution_count": 21,
   "id": "5f8571f7",
   "metadata": {},
   "outputs": [],
   "source": [
    "patterns = ['ape', 'apple', 'peach', 'puppy']\n",
    "Input = 'appel'\n",
    "for i in patterns:\n",
    "    if i in Input:\n",
    "        print (i)\n",
    "    "
   ]
  },
  {
   "cell_type": "code",
   "execution_count": 22,
   "id": "3cf42385",
   "metadata": {},
   "outputs": [
    {
     "ename": "ModuleNotFoundError",
     "evalue": "No module named 'word2number'",
     "output_type": "error",
     "traceback": [
      "\u001b[1;31m---------------------------------------------------------------------------\u001b[0m",
      "\u001b[1;31mModuleNotFoundError\u001b[0m                       Traceback (most recent call last)",
      "\u001b[1;32m~\\AppData\\Local\\Temp/ipykernel_13972/376338995.py\u001b[0m in \u001b[0;36m<module>\u001b[1;34m\u001b[0m\n\u001b[0;32m      2\u001b[0m \u001b[1;31m# Convert numeric words to numbers\u001b[0m\u001b[1;33m\u001b[0m\u001b[1;33m\u001b[0m\u001b[0m\n\u001b[0;32m      3\u001b[0m \u001b[1;31m# Using word2number\u001b[0m\u001b[1;33m\u001b[0m\u001b[1;33m\u001b[0m\u001b[0m\n\u001b[1;32m----> 4\u001b[1;33m \u001b[1;32mfrom\u001b[0m \u001b[0mword2number\u001b[0m \u001b[1;32mimport\u001b[0m \u001b[0mw2n\u001b[0m\u001b[1;33m\u001b[0m\u001b[1;33m\u001b[0m\u001b[0m\n\u001b[0m\u001b[0;32m      5\u001b[0m \u001b[1;33m\u001b[0m\u001b[0m\n\u001b[0;32m      6\u001b[0m \u001b[1;31m# initializing string\u001b[0m\u001b[1;33m\u001b[0m\u001b[1;33m\u001b[0m\u001b[0m\n",
      "\u001b[1;31mModuleNotFoundError\u001b[0m: No module named 'word2number'"
     ]
    }
   ],
   "source": [
    "# Python3 code to demonstrate working of\n",
    "# Convert numeric words to numbers\n",
    "# Using word2number\n",
    "from word2number import w2n\n",
    "\n",
    "# initializing string\n",
    "test_str = \"zero four zero one\"\n",
    "\n",
    "# printing original string\n",
    "print(\"The original string is : \" + test_str)\n",
    "\n",
    "# Convert numeric words to numbers\n",
    "# Using word2number\n",
    "res = w2n.word_to_num(test_str)\n",
    "\n",
    "# printing result\n",
    "print(\"The string after performing replace : \" + str(res))\n"
   ]
  },
  {
   "cell_type": "code",
   "execution_count": 28,
   "id": "6331087f",
   "metadata": {},
   "outputs": [
    {
     "ename": "AttributeError",
     "evalue": "'str' object has no attribute 'groupby'",
     "output_type": "error",
     "traceback": [
      "\u001b[1;31m---------------------------------------------------------------------------\u001b[0m",
      "\u001b[1;31mAttributeError\u001b[0m                            Traceback (most recent call last)",
      "\u001b[1;32m~\\AppData\\Local\\Temp/ipykernel_13972/1116094123.py\u001b[0m in \u001b[0;36m<module>\u001b[1;34m\u001b[0m\n\u001b[0;32m      2\u001b[0m \u001b[1;32mfrom\u001b[0m \u001b[0mitertools\u001b[0m \u001b[1;32mimport\u001b[0m \u001b[0mgroupby\u001b[0m\u001b[1;33m\u001b[0m\u001b[1;33m\u001b[0m\u001b[0m\n\u001b[0;32m      3\u001b[0m \u001b[0mThe\u001b[0m  \u001b[1;33m=\u001b[0m \u001b[1;34m'geekksforgggeeks'\u001b[0m\u001b[1;33m\u001b[0m\u001b[1;33m\u001b[0m\u001b[0m\n\u001b[1;32m----> 4\u001b[1;33m \u001b[0mprint\u001b[0m \u001b[1;33m(\u001b[0m\u001b[0mThe\u001b[0m\u001b[1;33m.\u001b[0m\u001b[0mgroupby\u001b[0m\u001b[1;33m(\u001b[0m\u001b[1;33m)\u001b[0m\u001b[1;33m)\u001b[0m\u001b[1;33m\u001b[0m\u001b[1;33m\u001b[0m\u001b[0m\n\u001b[0m",
      "\u001b[1;31mAttributeError\u001b[0m: 'str' object has no attribute 'groupby'"
     ]
    }
   ],
   "source": [
    "from collections import Counter\n",
    "from itertools import groupby\n",
    "The  = 'geekksforgggeeks'\n",
    "print (The.groupby())\n"
   ]
  },
  {
   "cell_type": "code",
   "execution_count": 29,
   "id": "422f71a0",
   "metadata": {},
   "outputs": [
    {
     "name": "stdout",
     "output_type": "stream",
     "text": [
      "The original string is : Gfg is best . Geeks are good and Geeks like Gfg\n",
      "The words frequency : {'Gfg': 2, 'is': 1, 'best': 1, '.': 1, 'Geeks': 2, 'are': 1, 'good': 1, 'and': 1, 'like': 1}\n"
     ]
    }
   ],
   "source": [
    "# Python3 code to demonstrate working of\n",
    "# Words Frequency in String Shorthands\n",
    "# Using dictionary comprehension + count() + split()\n",
    "\n",
    "# initializing string\n",
    "test_str = 'Gfg is best . Geeks are good and Geeks like Gfg'\n",
    "\n",
    "# printing original string\n",
    "print(\"The original string is : \" + str(test_str))\n",
    "\n",
    "# Words Frequency in String Shorthands\n",
    "# Using dictionary comprehension + count() + split()\n",
    "res = {key: test_str.count(key) for key in test_str.split()}\n",
    "\n",
    "# printing result\n",
    "print(\"The words frequency : \" + str(res))\n"
   ]
  },
  {
   "cell_type": "code",
   "execution_count": 30,
   "id": "eeeb5f4a",
   "metadata": {},
   "outputs": [
    {
     "name": "stdout",
     "output_type": "stream",
     "text": [
      "3\n",
      "3\n",
      "3\n",
      "3\n",
      "3\n",
      "3\n",
      "3\n",
      "3\n",
      "3\n",
      "3\n",
      "3\n",
      "3\n",
      "3\n"
     ]
    }
   ],
   "source": [
    "test_str = 'geeks are for geeksforgeeks'\n",
    "que_word = 'geek'\n",
    "for i in test_str:\n",
    "    if i in que_word:\n",
    "        print (test_str.count('geek'))"
   ]
  },
  {
   "cell_type": "code",
   "execution_count": 31,
   "id": "51eb4764",
   "metadata": {},
   "outputs": [
    {
     "name": "stdout",
     "output_type": "stream",
     "text": [
      "The original string is : geeksforgeeks is best for geeks. A geek should take interest.\n",
      "The Characters Frequency is : {'s': 3, ' ': 1}\n"
     ]
    }
   ],
   "source": [
    "# Python3 code to demonstrate working of\n",
    "# Successive Characters Frequency\n",
    "# Using count() + loop + re.findall()\n",
    "import re\n",
    "\t\n",
    "# initializing string\n",
    "test_str = 'geeksforgeeks is best for geeks. A geek should take interest.'\n",
    "\n",
    "# printing original string\n",
    "print(\"The original string is : \" + str(test_str))\n",
    "\n",
    "# initializing word\n",
    "que_word = \"geek\"\n",
    "\n",
    "# Successive Characters Frequency\n",
    "# Using count() + loop + re.findall()\n",
    "temp = []\n",
    "for sub in re.findall(que_word + '.', test_str):\n",
    "\ttemp.append(sub[-1])\n",
    "\n",
    "res = {que_word : temp.count(que_word) for que_word in temp}\n",
    "\n",
    "# printing result\n",
    "print(\"The Characters Frequency is : \" + str(res))\n"
   ]
  },
  {
   "cell_type": "code",
   "execution_count": 44,
   "id": "0d021be8",
   "metadata": {},
   "outputs": [
    {
     "name": "stdout",
     "output_type": "stream",
     "text": [
      "2\n",
      "1\n",
      "3\n",
      "0\n",
      "1\n"
     ]
    }
   ],
   "source": [
    "from collections import Counter\n",
    "test_list = ['geekforgeekss', 'is', 'bessst', 'for', 'geeks'] \n",
    "K = 's'\n",
    "for i in test_list:\n",
    "         print ((i.count('s')))\n",
    "\n"
   ]
  },
  {
   "cell_type": "code",
   "execution_count": 45,
   "id": "30a24e85",
   "metadata": {},
   "outputs": [
    {
     "name": "stdout",
     "output_type": "stream",
     "text": [
      "The original list is : ['geekforgeeks', 'is', 'best', 'for', 'geeks']\n",
      "Sorted String : ['geekforgeeks', 'geeks', 'best', 'is', 'for']\n"
     ]
    }
   ],
   "source": [
    "# Python3 code to demonstrate working of\n",
    "# Sort String list by K character frequency\n",
    "# Using sorted() + count() + lambda\n",
    "\n",
    "# initializing list\n",
    "test_list = [\"geekforgeeks\", \"is\", \"best\", \"for\", \"geeks\"]\n",
    "\n",
    "# printing original list\n",
    "print(\"The original list is : \" + str(test_list))\n",
    "\n",
    "# initializing K\n",
    "K = 'e'\n",
    "\n",
    "# \"-\" sign used to reverse sort\n",
    "res = sorted(test_list, key = lambda ele: -ele.count(K))\n",
    "\n",
    "# printing results\n",
    "print(\"Sorted String : \" + str(res))\n"
   ]
  },
  {
   "cell_type": "code",
   "execution_count": 49,
   "id": "3378801b",
   "metadata": {},
   "outputs": [
    {
     "name": "stdout",
     "output_type": "stream",
     "text": [
      "Geeks_For_Geeks\n"
     ]
    }
   ],
   "source": [
    "Input = 'geeks_for_geeks'\n",
    "d = (Input.title())\n",
    "print (d.replace('-', ''))"
   ]
  },
  {
   "cell_type": "code",
   "execution_count": 3,
   "id": "2eb18d2f",
   "metadata": {},
   "outputs": [
    {
     "ename": "TypeError",
     "evalue": "sequence item 0: expected str instance, int found",
     "output_type": "error",
     "traceback": [
      "\u001b[1;31m---------------------------------------------------------------------------\u001b[0m",
      "\u001b[1;31mTypeError\u001b[0m                                 Traceback (most recent call last)",
      "\u001b[1;32m~\\AppData\\Local\\Temp/ipykernel_13220/3517947945.py\u001b[0m in \u001b[0;36m<module>\u001b[1;34m\u001b[0m\n\u001b[0;32m      1\u001b[0m \u001b[0mtest_list\u001b[0m \u001b[1;33m=\u001b[0m \u001b[1;33m[\u001b[0m\u001b[1;36m4\u001b[0m\u001b[1;33m,\u001b[0m \u001b[1;36m7\u001b[0m\u001b[1;33m,\u001b[0m \u001b[1;36m8\u001b[0m\u001b[1;33m,\u001b[0m \u001b[1;36m3\u001b[0m\u001b[1;33m,\u001b[0m \u001b[1;36m2\u001b[0m\u001b[1;33m,\u001b[0m \u001b[1;36m1\u001b[0m\u001b[1;33m,\u001b[0m \u001b[1;36m9\u001b[0m\u001b[1;33m]\u001b[0m\u001b[1;33m\u001b[0m\u001b[1;33m\u001b[0m\u001b[0m\n\u001b[0;32m      2\u001b[0m \u001b[0md\u001b[0m \u001b[1;33m=\u001b[0m \u001b[1;34m\"*\"\u001b[0m\u001b[1;33m\u001b[0m\u001b[1;33m\u001b[0m\u001b[0m\n\u001b[1;32m----> 3\u001b[1;33m \u001b[0mf\u001b[0m \u001b[1;33m=\u001b[0m \u001b[1;34m'*'\u001b[0m\u001b[1;33m.\u001b[0m\u001b[0mjoin\u001b[0m\u001b[1;33m(\u001b[0m\u001b[0mtest_list\u001b[0m\u001b[1;33m)\u001b[0m\u001b[1;33m\u001b[0m\u001b[1;33m\u001b[0m\u001b[0m\n\u001b[0m\u001b[0;32m      4\u001b[0m \u001b[0mprint\u001b[0m \u001b[1;33m(\u001b[0m\u001b[0mf\u001b[0m\u001b[1;33m)\u001b[0m\u001b[1;33m\u001b[0m\u001b[1;33m\u001b[0m\u001b[0m\n",
      "\u001b[1;31mTypeError\u001b[0m: sequence item 0: expected str instance, int found"
     ]
    }
   ],
   "source": [
    "test_list = [4, 7, 8, 3, 2, 1, 9]\n",
    "d = \"*\"\n",
    "f = '*'.join(test_list)\n",
    "print (f)"
   ]
  },
  {
   "cell_type": "code",
   "execution_count": 6,
   "id": "267c9d6b",
   "metadata": {},
   "outputs": [
    {
     "name": "stdout",
     "output_type": "stream",
     "text": [
      "['G']\n",
      "['F']\n",
      "['G']\n",
      "['a']\n",
      "['B']\n",
      "['s']\n",
      "['t']\n"
     ]
    }
   ],
   "source": [
    "test_str = 'GFGaBst'\n",
    "d = 'a'\n",
    "for i in test_str:\n",
    "    print (i.split())"
   ]
  },
  {
   "cell_type": "code",
   "execution_count": 7,
   "id": "e091d7b9",
   "metadata": {},
   "outputs": [],
   "source": [
    "test_str = 'geeksforgeeks is best'\n",
    "map_dict = {'e':1, 'b': 6} \n",
    "for i in test_str:\n",
    "    if i == 'e'  and i == 'b':\n",
    "        print (i.replace(i,'e'))"
   ]
  },
  {
   "cell_type": "code",
   "execution_count": 8,
   "id": "45e31501",
   "metadata": {},
   "outputs": [
    {
     "name": "stdout",
     "output_type": "stream",
     "text": [
      "The original string is : geeksforgeeks is best\n",
      "The converted string : g11ksforg11ks 4s 61st\n"
     ]
    }
   ],
   "source": [
    "# Python3 code to demonstrate working of\n",
    "# Replace Different characters in String at Once\n",
    "# using join() + generator expression\n",
    "\n",
    "# initializing string\n",
    "test_str = 'geeksforgeeks is best'\n",
    "\n",
    "# printing original String\n",
    "print(\"The original string is : \" + str(test_str))\n",
    "\n",
    "# initializing mapping dictionary\n",
    "map_dict = {'e': '1', 'b': '6', 'i': '4'}\n",
    "\n",
    "# generator expression to construct vals\n",
    "# join to get string\n",
    "res = ''.join(\n",
    "\tidx if idx not in map_dict else map_dict[idx] for idx in test_str)\n",
    "\n",
    "# printing result\n",
    "print(\"The converted string : \" + str(res))\n"
   ]
  },
  {
   "cell_type": "code",
   "execution_count": 10,
   "id": "d0e7ab36",
   "metadata": {},
   "outputs": [],
   "source": [
    "test_str = 'geksefokesgergeeks'\n",
    "arg_str = 'geeks'\n",
    "for i in test_str:\n",
    "    if test_str in arg_str:\n",
    "        print (i.count(arg_str))\n"
   ]
  },
  {
   "cell_type": "code",
   "execution_count": 10,
   "id": "12ce7da9",
   "metadata": {},
   "outputs": [
    {
     "name": "stdout",
     "output_type": "stream",
     "text": [
      "[1, 2, 3]\n"
     ]
    }
   ],
   "source": [
    "d = [1,2,3,4]\n",
    "print (d[:-1])\n"
   ]
  },
  {
   "cell_type": "code",
   "execution_count": 11,
   "id": "a2d87771",
   "metadata": {},
   "outputs": [],
   "source": [
    "test_str = 'Gfg, is best: for ! Geeks ;'\n",
    "for  i in test_str:\n",
    "    if i == '!,;':\n",
    "        print (test_str.remove(i))"
   ]
  },
  {
   "cell_type": "code",
   "execution_count": 12,
   "id": "02809bf9",
   "metadata": {},
   "outputs": [
    {
     "name": "stdout",
     "output_type": "stream",
     "text": [
      "True\n",
      "True\n",
      "True\n",
      "True\n"
     ]
    }
   ],
   "source": [
    "test_str1 = 'e!e!k!s!g' \n",
    "test_str2 = 'g!e!e!k!s'\n",
    "delim = '!'\n",
    "for i in test_str1:\n",
    "    if delim in i:\n",
    "        print ('True')"
   ]
  },
  {
   "cell_type": "code",
   "execution_count": 13,
   "id": "c75217da",
   "metadata": {},
   "outputs": [],
   "source": [
    "test_str = 'geeksforfreeksfo'\n",
    "K = 3"
   ]
  },
  {
   "cell_type": "code",
   "execution_count": 14,
   "id": "8f80560e",
   "metadata": {},
   "outputs": [
    {
     "ename": "AttributeError",
     "evalue": "'str' object has no attribute 'endwith'",
     "output_type": "error",
     "traceback": [
      "\u001b[1;31m---------------------------------------------------------------------------\u001b[0m",
      "\u001b[1;31mAttributeError\u001b[0m                            Traceback (most recent call last)",
      "\u001b[1;32m~\\AppData\\Local\\Temp/ipykernel_1724/3662729978.py\u001b[0m in \u001b[0;36m<module>\u001b[1;34m\u001b[0m\n\u001b[0;32m      1\u001b[0m \u001b[0mThe\u001b[0m \u001b[1;33m=\u001b[0m \u001b[1;33m[\u001b[0m\u001b[1;34m'allx'\u001b[0m\u001b[1;33m,\u001b[0m \u001b[1;34m'lovex'\u001b[0m\u001b[1;33m,\u001b[0m \u001b[1;34m'gfg'\u001b[0m\u001b[1;33m,\u001b[0m \u001b[1;34m'xit'\u001b[0m\u001b[1;33m,\u001b[0m \u001b[1;34m'is'\u001b[0m\u001b[1;33m,\u001b[0m \u001b[1;34m'bestx'\u001b[0m\u001b[1;33m]\u001b[0m\u001b[1;33m\u001b[0m\u001b[1;33m\u001b[0m\u001b[0m\n\u001b[0;32m      2\u001b[0m \u001b[1;32mfor\u001b[0m \u001b[0mi\u001b[0m \u001b[1;32min\u001b[0m \u001b[0mThe\u001b[0m\u001b[1;33m:\u001b[0m\u001b[1;33m\u001b[0m\u001b[1;33m\u001b[0m\u001b[0m\n\u001b[1;32m----> 3\u001b[1;33m     \u001b[1;32mif\u001b[0m \u001b[0mi\u001b[0m\u001b[1;33m.\u001b[0m\u001b[0mendwith\u001b[0m\u001b[1;33m(\u001b[0m\u001b[1;34m'x'\u001b[0m\u001b[1;33m)\u001b[0m\u001b[1;33m:\u001b[0m\u001b[1;33m\u001b[0m\u001b[1;33m\u001b[0m\u001b[0m\n\u001b[0m\u001b[0;32m      4\u001b[0m         \u001b[0mprint\u001b[0m \u001b[1;33m(\u001b[0m\u001b[0mThe\u001b[0m\u001b[1;33m.\u001b[0m\u001b[0mremove\u001b[0m\u001b[1;33m(\u001b[0m\u001b[0mi\u001b[0m\u001b[1;33m)\u001b[0m\u001b[1;33m)\u001b[0m\u001b[1;33m\u001b[0m\u001b[1;33m\u001b[0m\u001b[0m\n",
      "\u001b[1;31mAttributeError\u001b[0m: 'str' object has no attribute 'endwith'"
     ]
    }
   ],
   "source": [
    "The = ['allx', 'lovex', 'gfg', 'xit', 'is', 'bestx']\n",
    "for i in The:\n",
    "    if i.endwith('x'):\n",
    "        print (The.remove(i))\n"
   ]
  },
  {
   "cell_type": "code",
   "execution_count": 15,
   "id": "00706a3e",
   "metadata": {},
   "outputs": [
    {
     "name": "stdout",
     "output_type": "stream",
     "text": [
      "The original list : ['allx', 'lovex', 'gfg', 'xit', 'is', 'bestx']\n",
      "List after removal of suffix elements : ['gfg', 'xit', 'is']\n"
     ]
    }
   ],
   "source": [
    "# Python3 code to demonstrate working of\n",
    "# Suffix removal from String list\n",
    "# using loop + remove() + endswith()\n",
    "\n",
    "# initialize list\n",
    "test_list = ['allx', 'lovex', 'gfg', 'xit', 'is', 'bestx']\n",
    "\n",
    "# printing original list\n",
    "print(\"The original list : \" + str(test_list))\n",
    "\n",
    "# initialize suffix\n",
    "suff = 'x'\n",
    "\n",
    "# Suffix removal from String list\n",
    "# using loop + remove() + endswith()\n",
    "for word in test_list[:]:\n",
    "\tif word.endswith(suff):\n",
    "\t\ttest_list.remove(word)\n",
    "\n",
    "# printing result\n",
    "print(\"List after removal of suffix elements : \"+ str(test_list))\n"
   ]
  },
  {
   "cell_type": "code",
   "execution_count": 17,
   "id": "3f17bfde",
   "metadata": {},
   "outputs": [
    {
     "ename": "AttributeError",
     "evalue": "'str' object has no attribute 'remove'",
     "output_type": "error",
     "traceback": [
      "\u001b[1;31m---------------------------------------------------------------------------\u001b[0m",
      "\u001b[1;31mAttributeError\u001b[0m                            Traceback (most recent call last)",
      "\u001b[1;32m~\\AppData\\Local\\Temp/ipykernel_1724/1100360975.py\u001b[0m in \u001b[0;36m<module>\u001b[1;34m\u001b[0m\n\u001b[0;32m      2\u001b[0m \u001b[1;32mfor\u001b[0m \u001b[0mword\u001b[0m \u001b[1;32min\u001b[0m \u001b[0mThe\u001b[0m\u001b[1;33m:\u001b[0m\u001b[1;33m\u001b[0m\u001b[1;33m\u001b[0m\u001b[0m\n\u001b[0;32m      3\u001b[0m     \u001b[1;32mif\u001b[0m \u001b[0mword\u001b[0m \u001b[1;32min\u001b[0m \u001b[0mword\u001b[0m\u001b[1;33m:\u001b[0m\u001b[1;33m\u001b[0m\u001b[1;33m\u001b[0m\u001b[0m\n\u001b[1;32m----> 4\u001b[1;33m          \u001b[1;33m(\u001b[0m\u001b[0mThe\u001b[0m\u001b[1;33m.\u001b[0m\u001b[0mremove\u001b[0m\u001b[1;33m(\u001b[0m\u001b[0mword\u001b[0m\u001b[1;33m)\u001b[0m\u001b[1;33m)\u001b[0m\u001b[1;33m\u001b[0m\u001b[1;33m\u001b[0m\u001b[0m\n\u001b[0m",
      "\u001b[1;31mAttributeError\u001b[0m: 'str' object has no attribute 'remove'"
     ]
    }
   ],
   "source": [
    "The = 'Gfg is best . Gfg also has Classes now. Classes help understand'\n",
    "for word in The:\n",
    "    if word in word:\n",
    "         (The.remove(word))"
   ]
  },
  {
   "cell_type": "code",
   "execution_count": 19,
   "id": "24fb193e",
   "metadata": {},
   "outputs": [
    {
     "name": "stdout",
     "output_type": "stream",
     "text": [
      "True\n",
      "True\n",
      "True\n"
     ]
    }
   ],
   "source": [
    "test_str1 = 'geeks' \n",
    "test_str2 = 'ertyg' \n",
    "for i in test_str1:\n",
    "    for j in  test_str2:\n",
    "        if i == j:\n",
    "            print ('True')"
   ]
  },
  {
   "cell_type": "code",
   "execution_count": 20,
   "id": "75c2f0ae",
   "metadata": {},
   "outputs": [
    {
     "name": "stdout",
     "output_type": "stream",
     "text": [
      "The original string 1 is : geeks\n",
      "The original string 2 is : eksge\n",
      "Are two strings Rotationally equal ? : True\n"
     ]
    }
   ],
   "source": [
    "# Python3 code to demonstrate working of\n",
    "# Check if two strings are Rotationally Equivalent\n",
    "# Using loop + string slicing\n",
    "\n",
    "# initializing strings\n",
    "test_str1 = 'geeks'\n",
    "test_str2 = 'eksge'\n",
    "\n",
    "# printing original strings\n",
    "print(\"The original string 1 is : \" + str(test_str1))\n",
    "print(\"The original string 2 is : \" + str(test_str2))\n",
    "\n",
    "# Check if two strings are Rotationally Equivalent\n",
    "# Using loop + string slicing\n",
    "res = False\n",
    "for idx in range(len(test_str1)):\n",
    "\t\tif test_str1[idx: ] + test_str1[ :idx] == test_str2:\n",
    "\t\t\tres = True\n",
    "\t\t\tbreak\n",
    "\n",
    "# printing result\n",
    "print(\"Are two strings Rotationally equal ? : \" + str(res))\n"
   ]
  },
  {
   "cell_type": "code",
   "execution_count": 21,
   "id": "3faf798b",
   "metadata": {},
   "outputs": [
    {
     "name": "stdout",
     "output_type": "stream",
     "text": [
      "true\n",
      "true\n",
      "true\n",
      "true\n",
      "true\n",
      "true\n",
      "true\n",
      "true\n",
      "true\n",
      "true\n",
      "true\n",
      "true\n",
      "true\n",
      "true\n",
      "true\n",
      "true\n",
      "true\n",
      "true\n",
      "true\n",
      "true\n",
      "true\n",
      "true\n",
      "true\n",
      "true\n",
      "true\n",
      "true\n",
      "true\n",
      "true\n"
     ]
    }
   ],
   "source": [
    "test_str1 = \"geeksforgeeks\"\n",
    "test_str2 = \"gfks\"\n",
    "for i in test_str1:\n",
    "    for j in test_str2:\n",
    "        if i in test_str2:\n",
    "            print ('true')\n",
    "        "
   ]
  },
  {
   "cell_type": "code",
   "execution_count": 22,
   "id": "13a6362d",
   "metadata": {},
   "outputs": [
    {
     "name": "stdout",
     "output_type": "stream",
     "text": [
      "The original string : geekforgeeks\n",
      "String after reverse sorting : srokkggfeeee\n"
     ]
    }
   ],
   "source": [
    "# Python3 code to demonstrate\n",
    "# Reverse Sort a String\n",
    "# using join() + sorted() + reverse\n",
    "\n",
    "# initializing string\n",
    "test_string = \"geekforgeeks\"\n",
    "\n",
    "# printing original string\n",
    "print(\"The original string : \" + str(test_string))\n",
    "\n",
    "# using join() + sorted() + reverse\n",
    "# Sorting a string\n",
    "res = ''.join(sorted(test_string, reverse = True))\n",
    "\t\n",
    "# print result\n",
    "print(\"String after reverse sorting : \" + str(res))\n"
   ]
  },
  {
   "cell_type": "code",
   "execution_count": 26,
   "id": "635d1c7d",
   "metadata": {},
   "outputs": [
    {
     "ename": "NameError",
     "evalue": "name 'k' is not defined",
     "output_type": "error",
     "traceback": [
      "\u001b[1;31m---------------------------------------------------------------------------\u001b[0m",
      "\u001b[1;31mNameError\u001b[0m                                 Traceback (most recent call last)",
      "\u001b[1;32m~\\AppData\\Local\\Temp/ipykernel_1724/1265111724.py\u001b[0m in \u001b[0;36m<module>\u001b[1;34m\u001b[0m\n\u001b[0;32m      3\u001b[0m \u001b[1;32mfor\u001b[0m \u001b[0mi\u001b[0m \u001b[1;32min\u001b[0m \u001b[0mtest_str\u001b[0m\u001b[1;33m:\u001b[0m\u001b[1;33m\u001b[0m\u001b[1;33m\u001b[0m\u001b[0m\n\u001b[0;32m      4\u001b[0m    \u001b[0mK\u001b[0m \u001b[1;33m=\u001b[0m \u001b[1;34m'b'\u001b[0m\u001b[1;33m\u001b[0m\u001b[1;33m\u001b[0m\u001b[0m\n\u001b[1;32m----> 5\u001b[1;33m    \u001b[1;32mif\u001b[0m \u001b[0mi\u001b[0m \u001b[1;33m==\u001b[0m \u001b[0mk\u001b[0m\u001b[1;33m:\u001b[0m\u001b[1;33m\u001b[0m\u001b[1;33m\u001b[0m\u001b[0m\n\u001b[0m\u001b[0;32m      6\u001b[0m        \u001b[0mprint\u001b[0m \u001b[1;33m(\u001b[0m\u001b[0mlen\u001b[0m\u001b[1;33m(\u001b[0m\u001b[0mk\u001b[0m\u001b[1;33m)\u001b[0m\u001b[1;33m)\u001b[0m\u001b[1;33m\u001b[0m\u001b[1;33m\u001b[0m\u001b[0m\n\u001b[0;32m      7\u001b[0m \u001b[1;33m\u001b[0m\u001b[0m\n",
      "\u001b[1;31mNameError\u001b[0m: name 'k' is not defined"
     ]
    }
   ],
   "source": [
    " test_str = 'abcaaaacbbaa'\n",
    "#K = 'b'\n",
    "for i in test_str:\n",
    "    K = 'b'\n",
    "    if i == k:\n",
    "        print (len(k))\n",
    "\n"
   ]
  },
  {
   "cell_type": "code",
   "execution_count": 27,
   "id": "2b136e4a",
   "metadata": {},
   "outputs": [],
   "source": [
    "test_list = [\"Gfg is good\", \"for Geeks\", \"I love Gfg\", \"Gfg is useful\"]\n",
    "f = 'Gfg'\n",
    "for ele in test_str:\n",
    "    if ele==f:\n",
    "        print (enumerate(f))"
   ]
  },
  {
   "cell_type": "code",
   "execution_count": 29,
   "id": "4c5d6daa",
   "metadata": {},
   "outputs": [],
   "source": [
    "test_str = 'geeksforgeeks'\n",
    "K = 'sees'\n",
    "for ele in test_str:\n",
    "    if K in ele:\n",
    "        print ('True')"
   ]
  },
  {
   "cell_type": "code",
   "execution_count": 1,
   "id": "32632b2e",
   "metadata": {},
   "outputs": [],
   "source": [
    "test_str = 'geeksforgeeks is best for geeks'\n",
    "sub_str = 'for'\n"
   ]
  },
  {
   "cell_type": "code",
   "execution_count": 8,
   "id": "12b4e7a7",
   "metadata": {},
   "outputs": [
    {
     "name": "stdout",
     "output_type": "stream",
     "text": [
      "Jam\n"
     ]
    }
   ],
   "source": [
    "str1 = \"James\"\n",
    "print (str1[:3])"
   ]
  },
  {
   "cell_type": "code",
   "execution_count": 12,
   "id": "9c02edea",
   "metadata": {},
   "outputs": [
    {
     "name": "stdout",
     "output_type": "stream",
     "text": [
      "Dip\n"
     ]
    }
   ],
   "source": [
    "str1 = \"JhonDipPeta\"\n",
    "\n",
    "print (str1[4:7])"
   ]
  },
  {
   "cell_type": "code",
   "execution_count": 14,
   "id": "c500cbdb",
   "metadata": {},
   "outputs": [
    {
     "name": "stdout",
     "output_type": "stream",
     "text": [
      "yaive"
     ]
    }
   ],
   "source": [
    "str1 = 'PyNaTive'\n",
    "for i in str1:\n",
    "    if i == i.lower():\n",
    "        print (i, end='')\n"
   ]
  },
  {
   "cell_type": "code",
   "execution_count": 17,
   "id": "73d3eee1",
   "metadata": {},
   "outputs": [],
   "source": [
    "str1 = \"P@#yn26at^&i5ve\"\n",
    "d = 0\n",
    "s = 0\n",
    "for f in str1:\n",
    "    if f == f.isalpha():\n",
    "        d += 1\n",
    "    elif f == f.isdigit():\n",
    "        s += 1\n"
   ]
  },
  {
   "cell_type": "code",
   "execution_count": 23,
   "id": "4063310a",
   "metadata": {},
   "outputs": [
    {
     "ename": "NameError",
     "evalue": "name 'first_chr' is not defined",
     "output_type": "error",
     "traceback": [
      "\u001b[1;31m---------------------------------------------------------------------------\u001b[0m",
      "\u001b[1;31mNameError\u001b[0m                                 Traceback (most recent call last)",
      "\u001b[1;32m~\\AppData\\Local\\Temp/ipykernel_13796/2756803534.py\u001b[0m in \u001b[0;36m<module>\u001b[1;34m\u001b[0m\n\u001b[0;32m      6\u001b[0m     \u001b[0mlast\u001b[0m \u001b[1;33m=\u001b[0m \u001b[0ms1\u001b[0m\u001b[1;33m[\u001b[0m\u001b[1;36m2\u001b[0m\u001b[1;33m]\u001b[0m \u001b[1;33m+\u001b[0m \u001b[0ms2\u001b[0m\u001b[1;33m[\u001b[0m\u001b[1;33m-\u001b[0m\u001b[1;36m3\u001b[0m\u001b[1;33m]\u001b[0m\u001b[1;33m\u001b[0m\u001b[1;33m\u001b[0m\u001b[0m\n\u001b[0;32m      7\u001b[0m \u001b[1;33m\u001b[0m\u001b[0m\n\u001b[1;32m----> 8\u001b[1;33m \u001b[0mf\u001b[0m \u001b[1;33m=\u001b[0m \u001b[0mfirst_chr\u001b[0m\u001b[1;33m+\u001b[0m\u001b[0mmidd\u001b[0m\u001b[1;33m+\u001b[0m\u001b[0mlast\u001b[0m\u001b[1;33m\u001b[0m\u001b[1;33m\u001b[0m\u001b[0m\n\u001b[0m\u001b[0;32m      9\u001b[0m \u001b[1;33m\u001b[0m\u001b[0m\n",
      "\u001b[1;31mNameError\u001b[0m: name 'first_chr' is not defined"
     ]
    }
   ],
   "source": [
    "s1 = \"Abc\"\n",
    "s2 = \"Xyz\"\n",
    "def df(s1,s2):\n",
    "    first_chr= s1[0] + s2[-1]\n",
    "    midd = s1[1] + s2[-2]\n",
    "    last = s1[2] + s2[-3]\n",
    "    \n",
    "f = first_chr+midd+last\n",
    "    \n"
   ]
  },
  {
   "cell_type": "code",
   "execution_count": 25,
   "id": "50564e16",
   "metadata": {},
   "outputs": [
    {
     "name": "stdout",
     "output_type": "stream",
     "text": [
      "0\n",
      "0\n",
      "0\n"
     ]
    }
   ],
   "source": [
    "str1 = \"Welcome to USA. usa awesome, isn't it?\"\n",
    "d = 'USA'\n",
    "for st in str1:\n",
    "    if st in d:\n",
    "        print (st.count(d))"
   ]
  },
  {
   "cell_type": "code",
   "execution_count": 26,
   "id": "947f3e72",
   "metadata": {},
   "outputs": [],
   "source": [
    "str1 = \"PYnative29@#8496\"\n",
    "for i in str1:\n",
    "    if i == i.isdigit():\n",
    "        print (sum(i))"
   ]
  },
  {
   "cell_type": "code",
   "execution_count": 27,
   "id": "6995bc50",
   "metadata": {},
   "outputs": [
    {
     "name": "stdout",
     "output_type": "stream",
     "text": [
      "43\n"
     ]
    }
   ],
   "source": [
    "str1 = \"Emma is a data scientist who knows Python. Emma works at google.\"\n",
    "d = str1.rfind('Emma')\n",
    "print (d)"
   ]
  },
  {
   "cell_type": "code",
   "execution_count": 31,
   "id": "43cc1648",
   "metadata": {},
   "outputs": [
    {
     "name": "stdout",
     "output_type": "stream",
     "text": [
      "Emma\n",
      "is\n",
      "a\n",
      "data\n",
      "scientist\n"
     ]
    }
   ],
   "source": [
    "str1 = 'Emma-is-a-data-scientist'\n",
    "sub =  (str1.split('-'))\n",
    "for s in sub:\n",
    "    print (s)\n"
   ]
  },
  {
   "cell_type": "code",
   "execution_count": 32,
   "id": "2c7d4f76",
   "metadata": {},
   "outputs": [
    {
     "name": "stdout",
     "output_type": "stream",
     "text": [
      "None\n",
      "None\n"
     ]
    }
   ],
   "source": [
    "str_list = [\"Emma\", \"Jon\", \"\", \"Kelly\", 'None', \"Eric\", \"\"]\n",
    "for str2 in str_list:\n",
    "    if str2 == \"\":\n",
    "        print (str_list.remove(str2))\n"
   ]
  },
  {
   "cell_type": "code",
   "execution_count": 33,
   "id": "13e9cac6",
   "metadata": {},
   "outputs": [
    {
     "name": "stdout",
     "output_type": "stream",
     "text": [
      "1234\n"
     ]
    }
   ],
   "source": [
    "f = int(input())\n",
    "if f % 4 == 0:\n",
    "    print ('leap year')"
   ]
  },
  {
   "cell_type": "code",
   "execution_count": 34,
   "id": "99e36c3c",
   "metadata": {},
   "outputs": [
    {
     "name": "stdout",
     "output_type": "stream",
     "text": [
      "asdf\n"
     ]
    }
   ],
   "source": [
    "d = input()\n",
    "def game(d):\n",
    "    if d == d.upper():\n",
    "        print ('got 2 points')\n",
    "    "
   ]
  },
  {
   "cell_type": "code",
   "execution_count": 36,
   "id": "c4945d82",
   "metadata": {},
   "outputs": [
    {
     "name": "stdout",
     "output_type": "stream",
     "text": [
      "None\n"
     ]
    }
   ],
   "source": [
    "def merge_the_tools(string, k):\n",
    "    d = (len(string)/k)\n",
    "print (merge_the_tools('AAABBBDS', k= 3))\n"
   ]
  },
  {
   "cell_type": "code",
   "execution_count": 41,
   "id": "c8f60433",
   "metadata": {},
   "outputs": [
    {
     "name": "stdout",
     "output_type": "stream",
     "text": [
      "fg hg\n",
      "None\n"
     ]
    }
   ],
   "source": [
    "def d(sample):\n",
    "    d = sample[:2]\n",
    "    f = sample[-2:]\n",
    "    print (d,f)\n",
    "print (d('fghg'))\n"
   ]
  },
  {
   "cell_type": "code",
   "execution_count": 42,
   "id": "67265a27",
   "metadata": {},
   "outputs": [
    {
     "name": "stdout",
     "output_type": "stream",
     "text": [
      "resta$t\n"
     ]
    }
   ],
   "source": [
    "def change_char(str1):\n",
    "  char = str1[0]\n",
    "  str1 = str1.replace(char, '$')\n",
    "  str1 = char + str1[1:]\n",
    "\n",
    "  return str1\n",
    "\n",
    "print(change_char('restart'))\n"
   ]
  },
  {
   "cell_type": "code",
   "execution_count": 49,
   "id": "42acdeb0",
   "metadata": {},
   "outputs": [
    {
     "name": "stdout",
     "output_type": "stream",
     "text": [
      "xy z\n"
     ]
    }
   ],
   "source": [
    "Sample  = 'abc', 'xyz'\n",
    "for index in Sample:\n",
    "    d = index[:2]\n",
    "    f = index[-1:]\n",
    "print (d,f)    \n"
   ]
  },
  {
   "cell_type": "code",
   "execution_count": 50,
   "id": "a726170c",
   "metadata": {},
   "outputs": [
    {
     "name": "stdout",
     "output_type": "stream",
     "text": [
      "xyc abz\n"
     ]
    }
   ],
   "source": [
    "def chars_mix_up(a, b):\n",
    "  new_a = b[:2] + a[2:]\n",
    "  new_b = a[:2] + b[2:]\n",
    "\n",
    "  return new_a + ' ' + new_b\n",
    "print(chars_mix_up('abc', 'xyz'))\n"
   ]
  },
  {
   "cell_type": "code",
   "execution_count": 55,
   "id": "16521dc2",
   "metadata": {},
   "outputs": [
    {
     "ename": "AttributeError",
     "evalue": "'str' object has no attribute 'endwith'",
     "output_type": "error",
     "traceback": [
      "\u001b[1;31m---------------------------------------------------------------------------\u001b[0m",
      "\u001b[1;31mAttributeError\u001b[0m                            Traceback (most recent call last)",
      "\u001b[1;32m~\\AppData\\Local\\Temp/ipykernel_13796/3176285612.py\u001b[0m in \u001b[0;36m<module>\u001b[1;34m\u001b[0m\n\u001b[0;32m      5\u001b[0m     \u001b[1;32melse\u001b[0m\u001b[1;33m:\u001b[0m\u001b[1;33m\u001b[0m\u001b[1;33m\u001b[0m\u001b[0m\n\u001b[0;32m      6\u001b[0m         \u001b[1;32mreturn\u001b[0m \u001b[1;33m(\u001b[0m\u001b[0mstr2\u001b[0m\u001b[1;33m)\u001b[0m\u001b[1;33m\u001b[0m\u001b[1;33m\u001b[0m\u001b[0m\n\u001b[1;32m----> 7\u001b[1;33m \u001b[0mprint\u001b[0m \u001b[1;33m(\u001b[0m\u001b[0mgh\u001b[0m\u001b[1;33m(\u001b[0m\u001b[1;34m'dfgf'\u001b[0m\u001b[1;33m)\u001b[0m\u001b[1;33m)\u001b[0m\u001b[1;33m\u001b[0m\u001b[1;33m\u001b[0m\u001b[0m\n\u001b[0m",
      "\u001b[1;32m~\\AppData\\Local\\Temp/ipykernel_13796/3176285612.py\u001b[0m in \u001b[0;36mgh\u001b[1;34m(str2)\u001b[0m\n\u001b[0;32m      1\u001b[0m \u001b[1;32mdef\u001b[0m \u001b[0mgh\u001b[0m\u001b[1;33m(\u001b[0m\u001b[0mstr2\u001b[0m\u001b[1;33m)\u001b[0m\u001b[1;33m:\u001b[0m\u001b[1;33m\u001b[0m\u001b[1;33m\u001b[0m\u001b[0m\n\u001b[1;32m----> 2\u001b[1;33m     \u001b[1;32mif\u001b[0m \u001b[0mstr2\u001b[0m\u001b[1;33m.\u001b[0m\u001b[0mendwith\u001b[0m\u001b[1;33m(\u001b[0m\u001b[1;34m'ing'\u001b[0m\u001b[1;33m)\u001b[0m\u001b[1;33m:\u001b[0m\u001b[1;33m\u001b[0m\u001b[1;33m\u001b[0m\u001b[0m\n\u001b[0m\u001b[0;32m      3\u001b[0m         \u001b[1;32mreturn\u001b[0m \u001b[1;33m(\u001b[0m \u001b[1;33m(\u001b[0m\u001b[0msrt2\u001b[0m \u001b[1;33m+\u001b[0m \u001b[1;34m'ing'\u001b[0m\u001b[1;33m)\u001b[0m\u001b[1;33m)\u001b[0m\u001b[1;33m\u001b[0m\u001b[1;33m\u001b[0m\u001b[0m\n\u001b[0;32m      4\u001b[0m \u001b[1;33m\u001b[0m\u001b[0m\n\u001b[0;32m      5\u001b[0m     \u001b[1;32melse\u001b[0m\u001b[1;33m:\u001b[0m\u001b[1;33m\u001b[0m\u001b[1;33m\u001b[0m\u001b[0m\n",
      "\u001b[1;31mAttributeError\u001b[0m: 'str' object has no attribute 'endwith'"
     ]
    }
   ],
   "source": [
    "def gh(str2):\n",
    "    if str2.endwith('ing'):\n",
    "        return ( (srt2 + 'ing'))\n",
    "        \n",
    "    else:\n",
    "        return (str2)\n",
    "print (gh('dfgf'))        \n"
   ]
  },
  {
   "cell_type": "code",
   "execution_count": 56,
   "id": "98446fb6",
   "metadata": {},
   "outputs": [
    {
     "name": "stdout",
     "output_type": "stream",
     "text": [
      "adba\n"
     ]
    }
   ],
   "source": [
    "f = 'adbd'\n",
    "d = f[:-1]\n",
    "u = f[0]\n",
    "g = f[:-1] + f[0]\n",
    "print (g)\n"
   ]
  },
  {
   "cell_type": "code",
   "execution_count": 57,
   "id": "321f5db7",
   "metadata": {},
   "outputs": [
    {
     "name": "stdout",
     "output_type": "stream",
     "text": [
      "dbca\n",
      "52341\n"
     ]
    }
   ],
   "source": [
    "def change_sring(str1):\n",
    "      return str1[-1:] + str1[1:-1] + str1[:1]\n",
    "\t  \n",
    "print(change_sring('abcd'))\n",
    "print(change_sring('12345'))\n"
   ]
  },
  {
   "cell_type": "code",
   "execution_count": 60,
   "id": "2091e4c4",
   "metadata": {},
   "outputs": [
    {
     "ename": "AttributeError",
     "evalue": "'str' object has no attribute 'remove'",
     "output_type": "error",
     "traceback": [
      "\u001b[1;31m---------------------------------------------------------------------------\u001b[0m",
      "\u001b[1;31mAttributeError\u001b[0m                            Traceback (most recent call last)",
      "\u001b[1;32m~\\AppData\\Local\\Temp/ipykernel_13796/1733589376.py\u001b[0m in \u001b[0;36m<module>\u001b[1;34m\u001b[0m\n\u001b[0;32m      2\u001b[0m \u001b[1;32mfor\u001b[0m \u001b[0mword\u001b[0m \u001b[1;32min\u001b[0m \u001b[0mSample\u001b[0m\u001b[1;33m:\u001b[0m\u001b[1;33m\u001b[0m\u001b[1;33m\u001b[0m\u001b[0m\n\u001b[0;32m      3\u001b[0m     \u001b[1;32mif\u001b[0m \u001b[0mword\u001b[0m \u001b[1;33m==\u001b[0m \u001b[0mword\u001b[0m\u001b[1;33m:\u001b[0m\u001b[1;33m\u001b[0m\u001b[1;33m\u001b[0m\u001b[0m\n\u001b[1;32m----> 4\u001b[1;33m         \u001b[0md\u001b[0m \u001b[1;33m=\u001b[0m \u001b[0mSample\u001b[0m\u001b[1;33m.\u001b[0m\u001b[0mremove\u001b[0m\u001b[1;33m(\u001b[0m\u001b[0mword\u001b[0m\u001b[1;33m)\u001b[0m\u001b[1;33m\u001b[0m\u001b[1;33m\u001b[0m\u001b[0m\n\u001b[0m\u001b[0;32m      5\u001b[0m \u001b[0mprint\u001b[0m \u001b[1;33m(\u001b[0m\u001b[0msorted\u001b[0m\u001b[1;33m(\u001b[0m\u001b[0md\u001b[0m\u001b[1;33m)\u001b[0m\u001b[1;33m)\u001b[0m\u001b[1;33m\u001b[0m\u001b[1;33m\u001b[0m\u001b[0m\n\u001b[0;32m      6\u001b[0m \u001b[1;33m\u001b[0m\u001b[0m\n",
      "\u001b[1;31mAttributeError\u001b[0m: 'str' object has no attribute 'remove'"
     ]
    }
   ],
   "source": [
    "Sample =  'red, white, black, red, green, black'\n",
    "for word in Sample:\n",
    "    if word == word:\n",
    "        d = Sample.remove(word)\n",
    "print (sorted(d))\n",
    "        \n"
   ]
  },
  {
   "cell_type": "code",
   "execution_count": 64,
   "id": "1182be16",
   "metadata": {},
   "outputs": [
    {
     "name": "stdout",
     "output_type": "stream",
     "text": [
      "sdfgh\n",
      "ghghghgh\n"
     ]
    }
   ],
   "source": [
    "f = input()\n",
    "print (f[-2:]*4)"
   ]
  },
  {
   "cell_type": "code",
   "execution_count": 1,
   "id": "da0155b0",
   "metadata": {},
   "outputs": [],
   "source": [
    "def merge_the_tools(string, k):\n",
    "    # your code goes here\n",
    "    n_sub = int(len(string)/k)\n",
    "    \n",
    "    for i in range(n_sub):\n",
    "        sub = string[i*k : (i+1)*k]\n",
    "        sub_uniq = list(dict.fromkeys(list(sub)))\n",
    "        print(\"\".join(sub_uniq))"
   ]
  },
  {
   "cell_type": "code",
   "execution_count": 2,
   "id": "2e223eaa",
   "metadata": {},
   "outputs": [
    {
     "name": "stdout",
     "output_type": "stream",
     "text": [
      "4\n",
      "5\n",
      "39°\n"
     ]
    }
   ],
   "source": [
    "import math\n",
    "AB = int(input().strip())\n",
    "BC = int(input().strip())\n",
    "print(f\"{round(math.degrees(math.atan(AB/BC)))}\\u00B0\")"
   ]
  },
  {
   "cell_type": "code",
   "execution_count": 3,
   "id": "043b64dd",
   "metadata": {},
   "outputs": [
    {
     "name": "stdout",
     "output_type": "stream",
     "text": [
      "5\n",
      "6\n",
      "7\n",
      "9\n",
      "0\n"
     ]
    }
   ],
   "source": [
    "n_m = input()\n",
    "\n",
    "array = input().split()\n",
    "setA = set(input().split())\n",
    "setB = set(input().split())\n",
    "happiness = 0\n",
    "\n",
    "for i in array:\n",
    "    if i in setA:\n",
    "        happiness += 1\n",
    "    elif i in setB:\n",
    "        happiness -= 1\n",
    "        \n",
    "print(happiness)"
   ]
  },
  {
   "cell_type": "code",
   "execution_count": 4,
   "id": "2e1acb6b",
   "metadata": {},
   "outputs": [
    {
     "name": "stdout",
     "output_type": "stream",
     "text": [
      "4\n",
      "sdfg\n",
      "s\n",
      "d\n",
      "f\n",
      "g\n"
     ]
    }
   ],
   "source": [
    "n = int(input())\n",
    "d = input()\n",
    "\n",
    "for i in d:\n",
    "    if i in i :\n",
    "        print(i)\n",
    "    else:\n",
    "        print ('no word')"
   ]
  },
  {
   "cell_type": "code",
   "execution_count": 6,
   "id": "7405ed5e",
   "metadata": {},
   "outputs": [
    {
     "name": "stdout",
     "output_type": "stream",
     "text": [
      "4\n",
      "asdfgh\n",
      "drtyuio\n",
      "sdfghj\n",
      "asdrtyui\n",
      "4\n",
      "1 1 1 1\n"
     ]
    }
   ],
   "source": [
    "from collections import Counter\n",
    "\n",
    "\n",
    "n = int(input())\n",
    "\n",
    "word_list = []\n",
    "for i in range(n):\n",
    "    word = input()\n",
    "  \n",
    "    word_list.append(word)\n",
    "    \n",
    "p = Counter(word_list)\n",
    "j = 0\n",
    "for k in p:\n",
    "    j += 1\n",
    "print(j)\n",
    "print(*p.values())"
   ]
  },
  {
   "cell_type": "code",
   "execution_count": 8,
   "id": "7b4cf9e8",
   "metadata": {},
   "outputs": [
    {
     "name": "stdout",
     "output_type": "stream",
     "text": [
      "345\n"
     ]
    },
    {
     "ename": "TypeError",
     "evalue": "'int' object is not iterable",
     "output_type": "error",
     "traceback": [
      "\u001b[1;31m---------------------------------------------------------------------------\u001b[0m",
      "\u001b[1;31mTypeError\u001b[0m                                 Traceback (most recent call last)",
      "\u001b[1;32m~\\AppData\\Local\\Temp/ipykernel_10616/940028685.py\u001b[0m in \u001b[0;36m<module>\u001b[1;34m\u001b[0m\n\u001b[0;32m      1\u001b[0m \u001b[1;32mfrom\u001b[0m \u001b[0mitertools\u001b[0m \u001b[1;32mimport\u001b[0m \u001b[0mpermutations\u001b[0m\u001b[1;33m\u001b[0m\u001b[1;33m\u001b[0m\u001b[0m\n\u001b[0;32m      2\u001b[0m \u001b[0mp\u001b[0m \u001b[1;33m=\u001b[0m \u001b[0mint\u001b[0m\u001b[1;33m(\u001b[0m\u001b[0minput\u001b[0m\u001b[1;33m(\u001b[0m\u001b[1;33m)\u001b[0m\u001b[1;33m)\u001b[0m\u001b[1;33m\u001b[0m\u001b[1;33m\u001b[0m\u001b[0m\n\u001b[1;32m----> 3\u001b[1;33m \u001b[0mf\u001b[0m \u001b[1;33m=\u001b[0m \u001b[0mpermutations\u001b[0m\u001b[1;33m(\u001b[0m\u001b[0mp\u001b[0m\u001b[1;33m)\u001b[0m\u001b[1;33m\u001b[0m\u001b[1;33m\u001b[0m\u001b[0m\n\u001b[0m\u001b[0;32m      4\u001b[0m \u001b[1;32mfor\u001b[0m \u001b[0mi\u001b[0m \u001b[1;32min\u001b[0m \u001b[0mlist\u001b[0m\u001b[1;33m(\u001b[0m\u001b[0mf\u001b[0m\u001b[1;33m)\u001b[0m\u001b[1;33m:\u001b[0m\u001b[1;33m\u001b[0m\u001b[1;33m\u001b[0m\u001b[0m\n\u001b[0;32m      5\u001b[0m     \u001b[0mprint\u001b[0m \u001b[1;33m(\u001b[0m\u001b[0mi\u001b[0m\u001b[1;33m)\u001b[0m\u001b[1;33m\u001b[0m\u001b[1;33m\u001b[0m\u001b[0m\n",
      "\u001b[1;31mTypeError\u001b[0m: 'int' object is not iterable"
     ]
    }
   ],
   "source": [
    "from itertools import permutations \n",
    "p = int(input())\n",
    "f = permutations(p)\n",
    "for i in list(f):\n",
    "    print (i)"
   ]
  },
  {
   "cell_type": "code",
   "execution_count": 1,
   "id": "35e8d301",
   "metadata": {},
   "outputs": [],
   "source": [
    "def num(a):\n",
    "    for i in a:\n",
    "        if i == i:\n",
    "            print ('same')"
   ]
  },
  {
   "cell_type": "code",
   "execution_count": 2,
   "id": "7e7eb799",
   "metadata": {},
   "outputs": [],
   "source": [
    "d = [12,34,56,7,8,9,5,3,5,2,5,24]\n",
    "def p(d):\n",
    "    for i in d:\n",
    "        if i%3==0:\n",
    "            print (i)"
   ]
  },
  {
   "cell_type": "code",
   "execution_count": 4,
   "id": "f1b57b11",
   "metadata": {},
   "outputs": [],
   "source": [
    "def uni(s):\n",
    "    for i in  s:\n",
    "        if i+i+i == 0:\n",
    "            print ('unique')"
   ]
  },
  {
   "cell_type": "code",
   "execution_count": 5,
   "id": "d8998538",
   "metadata": {},
   "outputs": [
    {
     "name": "stdout",
     "output_type": "stream",
     "text": [
      "[(-6, 2, 4)]\n"
     ]
    }
   ],
   "source": [
    "def three_sum(nums):\n",
    "  result = []\n",
    "  nums.sort()\n",
    "  for i in range(len(nums)-2):\n",
    "    if i> 0 and nums[i] == nums[i-1]:\n",
    "      continue\n",
    "    l, r = i+1, len(nums)-1\n",
    "    while l < r:\n",
    "      s = nums[i] + nums[l] + nums[r]\n",
    "      if s > 0:\n",
    "        r -= 1\n",
    "      elif s < 0:\n",
    "          l += 1\n",
    "      else:\n",
    "        # found three sum\n",
    "        result.append((nums[i], nums[l], nums[r]))\n",
    "        # remove duplicates\n",
    "        while l < r and nums[l] == nums[l+1]:\n",
    "          l+=1\n",
    "          while l < r and nums[r] == nums[r-1]:\n",
    "            r -= 1\n",
    "            l += 1\n",
    "            r -= 1\n",
    "          return result\n",
    "\n",
    "x = [1, -6, 4, 2, -1, 2, 0, -2, 0 ]\n",
    "print(three_sum(x))\n"
   ]
  },
  {
   "cell_type": "code",
   "execution_count": 11,
   "id": "79aba06c",
   "metadata": {},
   "outputs": [
    {
     "name": "stdout",
     "output_type": "stream",
     "text": [
      "Counter({'S': 2, 'D': 2, 'F': 2, 'G': 2, 'H': 2, 'A': 1, 'J': 1, 'M': 1, 'X': 1})\n"
     ]
    }
   ],
   "source": [
    "from collections import Counter\n",
    "d = 'ASDFGHJMHGFDSX'\n",
    "f = list(d)\n",
    "print (Counter(f))"
   ]
  },
  {
   "cell_type": "code",
   "execution_count": 12,
   "id": "b7bf4b6f",
   "metadata": {},
   "outputs": [],
   "source": [
    "X = [10, 20, 20, 20]\n",
    "def cheak(X):\n",
    "    for i in X:\n",
    "        if sum(i) == 70:\n",
    "            print ('True')"
   ]
  },
  {
   "cell_type": "code",
   "execution_count": 13,
   "id": "50cf6c6e",
   "metadata": {},
   "outputs": [
    {
     "name": "stdout",
     "output_type": "stream",
     "text": [
      "['jt', 'ju', 'jv', 'kt', 'ku', 'kv', 'lt', 'lu', 'lv']\n",
      "['dz', 'ez', 'fz']\n"
     ]
    }
   ],
   "source": [
    "def letter_combinations(digits):\n",
    "    if digits == \"\":\n",
    "        return []\n",
    "    string_maps = {\n",
    "        \"1\": \"abc\",\n",
    "        \"2\": \"def\",\n",
    "        \"3\": \"ghi\",\n",
    "        \"4\": \"jkl\",\n",
    "        \"5\": \"mno\",\n",
    "        \"6\": \"pqrs\",\n",
    "        \"7\": \"tuv\",\n",
    "        \"8\": \"wxy\",\n",
    "        \"9\": \"z\"\n",
    "    }\n",
    "    result = [\"\"]\n",
    "    for num in digits:\n",
    "        temp = []\n",
    "        for an in result:\n",
    "            for char in string_maps[num]:\n",
    "                temp.append(an + char)\n",
    "        result = temp\n",
    "    return result\n",
    "\n",
    "digit_string = \"47\"\n",
    "print(letter_combinations(digit_string))\n",
    "digit_string = \"29\"\n",
    "print(letter_combinations(digit_string))\n"
   ]
  },
  {
   "cell_type": "code",
   "execution_count": 14,
   "id": "4700ef33",
   "metadata": {},
   "outputs": [],
   "source": [
    "def g(a,d):\n",
    "    sum(a,d)"
   ]
  },
  {
   "cell_type": "code",
   "execution_count": 2,
   "id": "b440cc08",
   "metadata": {},
   "outputs": [],
   "source": [
    "def mod(x):\n",
    "    if len(x) == 10:\n",
    "        print ('missing')\n",
    "    else:\n",
    "        print ('not missing')"
   ]
  },
  {
   "cell_type": "code",
   "execution_count": 9,
   "id": "7d2c4e95",
   "metadata": {},
   "outputs": [
    {
     "name": "stdout",
     "output_type": "stream",
     "text": [
      "9\n"
     ]
    }
   ],
   "source": [
    "def divsor(s, t):\n",
    "    X = len([i for i in range(1 , s+1)])\n",
    "    return X\n",
    "    Y = len([i for i in range(1 , t+1 )])\n",
    "    return Y\n",
    "    if X == Y:\n",
    "        print ('common')\n",
    "print(divsor(9, 10))"
   ]
  },
  {
   "cell_type": "code",
   "execution_count": 17,
   "id": "97de43c7",
   "metadata": {},
   "outputs": [
    {
     "name": "stdout",
     "output_type": "stream",
     "text": [
      "144\n"
     ]
    }
   ],
   "source": [
    "f = [1,2,3,45,6,7,8]\n",
    "o = (f[::-1])\n",
    "g = sum(o+f)\n",
    "print (g)\n",
    "    "
   ]
  },
  {
   "cell_type": "code",
   "execution_count": 19,
   "id": "2e421a55",
   "metadata": {},
   "outputs": [
    {
     "name": "stdout",
     "output_type": "stream",
     "text": [
      "1234567\n"
     ]
    },
    {
     "ename": "TypeError",
     "evalue": "'int' object is not iterable",
     "output_type": "error",
     "traceback": [
      "\u001b[1;31m---------------------------------------------------------------------------\u001b[0m",
      "\u001b[1;31mTypeError\u001b[0m                                 Traceback (most recent call last)",
      "\u001b[1;32m~\\AppData\\Local\\Temp/ipykernel_6364/700781356.py\u001b[0m in \u001b[0;36m<module>\u001b[1;34m\u001b[0m\n\u001b[0;32m      1\u001b[0m \u001b[0md\u001b[0m \u001b[1;33m=\u001b[0m \u001b[0mint\u001b[0m\u001b[1;33m(\u001b[0m\u001b[0minput\u001b[0m\u001b[1;33m(\u001b[0m\u001b[1;33m)\u001b[0m\u001b[1;33m)\u001b[0m\u001b[1;33m\u001b[0m\u001b[1;33m\u001b[0m\u001b[0m\n\u001b[1;32m----> 2\u001b[1;33m \u001b[0mf\u001b[0m \u001b[1;33m=\u001b[0m \u001b[1;33m(\u001b[0m\u001b[0msorted\u001b[0m\u001b[1;33m(\u001b[0m\u001b[0md\u001b[0m\u001b[1;33m)\u001b[0m\u001b[1;33m)\u001b[0m\u001b[1;33m\u001b[0m\u001b[1;33m\u001b[0m\u001b[0m\n\u001b[0m\u001b[0;32m      3\u001b[0m \u001b[0mprint\u001b[0m \u001b[1;33m(\u001b[0m\u001b[0mf\u001b[0m\u001b[1;33m[\u001b[0m\u001b[1;33m-\u001b[0m\u001b[1;36m1\u001b[0m\u001b[1;33m]\u001b[0m\u001b[1;33m)\u001b[0m\u001b[1;33m\u001b[0m\u001b[1;33m\u001b[0m\u001b[0m\n",
      "\u001b[1;31mTypeError\u001b[0m: 'int' object is not iterable"
     ]
    }
   ],
   "source": [
    "d = int(input())\n",
    "f = (sorted(d))\n",
    "print (f[-1])"
   ]
  },
  {
   "cell_type": "code",
   "execution_count": 20,
   "id": "93d5bdd3",
   "metadata": {},
   "outputs": [
    {
     "name": "stdout",
     "output_type": "stream",
     "text": [
      "100000\n",
      "7\n",
      "8\n",
      "56000.0\n"
     ]
    }
   ],
   "source": [
    "a = int(input())\n",
    "r = int(input())\n",
    "m = int(input())\n",
    "f = a*r*m/100\n",
    "print (f)"
   ]
  },
  {
   "cell_type": "code",
   "execution_count": 2,
   "id": "037dc94b",
   "metadata": {},
   "outputs": [
    {
     "name": "stdout",
     "output_type": "stream",
     "text": [
      "4\n",
      "4\n"
     ]
    }
   ],
   "source": [
    "r = int(input())\n",
    "t = int(input())\n",
    "d = r+t\n",
    "if d>80:\n",
    "    print ('overflow')"
   ]
  },
  {
   "cell_type": "code",
   "execution_count": 5,
   "id": "3c4e91ad",
   "metadata": {},
   "outputs": [],
   "source": [
    "def numf(A):\n",
    "    for i in A:\n",
    "        if i == i:\n",
    "            return i\n",
    "#print(numf(1,2,3,1,23))        "
   ]
  },
  {
   "cell_type": "code",
   "execution_count": 6,
   "id": "cc04750b",
   "metadata": {},
   "outputs": [
    {
     "ename": "IndentationError",
     "evalue": "expected an indented block (Temp/ipykernel_1012/168384025.py, line 3)",
     "output_type": "error",
     "traceback": [
      "\u001b[1;36m  File \u001b[1;32m\"C:\\Users\\win10\\AppData\\Local\\Temp/ipykernel_1012/168384025.py\"\u001b[1;36m, line \u001b[1;32m3\u001b[0m\n\u001b[1;33m    \u001b[0m\n\u001b[1;37m    ^\u001b[0m\n\u001b[1;31mIndentationError\u001b[0m\u001b[1;31m:\u001b[0m expected an indented block\n"
     ]
    }
   ],
   "source": [
    "d = [2,3,4,56,78,56,90,3,10,67]\n",
    "while True:\n",
    "    "
   ]
  },
  {
   "cell_type": "code",
   "execution_count": 8,
   "id": "233b5b3d",
   "metadata": {},
   "outputs": [
    {
     "name": "stdout",
     "output_type": "stream",
     "text": [
      "1\n",
      "None\n"
     ]
    }
   ],
   "source": [
    "def unique(X):\n",
    "    for i in X:\n",
    "        if i+i+i == 3:\n",
    "            print (i)\n",
    "print (unique([1,-2,-3,4,5,7,-8]))       \n"
   ]
  },
  {
   "cell_type": "code",
   "execution_count": 9,
   "id": "125a70b5",
   "metadata": {},
   "outputs": [
    {
     "name": "stdout",
     "output_type": "stream",
     "text": [
      "(2, 3, 4)\n",
      "(2, 4, 3)\n",
      "(3, 2, 4)\n",
      "(3, 4, 2)\n",
      "(4, 2, 3)\n",
      "(4, 3, 2)\n"
     ]
    }
   ],
   "source": [
    "from itertools import permutations \n",
    "prem = permutations([2,3,4])\n",
    "for i in prem:\n",
    "    print (i)"
   ]
  },
  {
   "cell_type": "code",
   "execution_count": 10,
   "id": "8d630090",
   "metadata": {},
   "outputs": [
    {
     "name": "stdout",
     "output_type": "stream",
     "text": [
      "999\n"
     ]
    }
   ],
   "source": [
    "numbers = []\n",
    "for num in range(1000):\n",
    "  num=str(num).zfill(3)\n",
    "print(num)\n",
    "numbers.append(num)\n"
   ]
  },
  {
   "cell_type": "code",
   "execution_count": 16,
   "id": "9e8d9872",
   "metadata": {},
   "outputs": [
    {
     "name": "stdout",
     "output_type": "stream",
     "text": [
      "asdfghj\n",
      "\n",
      "Counter({'a': 1, 's': 1, 'd': 1, 'f': 1, 'g': 1, 'h': 1, 'j': 1})\n"
     ]
    }
   ],
   "source": [
    "from collections import Counter\n",
    "text = []\n",
    "d = input()\n",
    "print (str())\n",
    "g = list(d)\n",
    "print (Counter(g))"
   ]
  },
  {
   "cell_type": "code",
   "execution_count": 19,
   "id": "1902786c",
   "metadata": {},
   "outputs": [],
   "source": [
    "def ad(a,b):\n",
    "    return sum(a,b)"
   ]
  },
  {
   "cell_type": "code",
   "execution_count": 20,
   "id": "edb1d53a",
   "metadata": {},
   "outputs": [],
   "source": [
    "def median(X):\n",
    "    d = list(X)\n",
    "    for i in X:\n",
    "        return (sum(i)/len(X))"
   ]
  },
  {
   "cell_type": "code",
   "execution_count": 26,
   "id": "e3cc4e51",
   "metadata": {},
   "outputs": [
    {
     "name": "stdout",
     "output_type": "stream",
     "text": [
      "-2464\n"
     ]
    }
   ],
   "source": [
    "def third(a,b):\n",
    "    d = (a*a - b*b)\n",
    "    return (d)\n",
    "print (third(45,67))"
   ]
  },
  {
   "cell_type": "code",
   "execution_count": 27,
   "id": "a12c8213",
   "metadata": {},
   "outputs": [],
   "source": [
    "d = [1,2,3,4,5,6]\n",
    "def che(d):\n",
    "    for i in d:\n",
    "        if i-i == 0:\n",
    "            print ('athrematic')"
   ]
  },
  {
   "cell_type": "code",
   "execution_count": 7,
   "id": "2ddcd9a4",
   "metadata": {},
   "outputs": [
    {
     "name": "stdout",
     "output_type": "stream",
     "text": [
      "342\n"
     ]
    }
   ],
   "source": [
    "X = [1,2,3,4,5,67,89]\n",
    "y = X[::-1]\n",
    "for i in X:\n",
    "    r =  (sum (X+y))\n",
    "print (r)"
   ]
  },
  {
   "cell_type": "code",
   "execution_count": 10,
   "id": "65e99332",
   "metadata": {},
   "outputs": [
    {
     "name": "stdout",
     "output_type": "stream",
     "text": [
      "None\n",
      "90\n"
     ]
    }
   ],
   "source": [
    "X = [1,2,3,4,5,67,89]\n",
    "y = X[::-1]\n",
    "f = []\n",
    "for i in X:\n",
    "    for j in y:\n",
    "        g = (i+j)\n",
    "        h = f.append(g)\n",
    "print (h)\n",
    "print (g)\n",
    "        "
   ]
  },
  {
   "cell_type": "code",
   "execution_count": 11,
   "id": "0e935758",
   "metadata": {},
   "outputs": [
    {
     "name": "stdout",
     "output_type": "stream",
     "text": [
      "5555\n",
      "9339\n"
     ]
    }
   ],
   "source": [
    "def rev_number(n):\n",
    "  s = 0\n",
    "  while True:\n",
    "    k = str(n)\n",
    "    if k == k[::-1]:\n",
    "      break\n",
    "    else:\n",
    "      m = int(k[::-1])\n",
    "      n += m\n",
    "      s += 1\n",
    "  return n \n",
    "\n",
    "print(rev_number(1234))\n",
    "print(rev_number(1473))\n"
   ]
  },
  {
   "cell_type": "code",
   "execution_count": 5,
   "id": "32aa56e1",
   "metadata": {},
   "outputs": [],
   "source": [
    "def top(X):\n",
    "    for i in X:\n",
    "        f = sorted(X)\n",
    "        g = f[3]\n"
   ]
  },
  {
   "cell_type": "code",
   "execution_count": 9,
   "id": "b215b758",
   "metadata": {},
   "outputs": [],
   "source": [
    "def lef(x,y):\n",
    "    d=  (sum(x,y))\n",
    "    print (len(d))\n",
    "#print (lef(4,5))"
   ]
  },
  {
   "cell_type": "code",
   "execution_count": 12,
   "id": "39e799bc",
   "metadata": {},
   "outputs": [
    {
     "name": "stdout",
     "output_type": "stream",
     "text": [
      "None\n"
     ]
    }
   ],
   "source": [
    "def rep(X):\n",
    "    if X == 'python':\n",
    "        d = X.replace('java')\n",
    "        print (d)\n",
    "print (rep('Python'))"
   ]
  },
  {
   "cell_type": "code",
   "execution_count": 13,
   "id": "522888c1",
   "metadata": {},
   "outputs": [
    {
     "name": "stdout",
     "output_type": "stream",
     "text": [
      "Input a text with two words 'Python' and 'Java'\n",
      "p\n",
      "p\n"
     ]
    }
   ],
   "source": [
    "print(\"Input a text with two words 'Python' and 'Java'\")\n",
    "text = input().split()\n",
    "for i in range(len(text)):\n",
    "    if \"Python\" in text[i]:n = text[i].index(\"Python\");text[i] = text[i][:n] + \"Java\" + text[i][n + 6:]\n",
    "    elif \"Java\" in text[i]:n = text[i].index(\"Java\");text[i] = text[i][:n] + \"Python\" + text[i][n + 4:]\n",
    "print(*text)\n"
   ]
  },
  {
   "cell_type": "code",
   "execution_count": 15,
   "id": "e8c10940",
   "metadata": {},
   "outputs": [
    {
     "name": "stdout",
     "output_type": "stream",
     "text": [
      "right angle\n",
      "None\n"
     ]
    }
   ],
   "source": [
    "def rig(x,y,z): \n",
    "    if (x*2 + y*2) == z*2:\n",
    "        print ('right angle')\n",
    "    else:\n",
    "        print ('not')\n",
    "print (rig(2,3,5))"
   ]
  },
  {
   "cell_type": "code",
   "execution_count": 18,
   "id": "5b034605",
   "metadata": {},
   "outputs": [],
   "source": [
    "test_list = [\"Gfg\", \"is\", \"Good\", \"for\", \"Geeks\"] \n",
    "test_dict = {\"Gfg\" : 5, \"Best\" : 6} \n",
    "K = \"Gfg\"\n",
    "def chaek(test_list, test_dict):\n",
    "    for key in test_dict.value():\n",
    "        for i in test_list:\n",
    "            if key == 'Gfg'  and i == 'Gfg':\n",
    "                print ('present')"
   ]
  },
  {
   "cell_type": "code",
   "execution_count": 5,
   "id": "0182a6d0",
   "metadata": {},
   "outputs": [
    {
     "name": "stdout",
     "output_type": "stream",
     "text": [
      "12345678\n"
     ]
    },
    {
     "ename": "TypeError",
     "evalue": "'int' object is not iterable",
     "output_type": "error",
     "traceback": [
      "\u001b[1;31m---------------------------------------------------------------------------\u001b[0m",
      "\u001b[1;31mTypeError\u001b[0m                                 Traceback (most recent call last)",
      "\u001b[1;32m~\\AppData\\Local\\Temp/ipykernel_7984/3601924479.py\u001b[0m in \u001b[0;36m<module>\u001b[1;34m\u001b[0m\n\u001b[0;32m      1\u001b[0m \u001b[0md\u001b[0m\u001b[1;33m=\u001b[0m \u001b[0mint\u001b[0m\u001b[1;33m(\u001b[0m\u001b[0minput\u001b[0m\u001b[1;33m(\u001b[0m\u001b[1;33m)\u001b[0m\u001b[1;33m)\u001b[0m\u001b[1;33m\u001b[0m\u001b[1;33m\u001b[0m\u001b[0m\n\u001b[1;32m----> 2\u001b[1;33m \u001b[0mf\u001b[0m \u001b[1;33m=\u001b[0m \u001b[0msorted\u001b[0m\u001b[1;33m(\u001b[0m\u001b[0md\u001b[0m\u001b[1;33m)\u001b[0m\u001b[1;33m\u001b[0m\u001b[1;33m\u001b[0m\u001b[0m\n\u001b[0m\u001b[0;32m      3\u001b[0m \u001b[0mprint\u001b[0m \u001b[1;33m(\u001b[0m\u001b[0mf\u001b[0m\u001b[1;33m)\u001b[0m\u001b[1;33m\u001b[0m\u001b[1;33m\u001b[0m\u001b[0m\n",
      "\u001b[1;31mTypeError\u001b[0m: 'int' object is not iterable"
     ]
    }
   ],
   "source": [
    "d= int(input())\n",
    "f = sorted(d)\n",
    "print (f)"
   ]
  },
  {
   "cell_type": "code",
   "execution_count": 11,
   "id": "0e7f7841",
   "metadata": {},
   "outputs": [
    {
     "name": "stdout",
     "output_type": "stream",
     "text": [
      "\n"
     ]
    }
   ],
   "source": [
    "f = [\"abcdefgh\",\"abcefgh\"]\n",
    "for i in f:\n",
    "    fo = []\n",
    "    if f.count(i) < 3:\n",
    "         h =  fo.append(i)\n",
    "print ()"
   ]
  },
  {
   "cell_type": "code",
   "execution_count": 13,
   "id": "c24040ca",
   "metadata": {},
   "outputs": [
    {
     "name": "stdout",
     "output_type": "stream",
     "text": [
      "a\n",
      "a\n"
     ]
    }
   ],
   "source": [
    "f = [\"abcdefgh\",\"abcefgh\"]\n",
    "for i in f:\n",
    "    print (i[0])"
   ]
  },
  {
   "cell_type": "code",
   "execution_count": 15,
   "id": "d4da66dd",
   "metadata": {},
   "outputs": [
    {
     "name": "stdout",
     "output_type": "stream",
     "text": [
      "sdfghjk\n"
     ]
    }
   ],
   "source": [
    "f = (input())\n",
    "for i in f:\n",
    "    if i  in 'a,e,i,o,u':\n",
    "        print ('false')\n"
   ]
  },
  {
   "cell_type": "code",
   "execution_count": 17,
   "id": "6639a77b",
   "metadata": {},
   "outputs": [
    {
     "name": "stdout",
     "output_type": "stream",
     "text": [
      "2345\n"
     ]
    },
    {
     "ename": "TypeError",
     "evalue": "'int' object is not iterable",
     "output_type": "error",
     "traceback": [
      "\u001b[1;31m---------------------------------------------------------------------------\u001b[0m",
      "\u001b[1;31mTypeError\u001b[0m                                 Traceback (most recent call last)",
      "\u001b[1;32m~\\AppData\\Local\\Temp/ipykernel_7984/3514878349.py\u001b[0m in \u001b[0;36m<module>\u001b[1;34m\u001b[0m\n\u001b[0;32m      1\u001b[0m \u001b[0md\u001b[0m \u001b[1;33m=\u001b[0m \u001b[0mint\u001b[0m\u001b[1;33m(\u001b[0m\u001b[0minput\u001b[0m\u001b[1;33m(\u001b[0m\u001b[1;33m)\u001b[0m\u001b[1;33m)\u001b[0m\u001b[1;33m\u001b[0m\u001b[1;33m\u001b[0m\u001b[0m\n\u001b[1;32m----> 2\u001b[1;33m \u001b[1;32mfor\u001b[0m \u001b[0mchar\u001b[0m \u001b[1;32min\u001b[0m \u001b[0md\u001b[0m\u001b[1;33m:\u001b[0m\u001b[1;33m\u001b[0m\u001b[1;33m\u001b[0m\u001b[0m\n\u001b[0m\u001b[0;32m      3\u001b[0m     \u001b[1;32mif\u001b[0m \u001b[0mchar\u001b[0m\u001b[1;33m[\u001b[0m\u001b[1;36m0\u001b[0m\u001b[1;33m]\u001b[0m \u001b[1;33m==\u001b[0m \u001b[0mchar\u001b[0m\u001b[1;33m[\u001b[0m\u001b[1;33m-\u001b[0m\u001b[1;36m1\u001b[0m\u001b[1;33m]\u001b[0m\u001b[1;33m:\u001b[0m\u001b[1;33m\u001b[0m\u001b[1;33m\u001b[0m\u001b[0m\n\u001b[0;32m      4\u001b[0m         \u001b[0mprint\u001b[0m \u001b[1;33m(\u001b[0m\u001b[0mchar\u001b[0m\u001b[1;33m)\u001b[0m\u001b[1;33m\u001b[0m\u001b[1;33m\u001b[0m\u001b[0m\n",
      "\u001b[1;31mTypeError\u001b[0m: 'int' object is not iterable"
     ]
    }
   ],
   "source": [
    "d = int(input())\n",
    "for char in d:\n",
    "    if char[0] == char[-1]:\n",
    "        print (char)"
   ]
  },
  {
   "cell_type": "code",
   "execution_count": 23,
   "id": "17c35dfb",
   "metadata": {},
   "outputs": [
    {
     "name": "stdout",
     "output_type": "stream",
     "text": [
      "6 [1, 2, 3, 4, 5, 5]\n"
     ]
    }
   ],
   "source": [
    "F = [1, 2, 3, 4, 5, 6, 7, 5]\n",
    "k = 5 \n",
    "for i in F:\n",
    "    if i == k:\n",
    "        d = F.pop(k)\n",
    "        g = len(F)\n",
    "\n",
    "print (g,F)\n"
   ]
  },
  {
   "cell_type": "code",
   "execution_count": 24,
   "id": "55605c46",
   "metadata": {},
   "outputs": [
    {
     "name": "stdout",
     "output_type": "stream",
     "text": [
      "[0, 5]\n",
      "[0, 0]\n",
      "[0, 3]\n"
     ]
    }
   ],
   "source": [
    "def search_Range(array_nums, target_val):\n",
    "  result_arra = []\n",
    "  start_pos = 0\n",
    "  end_pos = 0\n",
    "  for i in range(len(array_nums)):\n",
    "      if target_val == array_nums[i] and start_pos == -1:\n",
    "          start_pos = i\n",
    "          end_pos = i\n",
    "      elif target_val == array_nums[i] and start_pos != -1:\n",
    "          end_pos = i\n",
    "  result_arra.append(start_pos)\n",
    "  result_arra.append(end_pos)\n",
    "  return result_arra\n",
    "print(search_Range([5, 7, 7, 8, 8, 8], 8))\n",
    "print(search_Range([1, 3, 6, 9, 13, 14], 4))\n",
    "print(search_Range([5, 7, 7, 8, 10], 8))\n",
    "\n",
    "\n"
   ]
  },
  {
   "cell_type": "code",
   "execution_count": 25,
   "id": "07a807fe",
   "metadata": {},
   "outputs": [
    {
     "name": "stdout",
     "output_type": "stream",
     "text": [
      "[1, 2, 3, 4]\n",
      "[5, 6, 7, 8]\n",
      "[0, 6, 2, 8]\n",
      "[2, 3, 0, 2]\n"
     ]
    }
   ],
   "source": [
    "Input = [[1, 2, 3,4],\n",
    "[5, 6, 7, 8],\n",
    "[0, 6, 2, 8],\n",
    "[2, 3, 0, 2]]\n",
    "for i in Input:\n",
    "    print (i)"
   ]
  },
  {
   "cell_type": "code",
   "execution_count": 26,
   "id": "b7a27e86",
   "metadata": {},
   "outputs": [
    {
     "name": "stdout",
     "output_type": "stream",
     "text": [
      "35\n"
     ]
    }
   ],
   "source": [
    "def max_profit(stock_price):\n",
    "\tmax_profit_amt = 0\n",
    "\n",
    "\tfor i in range(len(stock_price)):\n",
    "\t\tprofit_amt = 0\n",
    "\t\tfor j in range(i+1, len(stock_price)):\n",
    "\t\t\tprofit_amt = stock_price[j] - stock_price[i]\n",
    "\t\t\tif  profit_amt > max_profit_amt:\n",
    "\t\t\t\tmax_profit_amt = profit_amt\n",
    "\treturn max_profit_amt\n",
    "print(max_profit([224, 236, 247, 258, 259, 225]))\n"
   ]
  },
  {
   "cell_type": "code",
   "execution_count": 28,
   "id": "f0cc3fad",
   "metadata": {},
   "outputs": [
    {
     "name": "stdout",
     "output_type": "stream",
     "text": [
      "222222222268-1015268-1015666666666888888888268-1015-10-10-10-10-10-10-10-10-10151515151515151515268-1015"
     ]
    }
   ],
   "source": [
    "C =[2, 3, 7, 6, 8, -1, -10, 15, 16]\n",
    "D = [1, 2, 4, -7, 6, 8, 1, -10, 15]\n",
    "for i in C:\n",
    "    for j in D:\n",
    "        if i in D:\n",
    "            print (i , end = '')\n",
    "        elif j in C:\n",
    "            print (j, end = '')\n",
    "            \n"
   ]
  },
  {
   "cell_type": "code",
   "execution_count": 30,
   "id": "ea4f4a10",
   "metadata": {},
   "outputs": [],
   "source": [
    "import random\n",
    "def ran(d):\n",
    "    for i in range(1,100):\n",
    "        if i %2 == 0:\n",
    "            print (sample(i))\n",
    "        "
   ]
  },
  {
   "cell_type": "code",
   "execution_count": 35,
   "id": "cc8c073e",
   "metadata": {},
   "outputs": [],
   "source": [
    "def gh(D):\n",
    "    for i in D:\n",
    "        if d[0] == D[-1]:\n",
    "            return True\n",
    "#print (gh(D = 234))            "
   ]
  },
  {
   "cell_type": "code",
   "execution_count": 41,
   "id": "fcb0a497",
   "metadata": {},
   "outputs": [
    {
     "name": "stdout",
     "output_type": "stream",
     "text": [
      "1\n"
     ]
    }
   ],
   "source": [
    "Original = [1, 2, 3, 4, 5]\n",
    "for i in Original:\n",
    "    f = 0\n",
    "    if i > 0:\n",
    "            f += 1\n",
    "print (f)            \n"
   ]
  },
  {
   "cell_type": "code",
   "execution_count": 48,
   "id": "462623a8",
   "metadata": {},
   "outputs": [
    {
     "name": "stdout",
     "output_type": "stream",
     "text": [
      "6\n"
     ]
    }
   ],
   "source": [
    "d = (\"w3resource\")\n",
    "for char in d:\n",
    "    f = []\n",
    "    if char != char:\n",
    "          g=  f.append(i)\n",
    "print (g)"
   ]
  },
  {
   "cell_type": "code",
   "execution_count": 53,
   "id": "148da716",
   "metadata": {},
   "outputs": [
    {
     "name": "stdout",
     "output_type": "stream",
     "text": [
      "1\n",
      "2\n",
      "2\n"
     ]
    }
   ],
   "source": [
    "d = (1, 2, 2)\n",
    "for i in d:\n",
    "    if i == i:\n",
    "        print (d.count(i))\n"
   ]
  },
  {
   "cell_type": "code",
   "execution_count": 57,
   "id": "83d27821",
   "metadata": {},
   "outputs": [
    {
     "name": "stdout",
     "output_type": "stream",
     "text": [
      "false\n"
     ]
    }
   ],
   "source": [
    "f = ('1234567j23456')\n",
    "if len(f) in [8,12]:\n",
    "    print ('true')\n",
    "else:\n",
    "    print ('false')\n"
   ]
  },
  {
   "cell_type": "code",
   "execution_count": 62,
   "id": "dcabf455",
   "metadata": {},
   "outputs": [
    {
     "name": "stdout",
     "output_type": "stream",
     "text": [
      "[7, 10, 20, 30, 40, 50, 60]\n"
     ]
    },
    {
     "ename": "TypeError",
     "evalue": "'builtin_function_or_method' object is not subscriptable",
     "output_type": "error",
     "traceback": [
      "\u001b[1;31m---------------------------------------------------------------------------\u001b[0m",
      "\u001b[1;31mTypeError\u001b[0m                                 Traceback (most recent call last)",
      "\u001b[1;32m~\\AppData\\Local\\Temp/ipykernel_7984/320188293.py\u001b[0m in \u001b[0;36m<module>\u001b[1;34m\u001b[0m\n\u001b[0;32m      3\u001b[0m \u001b[0mprint\u001b[0m \u001b[1;33m(\u001b[0m\u001b[0md\u001b[0m\u001b[1;33m)\u001b[0m\u001b[1;33m\u001b[0m\u001b[1;33m\u001b[0m\u001b[0m\n\u001b[0;32m      4\u001b[0m \u001b[1;32mfor\u001b[0m \u001b[0mi\u001b[0m \u001b[1;32min\u001b[0m \u001b[0mOriginal\u001b[0m\u001b[1;33m:\u001b[0m\u001b[1;33m\u001b[0m\u001b[1;33m\u001b[0m\u001b[0m\n\u001b[1;32m----> 5\u001b[1;33m     \u001b[0md\u001b[0m \u001b[1;33m=\u001b[0m \u001b[0msum\u001b[0m\u001b[1;33m[\u001b[0m\u001b[1;33m:\u001b[0m\u001b[1;33m:\u001b[0m\u001b[1;36m3\u001b[0m\u001b[1;33m]\u001b[0m\u001b[1;33m\u001b[0m\u001b[1;33m\u001b[0m\u001b[0m\n\u001b[0m\u001b[0;32m      6\u001b[0m     \u001b[0mprint\u001b[0m \u001b[1;33m(\u001b[0m\u001b[0md\u001b[0m\u001b[1;33m)\u001b[0m\u001b[1;33m\u001b[0m\u001b[1;33m\u001b[0m\u001b[0m\n",
      "\u001b[1;31mTypeError\u001b[0m: 'builtin_function_or_method' object is not subscriptable"
     ]
    }
   ],
   "source": [
    "Original =  [10, 20, 30, 40, 50, 60, 7]\n",
    "d = sorted(Original)\n",
    "print (d)\n",
    "for i in Original:\n",
    "    d = sum[::3]\n",
    "    print (d)\n"
   ]
  },
  {
   "cell_type": "code",
   "execution_count": 68,
   "id": "4dcb3b05",
   "metadata": {},
   "outputs": [
    {
     "name": "stdout",
     "output_type": "stream",
     "text": [
      "*23swe\n"
     ]
    }
   ],
   "source": [
    "Original =  'kdi39323swe'\n",
    "print (Original.replace(Original[:-5] , '*'))\n"
   ]
  },
  {
   "cell_type": "code",
   "execution_count": 77,
   "id": "79636a87",
   "metadata": {},
   "outputs": [
    {
     "name": "stdout",
     "output_type": "stream",
     "text": [
      "1 2 3 4 5 6 3 4 5 6 7 5 6 7 8 7 8 9 9 10 11 "
     ]
    }
   ],
   "source": [
    "A = [10, 20, 30, 40, 50, 60, 7]\n",
    "d = 0\n",
    "for i in range(len(A)):\n",
    "    for j in range(i+1,len(A)):\n",
    "        print (i+j , end= ' ')\n",
    "    \n"
   ]
  },
  {
   "cell_type": "code",
   "execution_count": 78,
   "id": "a0543025",
   "metadata": {},
   "outputs": [
    {
     "name": "stdout",
     "output_type": "stream",
     "text": [
      "[10, 30, 60, 100, 150, 210, 217]\n",
      "[1, 3, 6, 10, 15]\n",
      "[0, 1, 3, 6, 10, 15]\n"
     ]
    }
   ],
   "source": [
    "def nums_cumulative_sum(nums_list):\n",
    "  return [sum(nums_list[:i+1]) for i in range(len(nums_list))]\n",
    "\n",
    "print(nums_cumulative_sum([10, 20, 30, 40, 50, 60, 7]))\n",
    "print(nums_cumulative_sum([1, 2, 3, 4, 5]))\n",
    "print(nums_cumulative_sum([0, 1, 2, 3, 4, 5]))\n"
   ]
  },
  {
   "cell_type": "code",
   "execution_count": 2,
   "id": "2369b8ed",
   "metadata": {},
   "outputs": [
    {
     "ename": "SyntaxError",
     "evalue": "invalid syntax (Temp/ipykernel_12796/4112340671.py, line 3)",
     "output_type": "error",
     "traceback": [
      "\u001b[1;36m  File \u001b[1;32m\"C:\\Users\\win10\\AppData\\Local\\Temp/ipykernel_12796/4112340671.py\"\u001b[1;36m, line \u001b[1;32m3\u001b[0m\n\u001b[1;33m    if len(i) % == 2:\u001b[0m\n\u001b[1;37m                ^\u001b[0m\n\u001b[1;31mSyntaxError\u001b[0m\u001b[1;31m:\u001b[0m invalid syntax\n"
     ]
    }
   ],
   "source": [
    "Original = 'Python'\n",
    "for i in Original:\n",
    "    if len(i) % == 2:\n",
    "        middle = (len(Original)/2)\n",
    "        print (middle)\n"
   ]
  },
  {
   "cell_type": "code",
   "execution_count": 5,
   "id": "9162fa45",
   "metadata": {},
   "outputs": [
    {
     "name": "stdout",
     "output_type": "stream",
     "text": [
      "141333333333777777777141141141141141161616161616161616"
     ]
    }
   ],
   "source": [
    "s =[2, 3, 7, 6, 8, -1, -10, 15, 16]\n",
    "t = [1, 2, 4, -7, 6, 8, 1, -10, 15]\n",
    "for i in s:\n",
    "    for j in t:\n",
    "        if i not in t and i >0:\n",
    "            print (i, end = '')\n",
    "        elif j not in s and j >0:\n",
    "            print (j , end = '')\n"
   ]
  },
  {
   "cell_type": "code",
   "execution_count": 8,
   "id": "66eea90f",
   "metadata": {},
   "outputs": [
    {
     "ename": "TypeError",
     "evalue": "'int' object is not subscriptable",
     "output_type": "error",
     "traceback": [
      "\u001b[1;31m---------------------------------------------------------------------------\u001b[0m",
      "\u001b[1;31mTypeError\u001b[0m                                 Traceback (most recent call last)",
      "\u001b[1;32m~\\AppData\\Local\\Temp/ipykernel_12796/3912784108.py\u001b[0m in \u001b[0;36m<module>\u001b[1;34m\u001b[0m\n\u001b[0;32m      1\u001b[0m \u001b[0md\u001b[0m \u001b[1;33m=\u001b[0m \u001b[1;36m990099\u001b[0m\u001b[1;33m\u001b[0m\u001b[1;33m\u001b[0m\u001b[0m\n\u001b[1;32m----> 2\u001b[1;33m \u001b[0mf\u001b[0m \u001b[1;33m=\u001b[0m \u001b[0md\u001b[0m\u001b[1;33m[\u001b[0m\u001b[1;36m0\u001b[0m\u001b[1;33m]\u001b[0m\u001b[1;33m\u001b[0m\u001b[1;33m\u001b[0m\u001b[0m\n\u001b[0m\u001b[0;32m      3\u001b[0m \u001b[0mg\u001b[0m \u001b[1;33m=\u001b[0m \u001b[0md\u001b[0m\u001b[1;33m[\u001b[0m\u001b[1;33m-\u001b[0m\u001b[1;36m1\u001b[0m\u001b[1;33m]\u001b[0m\u001b[1;33m\u001b[0m\u001b[1;33m\u001b[0m\u001b[0m\n\u001b[0;32m      4\u001b[0m \u001b[1;32mif\u001b[0m \u001b[0mf\u001b[0m \u001b[1;33m==\u001b[0m \u001b[0mg\u001b[0m\u001b[1;33m:\u001b[0m\u001b[1;33m\u001b[0m\u001b[1;33m\u001b[0m\u001b[0m\n\u001b[0;32m      5\u001b[0m     \u001b[0mprint\u001b[0m \u001b[1;33m(\u001b[0m\u001b[1;34m'True'\u001b[0m\u001b[1;33m)\u001b[0m\u001b[1;33m\u001b[0m\u001b[1;33m\u001b[0m\u001b[0m\n",
      "\u001b[1;31mTypeError\u001b[0m: 'int' object is not subscriptable"
     ]
    }
   ],
   "source": [
    "d = 990099\n",
    "f = d[0]\n",
    "g = d[-1]\n",
    "if f == g:\n",
    "    print ('True')\n",
    "else:\n",
    "    print ('False')\n"
   ]
  },
  {
   "cell_type": "code",
   "execution_count": 9,
   "id": "bc2024dc",
   "metadata": {},
   "outputs": [
    {
     "name": "stdout",
     "output_type": "stream",
     "text": [
      "True\n",
      "True\n"
     ]
    }
   ],
   "source": [
    "s = [\"python\", \"ypth\"]\n",
    "for i in s:\n",
    "    if i in i:\n",
    "        print ('True')\n"
   ]
  },
  {
   "cell_type": "code",
   "execution_count": 10,
   "id": "cf579410",
   "metadata": {},
   "outputs": [
    {
     "name": "stdout",
     "output_type": "stream",
     "text": [
      "kdi*9*2*swe\n"
     ]
    }
   ],
   "source": [
    "Original = 'kdi39323swe'\n",
    "print (Original.replace(Original[5], '*'))\n",
    "\n",
    "\n"
   ]
  },
  {
   "cell_type": "code",
   "execution_count": 14,
   "id": "2e7c9563",
   "metadata": {},
   "outputs": [
    {
     "name": "stdout",
     "output_type": "stream",
     "text": [
      "[10, 30, 60, 100, 150, 210, 217]\n"
     ]
    }
   ],
   "source": [
    "A = [10, 20, 30, 40, 50, 60, 7]\n",
    "d = [sum(A[:i+1]) for i in range(len(A))]\n",
    "print (d)\n",
    "\n"
   ]
  },
  {
   "cell_type": "code",
   "execution_count": 18,
   "id": "83cc69f0",
   "metadata": {},
   "outputs": [
    {
     "ename": "TypeError",
     "evalue": "'list' object cannot be interpreted as an integer",
     "output_type": "error",
     "traceback": [
      "\u001b[1;31m---------------------------------------------------------------------------\u001b[0m",
      "\u001b[1;31mTypeError\u001b[0m                                 Traceback (most recent call last)",
      "\u001b[1;32m~\\AppData\\Local\\Temp/ipykernel_12796/1223885258.py\u001b[0m in \u001b[0;36m<module>\u001b[1;34m\u001b[0m\n\u001b[0;32m      1\u001b[0m \u001b[0mOriginal\u001b[0m \u001b[1;33m=\u001b[0m \u001b[1;33m[\u001b[0m\u001b[1;36m1\u001b[0m\u001b[1;33m,\u001b[0m \u001b[1;36m2\u001b[0m\u001b[1;33m,\u001b[0m \u001b[1;36m3\u001b[0m\u001b[1;33m,\u001b[0m \u001b[1;36m4\u001b[0m\u001b[1;33m,\u001b[0m \u001b[1;36m5\u001b[0m\u001b[1;33m,\u001b[0m \u001b[1;36m6\u001b[0m\u001b[1;33m]\u001b[0m\u001b[1;33m\u001b[0m\u001b[1;33m\u001b[0m\u001b[0m\n\u001b[1;32m----> 2\u001b[1;33m \u001b[0md\u001b[0m \u001b[1;33m=\u001b[0m \u001b[0msum\u001b[0m\u001b[1;33m(\u001b[0m\u001b[0msorted\u001b[0m\u001b[1;33m(\u001b[0m\u001b[0mOriginal\u001b[0m\u001b[1;33m[\u001b[0m\u001b[1;33m:\u001b[0m\u001b[0mi\u001b[0m\u001b[1;33m+\u001b[0m\u001b[1;36m1\u001b[0m\u001b[1;33m]\u001b[0m \u001b[1;32mfor\u001b[0m \u001b[0mi\u001b[0m \u001b[1;32min\u001b[0m \u001b[0mrange\u001b[0m\u001b[1;33m(\u001b[0m\u001b[0mOriginal\u001b[0m\u001b[1;33m)\u001b[0m\u001b[1;33m)\u001b[0m\u001b[1;33m)\u001b[0m\u001b[1;33m\u001b[0m\u001b[1;33m\u001b[0m\u001b[0m\n\u001b[0m",
      "\u001b[1;31mTypeError\u001b[0m: 'list' object cannot be interpreted as an integer"
     ]
    }
   ],
   "source": [
    "Original = [1, 2, 3, 4, 5, 6]\n",
    "d = sum(sorted(Original[:i+1] for i in range(Original)))\n"
   ]
  },
  {
   "cell_type": "code",
   "execution_count": 21,
   "id": "88575d41",
   "metadata": {},
   "outputs": [
    {
     "name": "stdout",
     "output_type": "stream",
     "text": [
      "True\n",
      "True\n",
      "True\n",
      "True\n"
     ]
    }
   ],
   "source": [
    "Original = [2, 1, 4, 3, 6, 7, 6, 3]\n",
    "for i in Original:\n",
    "    if i % 2 == 0 and Original.index(i)%2 == 0:\n",
    "        print ('True')\n"
   ]
  },
  {
   "cell_type": "code",
   "execution_count": 22,
   "id": "d0140cdd",
   "metadata": {},
   "outputs": [
    {
     "name": "stdout",
     "output_type": "stream",
     "text": [
      "Original list of numbers: [2, 1, 4, 3, 6, 7, 6, 3]\n",
      "Check whether every even index contains an even number and every \n",
      "odd index contains odd number of a given list:\n",
      "True\n",
      "\n",
      "Original list of numbers: [2, 1, 4, 3, 6, 7, 6, 4]\n",
      "Check whether every even index contains an even number and every \n",
      "odd index contains odd number of a given list:\n",
      "False\n",
      "\n",
      "Original list of numbers: [2, 1, 4, 3, 6, 7, 6, 4]\n",
      "Check whether every even index contains an even number and every \n",
      "odd index contains odd number of a given list:\n",
      "True\n"
     ]
    }
   ],
   "source": [
    "def odd_even_position(nums):\n",
    "           return all(nums[i]%2==i%2 for i in range(len(nums)))\n",
    "nums = [2, 1, 4, 3, 6, 7, 6, 3]\n",
    "print(\"Original list of numbers:\", nums)\n",
    "print(\"Check whether every even index contains an even number and every \\nodd index contains odd number of a given list:\")\n",
    "print(odd_even_position(nums))\n",
    "nums = [2, 1, 4, 3, 6, 7, 6, 4]\n",
    "print(\"\\nOriginal list of numbers:\", nums)\n",
    "print(\"Check whether every even index contains an even number and every \\nodd index contains odd number of a given list:\")\n",
    "print(odd_even_position(nums))\n",
    "print(\"\\nOriginal list of numbers:\", nums)\n",
    "nums = [4, 1, 2]\n",
    "print(\"Check whether every even index contains an even number and every \\nodd index contains odd number of a given list:\")\n",
    "print(odd_even_position(nums))\n"
   ]
  },
  {
   "cell_type": "code",
   "execution_count": 34,
   "id": "403273ae",
   "metadata": {},
   "outputs": [
    {
     "ename": "TypeError",
     "evalue": "'int' object is not iterable",
     "output_type": "error",
     "traceback": [
      "\u001b[1;31m---------------------------------------------------------------------------\u001b[0m",
      "\u001b[1;31mTypeError\u001b[0m                                 Traceback (most recent call last)",
      "\u001b[1;32m~\\AppData\\Local\\Temp/ipykernel_12796/1470360060.py\u001b[0m in \u001b[0;36m<module>\u001b[1;34m\u001b[0m\n\u001b[0;32m      3\u001b[0m \u001b[1;32mfor\u001b[0m \u001b[1;33m(\u001b[0m\u001b[0mkey\u001b[0m\u001b[1;33m,\u001b[0m\u001b[0mvalue\u001b[0m\u001b[1;33m)\u001b[0m \u001b[1;32min\u001b[0m \u001b[0ms\u001b[0m\u001b[1;33m.\u001b[0m\u001b[0mitems\u001b[0m\u001b[1;33m(\u001b[0m\u001b[1;33m)\u001b[0m\u001b[1;33m:\u001b[0m\u001b[1;33m\u001b[0m\u001b[1;33m\u001b[0m\u001b[0m\n\u001b[0;32m      4\u001b[0m     \u001b[0mf\u001b[0m \u001b[1;33m=\u001b[0m \u001b[0msorted\u001b[0m\u001b[1;33m(\u001b[0m\u001b[0ms\u001b[0m\u001b[1;33m)\u001b[0m\u001b[1;33m\u001b[0m\u001b[1;33m\u001b[0m\u001b[0m\n\u001b[1;32m----> 5\u001b[1;33m     \u001b[0mprint\u001b[0m \u001b[1;33m(\u001b[0m\u001b[0mmax\u001b[0m\u001b[1;33m(\u001b[0m\u001b[0mvalue\u001b[0m\u001b[1;33m)\u001b[0m\u001b[1;33m)\u001b[0m\u001b[1;33m\u001b[0m\u001b[1;33m\u001b[0m\u001b[0m\n\u001b[0m",
      "\u001b[1;31mTypeError\u001b[0m: 'int' object is not iterable"
     ]
    }
   ],
   "source": [
    "s = {\"Bernita Ahner\": 12, \"Kristie Marsico\": 11, \"Sara Pardee\": 14, \"Fallon Fabiano\": 11, \"Nidia Dominique\": 15}\n",
    "{\"Nilda Woodside\": 12, \"Jackelyn Pineda\": 12.2, \"Sofia Park\": 12.4, \"Joannie Archibald\": 12.6, \"Becki Saunder\": 12.7}\n",
    "for (key,value) in s.items():\n",
    "    f = sorted(s)\n",
    "    print (max(value))"
   ]
  },
  {
   "cell_type": "code",
   "execution_count": 35,
   "id": "6c0e28f8",
   "metadata": {},
   "outputs": [
    {
     "name": "stdout",
     "output_type": "stream",
     "text": [
      "Nidia Dominique\n",
      "Becki Saunder\n"
     ]
    }
   ],
   "source": [
    "def oldest_student(students):\n",
    "\treturn max(students, key=students.get)\n",
    "\n",
    "print(oldest_student({\"Bernita Ahner\": 12, \"Kristie Marsico\": 11, \n",
    "                      \"Sara Pardee\": 14, \"Fallon Fabiano\": 11, \n",
    "                      \"Nidia Dominique\": 15})) \n",
    "print(oldest_student({\"Nilda Woodside\": 12, \"Jackelyn Pineda\": 12.2, \n",
    "                      \"Sofia Park\": 12.4, \"Joannie Archibald\": 12.6, \n",
    "                      \"Becki Saunder\": 12.7})) \n"
   ]
  },
  {
   "cell_type": "code",
   "execution_count": 37,
   "id": "f90674f5",
   "metadata": {},
   "outputs": [],
   "source": [
    "d = (\"PPYYYTTHON\")\n",
    "for i in d:\n",
    "    if i is not i:\n",
    "        print (i)\n"
   ]
  },
  {
   "cell_type": "code",
   "execution_count": 38,
   "id": "a118aa0d",
   "metadata": {},
   "outputs": [
    {
     "name": "stdout",
     "output_type": "stream",
     "text": [
      "Original matrix: [[1, 2], [2, 3]]\n",
      "Number in the said matrix which is maximum in its column and minimum in its row:\n",
      "[2]\n",
      "\n",
      "Original matrix: [[1, 2, 3], [3, 4, 5]]\n",
      "Number in the said matrix which is maximum in its column and minimum in its row:\n",
      "[3]\n",
      "\n",
      "Original matrix: [[7, 5, 6], [3, 4, 4], [6, 5, 7]]\n",
      "Number in the said matrix which is maximum in its column and minimum in its row:\n",
      "[5]\n"
     ]
    }
   ],
   "source": [
    "# Number in a Matrix: Maximum in its column and minimum in its row.\n",
    "def matrix_number(matrix):\n",
    "   result = set(map(min, matrix)) & set(map(max, zip(*matrix)))\n",
    "   return list(result)\n",
    "m1 = [[1,2], [2,3]]\n",
    "print(\"Original matrix:\",m1)\n",
    "print(\"Number in the said matrix which is maximum in its column and minimum in its row:\")\n",
    "print(matrix_number(m1))\n",
    "m1 = [[1,2,3], [3,4,5]]\n",
    "print(\"\\nOriginal matrix:\",m1)\n",
    "print(\"Number in the said matrix which is maximum in its column and minimum in its row:\")\n",
    "print(matrix_number(m1))\n",
    "m1 = [[7,5,6], [3,4,4], [6,5,7]]\n",
    "print(\"\\nOriginal matrix:\",m1)\n",
    "print(\"Number in the said matrix which is maximum in its column and minimum in its row:\")\n",
    "print(matrix_number(m1))\n",
    "\n",
    "\n"
   ]
  },
  {
   "cell_type": "code",
   "execution_count": 39,
   "id": "2ec2f739",
   "metadata": {},
   "outputs": [
    {
     "name": "stdout",
     "output_type": "stream",
     "text": [
      "Linear\n",
      "Linear\n"
     ]
    },
    {
     "ename": "IndexError",
     "evalue": "list index out of range",
     "output_type": "error",
     "traceback": [
      "\u001b[1;31m---------------------------------------------------------------------------\u001b[0m",
      "\u001b[1;31mIndexError\u001b[0m                                Traceback (most recent call last)",
      "\u001b[1;32m~\\AppData\\Local\\Temp/ipykernel_12796/3126371192.py\u001b[0m in \u001b[0;36m<module>\u001b[1;34m\u001b[0m\n\u001b[0;32m      1\u001b[0m \u001b[0mOriginal\u001b[0m \u001b[1;33m=\u001b[0m \u001b[1;33m[\u001b[0m\u001b[1;36m0\u001b[0m\u001b[1;33m,\u001b[0m \u001b[1;36m2\u001b[0m\u001b[1;33m,\u001b[0m \u001b[1;36m4\u001b[0m\u001b[1;33m,\u001b[0m \u001b[1;36m6\u001b[0m\u001b[1;33m,\u001b[0m \u001b[1;36m8\u001b[0m\u001b[1;33m,\u001b[0m \u001b[1;36m10\u001b[0m\u001b[1;33m]\u001b[0m\u001b[1;33m\u001b[0m\u001b[1;33m\u001b[0m\u001b[0m\n\u001b[0;32m      2\u001b[0m \u001b[1;32mfor\u001b[0m \u001b[0mi\u001b[0m \u001b[1;32min\u001b[0m \u001b[0mOriginal\u001b[0m\u001b[1;33m:\u001b[0m\u001b[1;33m\u001b[0m\u001b[1;33m\u001b[0m\u001b[0m\n\u001b[1;32m----> 3\u001b[1;33m     \u001b[1;32mif\u001b[0m \u001b[1;33m(\u001b[0m\u001b[0mOriginal\u001b[0m\u001b[1;33m[\u001b[0m\u001b[0mi\u001b[0m\u001b[1;33m]\u001b[0m\u001b[1;33m-\u001b[0m\u001b[0mOriginal\u001b[0m\u001b[1;33m[\u001b[0m\u001b[0mi\u001b[0m\u001b[1;33m+\u001b[0m\u001b[1;36m1\u001b[0m\u001b[1;33m]\u001b[0m\u001b[1;33m)\u001b[0m \u001b[1;33m==\u001b[0m \u001b[1;33m(\u001b[0m\u001b[0mOriginal\u001b[0m\u001b[1;33m[\u001b[0m\u001b[0mi\u001b[0m\u001b[1;33m+\u001b[0m\u001b[1;36m1\u001b[0m\u001b[1;33m]\u001b[0m\u001b[1;33m-\u001b[0m\u001b[0mOriginal\u001b[0m\u001b[1;33m[\u001b[0m\u001b[0mi\u001b[0m\u001b[1;33m+\u001b[0m\u001b[1;36m2\u001b[0m\u001b[1;33m]\u001b[0m\u001b[1;33m)\u001b[0m\u001b[1;33m:\u001b[0m\u001b[1;33m\u001b[0m\u001b[1;33m\u001b[0m\u001b[0m\n\u001b[0m\u001b[0;32m      4\u001b[0m         \u001b[0mprint\u001b[0m \u001b[1;33m(\u001b[0m\u001b[1;34m'Linear'\u001b[0m\u001b[1;33m)\u001b[0m\u001b[1;33m\u001b[0m\u001b[1;33m\u001b[0m\u001b[0m\n",
      "\u001b[1;31mIndexError\u001b[0m: list index out of range"
     ]
    }
   ],
   "source": [
    "Original = [0, 2, 4, 6, 8, 10]\n",
    "for i in Original:\n",
    "    if (Original[i]-Original[i+1]) == (Original[i+1]-Original[i+2]):\n",
    "        print ('Linear')\n"
   ]
  },
  {
   "cell_type": "code",
   "execution_count": 42,
   "id": "b507d915",
   "metadata": {},
   "outputs": [
    {
     "ename": "TypeError",
     "evalue": "'int' object is not iterable",
     "output_type": "error",
     "traceback": [
      "\u001b[1;31m---------------------------------------------------------------------------\u001b[0m",
      "\u001b[1;31mTypeError\u001b[0m                                 Traceback (most recent call last)",
      "\u001b[1;32m~\\AppData\\Local\\Temp/ipykernel_12796/1251179710.py\u001b[0m in \u001b[0;36m<module>\u001b[1;34m\u001b[0m\n\u001b[0;32m      1\u001b[0m \u001b[0mOriginal\u001b[0m  \u001b[1;33m=\u001b[0m \u001b[1;36m120\u001b[0m\u001b[1;33m\u001b[0m\u001b[1;33m\u001b[0m\u001b[0m\n\u001b[1;32m----> 2\u001b[1;33m \u001b[1;32mfor\u001b[0m \u001b[0mi\u001b[0m \u001b[1;32min\u001b[0m \u001b[0mOriginal\u001b[0m\u001b[1;33m:\u001b[0m\u001b[1;33m\u001b[0m\u001b[1;33m\u001b[0m\u001b[0m\n\u001b[0m\u001b[0;32m      3\u001b[0m     \u001b[1;32mif\u001b[0m \u001b[0msum\u001b[0m\u001b[1;33m(\u001b[0m\u001b[0mi\u001b[0m\u001b[1;33m)\u001b[0m \u001b[1;33m==\u001b[0m \u001b[0mi\u001b[0m\u001b[1;33m%\u001b[0m\u001b[1;36m2\u001b[0m\u001b[1;33m:\u001b[0m\u001b[1;33m\u001b[0m\u001b[1;33m\u001b[0m\u001b[0m\n\u001b[0;32m      4\u001b[0m         \u001b[0mprint\u001b[0m \u001b[1;33m(\u001b[0m\u001b[1;34m'even'\u001b[0m\u001b[1;33m,\u001b[0m \u001b[0mend\u001b[0m \u001b[1;33m=\u001b[0m \u001b[1;34m''\u001b[0m\u001b[1;33m)\u001b[0m\u001b[1;33m\u001b[0m\u001b[1;33m\u001b[0m\u001b[0m\n",
      "\u001b[1;31mTypeError\u001b[0m: 'int' object is not iterable"
     ]
    }
   ],
   "source": [
    "Original  = 120\n",
    "for i in Original:\n",
    "    if sum(i) == i%2:\n",
    "        print ('even', end = '')\n"
   ]
  },
  {
   "cell_type": "code",
   "execution_count": 43,
   "id": "0fb349b0",
   "metadata": {},
   "outputs": [
    {
     "name": "stdout",
     "output_type": "stream",
     "text": [
      "Original Number 120\n",
      "Check whether the sum of all digits of the said number is odd or even!\n",
      "Oddish\n",
      "Original Number 321\n",
      "Check whether the sum of all digits of the said number is odd or even!\n",
      "Evenish\n",
      "Original Number 43\n",
      "Check whether the sum of all digits of the said number is odd or even!\n",
      "Oddish\n",
      "Original Number 4433\n",
      "Check whether the sum of all digits of the said number is odd or even!\n",
      "Evenish\n",
      "Original Number 373\n",
      "Check whether the sum of all digits of the said number is odd or even!\n",
      "Oddish\n"
     ]
    }
   ],
   "source": [
    "def oddish_evenish_num(n):\n",
    "\treturn 'Oddish' if sum(map(int, str(n))) % 2 else 'Evenish'\n",
    "n = 120\n",
    "print(\"Original Number\",n)\n",
    "print(\"Check whether the sum of all digits of the said number is odd or even!\")\n",
    "print(oddish_evenish_num(120))\n",
    "n = 321\n",
    "print(\"Original Number\",n)\n",
    "print(\"Check whether the sum of all digits of the said number is odd or even!\")\n",
    "print(oddish_evenish_num(321))\n",
    "n = 43 \n",
    "print(\"Original Number\",n)\n",
    "print(\"Check whether the sum of all digits of the said number is odd or even!\")\n",
    "print(oddish_evenish_num(43))\n",
    "n = 4433\n",
    "print(\"Original Number\",n)\n",
    "print(\"Check whether the sum of all digits of the said number is odd or even!\")\n",
    "print(oddish_evenish_num(4433))\n",
    "n = 373\n",
    "print(\"Original Number\",n)\n",
    "print(\"Check whether the sum of all digits of the said number is odd or even!\")\n",
    "print(oddish_evenish_num(373))\n"
   ]
  },
  {
   "cell_type": "code",
   "execution_count": 48,
   "id": "89e29bda",
   "metadata": {},
   "outputs": [
    {
     "name": "stdout",
     "output_type": "stream",
     "text": [
      "PPYYYTTHON\n"
     ]
    }
   ],
   "source": [
    "V = (\"The quick brown fox jumps over the lazy dog\")\n",
    "for char in V:\n",
    "    if len(char) % 2 == 0:\n",
    "        d=  (char[::-1])\n",
    "print (d)        \n"
   ]
  },
  {
   "cell_type": "code",
   "execution_count": 51,
   "id": "ff89905c",
   "metadata": {},
   "outputs": [
    {
     "ename": "TypeError",
     "evalue": "'<=' not supported between instances of 'str' and 'int'",
     "output_type": "error",
     "traceback": [
      "\u001b[1;31m---------------------------------------------------------------------------\u001b[0m",
      "\u001b[1;31mTypeError\u001b[0m                                 Traceback (most recent call last)",
      "\u001b[1;32m~\\AppData\\Local\\Temp/ipykernel_12796/832829244.py\u001b[0m in \u001b[0;36m<module>\u001b[1;34m\u001b[0m\n\u001b[0;32m      2\u001b[0m \u001b[0mK\u001b[0m \u001b[1;33m=\u001b[0m \u001b[1;36m7\u001b[0m\u001b[1;33m\u001b[0m\u001b[1;33m\u001b[0m\u001b[0m\n\u001b[0;32m      3\u001b[0m \u001b[1;32mfor\u001b[0m \u001b[0mkey\u001b[0m \u001b[1;32min\u001b[0m \u001b[0mtest_dict\u001b[0m\u001b[1;33m:\u001b[0m\u001b[1;33m\u001b[0m\u001b[1;33m\u001b[0m\u001b[0m\n\u001b[1;32m----> 4\u001b[1;33m     \u001b[1;32mif\u001b[0m \u001b[0mkey\u001b[0m \u001b[1;33m<=\u001b[0m \u001b[0mK\u001b[0m\u001b[1;33m:\u001b[0m\u001b[1;33m\u001b[0m\u001b[1;33m\u001b[0m\u001b[0m\n\u001b[0m\u001b[0;32m      5\u001b[0m         \u001b[0mprint\u001b[0m \u001b[1;33m(\u001b[0m\u001b[0mtest_dict\u001b[0m\u001b[1;33m.\u001b[0m\u001b[0mremove\u001b[0m\u001b[1;33m(\u001b[0m\u001b[0mkey\u001b[0m\u001b[1;33m)\u001b[0m\u001b[1;33m)\u001b[0m\u001b[1;33m\u001b[0m\u001b[1;33m\u001b[0m\u001b[0m\n",
      "\u001b[1;31mTypeError\u001b[0m: '<=' not supported between instances of 'str' and 'int'"
     ]
    }
   ],
   "source": [
    "test_dict = {'Gfg' : 3, 'is' : 7, 'best' : 10, 'for' : 6, 'geeks' : 'CS'} \n",
    "K = 7\n",
    "for key in test_dict:\n",
    "    if key <= K:\n",
    "        print (test_dict.remove(key))"
   ]
  },
  {
   "cell_type": "code",
   "execution_count": 58,
   "id": "6e367bcc",
   "metadata": {},
   "outputs": [
    {
     "name": "stdout",
     "output_type": "stream",
     "text": [
      "The original dictionary is : {'gfg': [5, 6, 7, 8], 'is': [10, 11, 7, 5], 'best': [6, 12, 10, 8], 'for': [1, 2, 5]}\n",
      "The unique values list is : [1, 2, 5, 6, 7, 8, 10, 11, 12]\n"
     ]
    }
   ],
   "source": [
    "# Python3 code to demonstrate working of\n",
    "# Extract Unique values dictionary values\n",
    "# Using set comprehension + values() + sorted()\n",
    "\n",
    "# initializing dictionary\n",
    "test_dict = {'gfg' : [5, 6, 7, 8],\n",
    "\t\t\t'is' : [10, 11, 7, 5],\n",
    "\t\t\t'best' : [6, 12, 10, 8],\n",
    "\t\t\t'for' : [1, 2, 5]}\n",
    "\n",
    "# printing original dictionary\n",
    "print(\"The original dictionary is : \" + str(test_dict))\n",
    "\n",
    "# Extract Unique values dictionary values\n",
    "# Using set comprehension + values() + sorted()\n",
    "res = list(sorted({ele for val in test_dict.values() for ele in val}))\n",
    "\n",
    "# printing result\n",
    "print(\"The unique values list is : \" + str(res))\n"
   ]
  },
  {
   "cell_type": "code",
   "execution_count": 61,
   "id": "21f4db78",
   "metadata": {},
   "outputs": [
    {
     "name": "stdout",
     "output_type": "stream",
     "text": [
      "The original dictionary is : {'Gfg': 1, 'is': 3, 'Best': 2}\n",
      "The ordered keys and values : ['Gfg', 'is', 'Best', 1, 3, 2]\n"
     ]
    }
   ],
   "source": [
    "# Python3 code to demonstrate working of\n",
    "# Append Dictionary Keys and Values ( In order ) in dictionary\n",
    "# Using values() + keys() + list()\n",
    "\n",
    "# initializing dictionary\n",
    "test_dict = {\"Gfg\" : 1, \"is\" : 3, \"Best\" : 2}\n",
    "\n",
    "# printing original dictionary\n",
    "print(\"The original dictionary is : \" + str(test_dict))\n",
    "\n",
    "# + operator is used to perform adding keys and values\n",
    "res = list(test_dict.keys()) + list(test_dict.values())\n",
    "\n",
    "# printing result\n",
    "print(\"The ordered keys and values : \" + str(res))\n"
   ]
  },
  {
   "cell_type": "code",
   "execution_count": 64,
   "id": "1440300c",
   "metadata": {},
   "outputs": [
    {
     "name": "stdout",
     "output_type": "stream",
     "text": [
      "[('a', [19, 4]), ('b', [12, 10]), ('c', [3])]\n"
     ]
    }
   ],
   "source": [
    "test_dict = {'c': [3], 'b': [12, 10], 'a': [19, 4]}\n",
    "for i in test_dict:\n",
    "    d = sorted((keys,values) for keys, values in test_dict.items())\n",
    "print (d)\n"
   ]
  },
  {
   "cell_type": "code",
   "execution_count": 74,
   "id": "c711cbcd",
   "metadata": {},
   "outputs": [
    {
     "name": "stdout",
     "output_type": "stream",
     "text": [
      "Gfg\n"
     ]
    }
   ],
   "source": [
    "test_dict = {'c': [3], 'b': [12, 10], 'a': [19, 4]}\n",
    "#d = sorted((keys,values) for keys, values in test_dict.items()\n",
    "for i in test_dict:\n",
    "    d = sorted((keys,values) for keys, values in test_dict.items())\n",
    "print (key)    \n"
   ]
  },
  {
   "cell_type": "code",
   "execution_count": 83,
   "id": "c7daed8d",
   "metadata": {},
   "outputs": [],
   "source": [
    "#T =  {'Nikhil': {'English': 5, 'Maths': 2, 'Science': 14}, 'Akash': {'English': 15, 'Maths': 7, 'Science': 2}\n",
    "#d = (sorted(T.items() , key = lambda ele: ele[1]))for keys, values in d.items()"
   ]
  },
  {
   "cell_type": "code",
   "execution_count": 87,
   "id": "07815fd6",
   "metadata": {},
   "outputs": [
    {
     "ename": "ValueError",
     "evalue": "too many values to unpack (expected 2)",
     "output_type": "error",
     "traceback": [
      "\u001b[1;31m---------------------------------------------------------------------------\u001b[0m",
      "\u001b[1;31mValueError\u001b[0m                                Traceback (most recent call last)",
      "\u001b[1;32m~\\AppData\\Local\\Temp/ipykernel_12796/3277955465.py\u001b[0m in \u001b[0;36m<module>\u001b[1;34m\u001b[0m\n\u001b[0;32m      2\u001b[0m \u001b[0mkey_list\u001b[0m \u001b[1;33m=\u001b[0m \u001b[1;33m[\u001b[0m\u001b[1;34m'name'\u001b[0m\u001b[1;33m,\u001b[0m \u001b[1;34m'id'\u001b[0m\u001b[1;33m]\u001b[0m\u001b[1;33m\u001b[0m\u001b[1;33m\u001b[0m\u001b[0m\n\u001b[0;32m      3\u001b[0m \u001b[0mres\u001b[0m \u001b[1;33m=\u001b[0m \u001b[1;33m[\u001b[0m\u001b[1;33m]\u001b[0m\u001b[1;33m\u001b[0m\u001b[1;33m\u001b[0m\u001b[0m\n\u001b[1;32m----> 4\u001b[1;33m \u001b[1;32mfor\u001b[0m \u001b[0mkeys\u001b[0m\u001b[1;33m,\u001b[0m \u001b[0mvalues\u001b[0m \u001b[1;32min\u001b[0m \u001b[0mtest_list\u001b[0m\u001b[1;33m:\u001b[0m\u001b[1;33m\u001b[0m\u001b[1;33m\u001b[0m\u001b[0m\n\u001b[0m\u001b[0;32m      5\u001b[0m     \u001b[1;32mfor\u001b[0m \u001b[0mkey\u001b[0m \u001b[1;32min\u001b[0m \u001b[0mkey_list\u001b[0m\u001b[1;33m:\u001b[0m\u001b[1;33m\u001b[0m\u001b[1;33m\u001b[0m\u001b[0m\n\u001b[0;32m      6\u001b[0m         \u001b[0mres\u001b[0m\u001b[1;33m.\u001b[0m\u001b[0mappend\u001b[0m \u001b[1;33m(\u001b[0m\u001b[1;33m[\u001b[0m\u001b[0mkey\u001b[0m\u001b[1;33m]\u001b[0m \u001b[1;33m+\u001b[0m \u001b[0mkeys\u001b[0m \u001b[1;33m)\u001b[0m\u001b[1;33m\u001b[0m\u001b[1;33m\u001b[0m\u001b[0m\n",
      "\u001b[1;31mValueError\u001b[0m: too many values to unpack (expected 2)"
     ]
    }
   ],
   "source": [
    "test_list = ['Gfg', 3, 'is', 8] \n",
    "key_list = ['name', 'id']\n",
    "res = []\n",
    "for keys, values in test_list:\n",
    "    for key in key_list:\n",
    "        res.append ([key] + keys )"
   ]
  },
  {
   "cell_type": "code",
   "execution_count": null,
   "id": "8a26e9ef",
   "metadata": {},
   "outputs": [],
   "source": []
  },
  {
   "cell_type": "code",
   "execution_count": null,
   "id": "d19ab80d",
   "metadata": {},
   "outputs": [],
   "source": []
  }
 ],
 "metadata": {
  "kernelspec": {
   "display_name": "Python 3 (ipykernel)",
   "language": "python",
   "name": "python3"
  },
  "language_info": {
   "codemirror_mode": {
    "name": "ipython",
    "version": 3
   },
   "file_extension": ".py",
   "mimetype": "text/x-python",
   "name": "python",
   "nbconvert_exporter": "python",
   "pygments_lexer": "ipython3",
   "version": "3.9.7"
  }
 },
 "nbformat": 4,
 "nbformat_minor": 5
}
