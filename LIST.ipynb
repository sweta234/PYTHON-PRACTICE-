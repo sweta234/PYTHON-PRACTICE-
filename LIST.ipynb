{
 "cells": [
  {
   "cell_type": "code",
   "execution_count": 6,
   "id": "e7129a9b",
   "metadata": {},
   "outputs": [
    {
     "name": "stdout",
     "output_type": "stream",
     "text": [
      "15\n"
     ]
    }
   ],
   "source": [
    "a = [1, 2, 3, 4, 5]\n",
    "x = sum(a)\n",
    "print (x)"
   ]
  },
  {
   "cell_type": "code",
   "execution_count": 9,
   "id": "b594adbd",
   "metadata": {},
   "outputs": [
    {
     "name": "stdout",
     "output_type": "stream",
     "text": [
      "[11, 12, 4, 3]\n",
      "product: \n",
      "1584\n"
     ]
    }
   ],
   "source": [
    "#multiply all numbers in list\n",
    "\n",
    "#function\n",
    "def mul_list(list) :\n",
    "     \n",
    "    # Multiply elements one by one\n",
    "    product = 1\n",
    "    for i in list:\n",
    "         product = product * i\n",
    "    return product\n",
    "     \n",
    "\n",
    "list1 = [11, 12, 4, 3]\n",
    "print(list1)\n",
    "print(\"product: \") \n",
    "print(mul_list(list1))"
   ]
  },
  {
   "cell_type": "code",
   "execution_count": 14,
   "id": "acec23ea",
   "metadata": {},
   "outputs": [
    {
     "ename": "SyntaxError",
     "evalue": "'return' outside function (Temp/ipykernel_29848/1015253485.py, line 5)",
     "output_type": "error",
     "traceback": [
      "\u001b[1;36m  File \u001b[1;32m\"C:\\Users\\win10\\AppData\\Local\\Temp/ipykernel_29848/1015253485.py\"\u001b[1;36m, line \u001b[1;32m5\u001b[0m\n\u001b[1;33m    return count +1\u001b[0m\n\u001b[1;37m    ^\u001b[0m\n\u001b[1;31mSyntaxError\u001b[0m\u001b[1;31m:\u001b[0m 'return' outside function\n"
     ]
    }
   ],
   "source": [
    "Sample_List = ['abc', 'xyz', 'aba', '1221']\n",
    "for i in Sample_List:\n",
    "    count = 1\n",
    "    if i in x == (str):\n",
    "        return count +1\n",
    "            \n",
    "        "
   ]
  },
  {
   "cell_type": "code",
   "execution_count": 16,
   "id": "aaecf5bc",
   "metadata": {},
   "outputs": [
    {
     "name": "stdout",
     "output_type": "stream",
     "text": [
      "[(1, 2), (2, 1), (2, 3), (2, 5), (4, 4)]\n"
     ]
    }
   ],
   "source": [
    "Sample_List = [(2, 5), (1, 2), (4, 4), (2, 3), (2, 1)]\n",
    "print (sorted(Sample_List, reverse=False))"
   ]
  },
  {
   "cell_type": "code",
   "execution_count": 22,
   "id": "89c3b019",
   "metadata": {},
   "outputs": [],
   "source": [
    "_List = [(2, 5), (1, 2), (4, 4), (2, 3), (2, 5)]\n",
    "def dup(_List):\n",
    "    for i in _List:\n",
    "        if i not in _List:\n",
    "            print (i)"
   ]
  },
  {
   "cell_type": "code",
   "execution_count": 23,
   "id": "46a64f1e",
   "metadata": {},
   "outputs": [
    {
     "name": "stdout",
     "output_type": "stream",
     "text": [
      "None\n"
     ]
    }
   ],
   "source": [
    "print(dup([10,20,30,20,10,50,60,40,80,50,40]))"
   ]
  },
  {
   "cell_type": "code",
   "execution_count": 24,
   "id": "0a9fe35b",
   "metadata": {},
   "outputs": [
    {
     "name": "stdout",
     "output_type": "stream",
     "text": [
      "{40, 10, 80, 50, 20, 60, 30}\n"
     ]
    }
   ],
   "source": [
    "a = [10,20,30,20,10,50,60,40,80,50,40]\n",
    "\n",
    "dup_items = set()\n",
    "uniq_items = []\n",
    "for x in a:\n",
    "    if x not in dup_items:\n",
    "        uniq_items.append(x)\n",
    "        dup_items.add(x)\n",
    "\n",
    "print(dup_items)\n"
   ]
  },
  {
   "cell_type": "code",
   "execution_count": 32,
   "id": "dbd3b5e3",
   "metadata": {},
   "outputs": [],
   "source": [
    "def che(str1):\n",
    "    g = 3\n",
    "    h = []\n",
    "    for word in str1:\n",
    "        if len(word) > g:\n",
    "             h.append(word)"
   ]
  },
  {
   "cell_type": "code",
   "execution_count": 33,
   "id": "42ad5a61",
   "metadata": {},
   "outputs": [
    {
     "name": "stdout",
     "output_type": "stream",
     "text": [
      "None\n"
     ]
    }
   ],
   "source": [
    "print (che(['asdfgfd', 'asdfgf']))"
   ]
  },
  {
   "cell_type": "code",
   "execution_count": 36,
   "id": "1480456f",
   "metadata": {},
   "outputs": [
    {
     "name": "stdout",
     "output_type": "stream",
     "text": [
      "sdf\n",
      "asdfg\n",
      "present\n",
      "present\n",
      "present\n",
      "not present\n",
      "not present\n",
      "not present\n",
      "None\n"
     ]
    }
   ],
   "source": [
    "d = input()\n",
    "h = input()\n",
    "def pr(d,h):\n",
    "    for word in d:\n",
    "        if word in h:\n",
    "            print ('present')\n",
    "    for w in h:\n",
    "        if w in d:\n",
    "            print ('not present')\n",
    "print (pr(d,h))"
   ]
  },
  {
   "cell_type": "code",
   "execution_count": 37,
   "id": "f5cb06fd",
   "metadata": {},
   "outputs": [
    {
     "name": "stdout",
     "output_type": "stream",
     "text": [
      "Red\n"
     ]
    }
   ],
   "source": [
    "u  = ['Red', 'Green', 'White', 'Black', 'Pink', 'Yellow']\n",
    "print (u.pop(0))"
   ]
  },
  {
   "cell_type": "code",
   "execution_count": 38,
   "id": "cf3481e9",
   "metadata": {},
   "outputs": [
    {
     "name": "stdout",
     "output_type": "stream",
     "text": [
      "['Green', 'White', 'Black']\n"
     ]
    }
   ],
   "source": [
    "color = ['Red', 'Green', 'White', 'Black', 'Pink', 'Yellow']\n",
    "color = [x for (i,x) in enumerate(color) if i not in (0,4,5)]\n",
    "print(color)\n"
   ]
  },
  {
   "cell_type": "code",
   "execution_count": 39,
   "id": "ac3e453b",
   "metadata": {},
   "outputs": [
    {
     "name": "stdout",
     "output_type": "stream",
     "text": [
      "[3, 6, 7, 0]\n"
     ]
    }
   ],
   "source": [
    "g = [3,4,6,5,7,9,0]\n",
    "g = [x for (i,x ) in enumerate(g) if i % 2 == 0] \n",
    "print (g)"
   ]
  },
  {
   "cell_type": "code",
   "execution_count": 40,
   "id": "079318e7",
   "metadata": {},
   "outputs": [
    {
     "name": "stdout",
     "output_type": "stream",
     "text": [
      "['banana', 'apple', 'cherry']\n"
     ]
    }
   ],
   "source": [
    "import random\n",
    "\n",
    "mylist = [\"apple\", \"banana\", \"cherry\"]\n",
    "random.shuffle(mylist)\n",
    "\n",
    "print(mylist)"
   ]
  },
  {
   "cell_type": "code",
   "execution_count": 41,
   "id": "eddf7171",
   "metadata": {},
   "outputs": [
    {
     "name": "stdout",
     "output_type": "stream",
     "text": [
      "[(1, 2, 3), (1, 3, 2), (2, 1, 3), (2, 3, 1), (3, 1, 2), (3, 2, 1)]\n"
     ]
    }
   ],
   "source": [
    "from itertools import permutations\n",
    "l = list(permutations(range(1, 4)))\n",
    "print(l)\n"
   ]
  },
  {
   "cell_type": "code",
   "execution_count": 43,
   "id": "5daf7f38",
   "metadata": {},
   "outputs": [
    {
     "name": "stdout",
     "output_type": "stream",
     "text": [
      "0\n",
      "-2\n",
      "-3\n",
      "-5\n",
      "-6\n",
      "-6\n",
      "-5\n",
      "1\n",
      "-1\n",
      "-2\n",
      "-4\n",
      "-5\n",
      "-5\n",
      "-4\n",
      "3\n",
      "1\n",
      "0\n",
      "-2\n",
      "-3\n",
      "-3\n",
      "-2\n",
      "2\n",
      "0\n",
      "-1\n",
      "-3\n",
      "-4\n",
      "-4\n",
      "-3\n",
      "4\n",
      "2\n",
      "1\n",
      "-1\n",
      "-2\n",
      "-2\n",
      "-1\n",
      "6\n",
      "4\n",
      "3\n",
      "1\n",
      "0\n",
      "0\n",
      "1\n",
      "-3\n",
      "-5\n",
      "-6\n",
      "-8\n",
      "-9\n",
      "-9\n",
      "-8\n"
     ]
    }
   ],
   "source": [
    "g = [3,4,6,5,7,9,0]\n",
    "h = [3,5,6,8,9,9,8]\n",
    "for u in g:\n",
    "    for i in h:\n",
    "        print (u-i)"
   ]
  },
  {
   "cell_type": "code",
   "execution_count": 44,
   "id": "e901f554",
   "metadata": {},
   "outputs": [
    {
     "name": "stdout",
     "output_type": "stream",
     "text": [
      "[9, 3, 5, 8, 2, 4, 6]\n"
     ]
    }
   ],
   "source": [
    "list1 = [1, 3, 5, 7, 9]\n",
    "list2=[1, 2, 4, 6, 7, 8]\n",
    "diff_list1_list2 = list(set(list1) - set(list2))\n",
    "diff_list2_list1 = list(set(list2) - set(list1))\n",
    "total_diff = diff_list1_list2 + diff_list2_list1\n",
    "print(total_diff)\n"
   ]
  },
  {
   "cell_type": "code",
   "execution_count": 45,
   "id": "46cdcdad",
   "metadata": {},
   "outputs": [
    {
     "name": "stdout",
     "output_type": "stream",
     "text": [
      "0\n"
     ]
    }
   ],
   "source": [
    "list1 = [1, 3, 5, 7, 9]\n",
    "print (list1.index(1))"
   ]
  },
  {
   "cell_type": "code",
   "execution_count": 48,
   "id": "b3ddf5a5",
   "metadata": {},
   "outputs": [
    {
     "name": "stdout",
     "output_type": "stream",
     "text": [
      "[1, 3, 5, 7, 9, 1, 2, 4, 6, 7, 8]\n"
     ]
    }
   ],
   "source": [
    "list1 = [1, 3, 5, 7, 9]\n",
    "list2=[1, 2, 4, 6, 7, 8]\n",
    "list4 = list1+list2\n",
    "print (list4)"
   ]
  },
  {
   "cell_type": "code",
   "execution_count": 49,
   "id": "0857ed3e",
   "metadata": {},
   "outputs": [
    {
     "name": "stdout",
     "output_type": "stream",
     "text": [
      "3\n"
     ]
    }
   ],
   "source": [
    "# import random\n",
    "import random\n",
    "\n",
    "# prints a random value from the list\n",
    "list1 = [1, 2, 3, 4, 5, 6]\n",
    "print(random.choice(list1))\n"
   ]
  },
  {
   "cell_type": "code",
   "execution_count": 3,
   "id": "02405916",
   "metadata": {},
   "outputs": [
    {
     "name": "stdout",
     "output_type": "stream",
     "text": [
      "2345\n",
      "2345\n"
     ]
    }
   ],
   "source": [
    "d = int(input())\n",
    "g = int(input())\n",
    "def lis(d,g):\n",
    "    f = []\n",
    "    h = []\n",
    "    print (f.append(g))\n",
    "    print (h.append(d))"
   ]
  },
  {
   "cell_type": "code",
   "execution_count": 5,
   "id": "bf6d7a6a",
   "metadata": {},
   "outputs": [
    {
     "name": "stdout",
     "output_type": "stream",
     "text": [
      "no\n",
      "no\n",
      "3\n",
      "4\n",
      "5\n",
      "6\n"
     ]
    }
   ],
   "source": [
    "list1 = [1, 2, 3, 4, 5, 6]\n",
    "list2 = [4,5,3,4,5,6]\n",
    "for item in list1:\n",
    "    if item  in list2:\n",
    "        print (item)\n",
    "    else:\n",
    "        print ('no')"
   ]
  },
  {
   "cell_type": "code",
   "execution_count": 9,
   "id": "d59e1d5d",
   "metadata": {},
   "outputs": [
    {
     "name": "stdout",
     "output_type": "stream",
     "text": [
      "1\n",
      "2\n",
      "3\n",
      "4\n",
      "5\n"
     ]
    }
   ],
   "source": [
    "d = []\n",
    "for d in range(1,6):\n",
    "    print (d)\n"
   ]
  },
  {
   "cell_type": "code",
   "execution_count": 10,
   "id": "a555b139",
   "metadata": {},
   "outputs": [
    {
     "name": "stdout",
     "output_type": "stream",
     "text": [
      "[6, 12, 34]\n"
     ]
    }
   ],
   "source": [
    "d = {12:'u',34:'df',6:'sd'}\n",
    "print (sorted(d))"
   ]
  },
  {
   "cell_type": "code",
   "execution_count": 11,
   "id": "1c4e95a9",
   "metadata": {},
   "outputs": [
    {
     "name": "stdout",
     "output_type": "stream",
     "text": [
      "Original List:  ['Red', 'Green', 'Black']\n",
      "Original List:  ['c', 'Red', 'c', 'Green', 'c', 'Black']\n"
     ]
    }
   ],
   "source": [
    "color = ['Red', 'Green', 'Black']\n",
    "print(\"Original List: \",color)\n",
    "color = [v for elt in color for v in ('c', elt)]\n",
    "print(\"Original List: \",color)\n"
   ]
  },
  {
   "cell_type": "code",
   "execution_count": 14,
   "id": "082e8fa8",
   "metadata": {},
   "outputs": [
    {
     "name": "stdout",
     "output_type": "stream",
     "text": [
      "{'a': 1, 'b': 2, 'c': 3}\n"
     ]
    }
   ],
   "source": [
    "# Python3 program to Convert a\n",
    "# list to dictionary\n",
    "\n",
    "def Convert(lst):\n",
    "\tres_dct = {lst[i]: lst[i + 1] for i in range(0, len(lst), 2)}\n",
    "\treturn res_dct\n",
    "\t\t\n",
    "# Driver code\n",
    "lst = ['a', 1, 'b', 2, 'c', 3]\n",
    "print(Convert(lst))\n"
   ]
  },
  {
   "cell_type": "code",
   "execution_count": 15,
   "id": "39f20008",
   "metadata": {},
   "outputs": [
    {
     "name": "stdout",
     "output_type": "stream",
     "text": [
      "['child1', 'child2', 'child3']\n"
     ]
    }
   ],
   "source": [
    "myfamily = {\n",
    "  \"child1\" : {\n",
    "    \"name\" : \"Emil\",\n",
    "    \"year\" : 2004\n",
    "  },\n",
    "  \"child2\" : {\n",
    "    \"name\" : \"Tobias\",\n",
    "    \"year\" : 2007\n",
    "  },\n",
    "  \"child3\" : {\n",
    "    \"name\" : \"Linus\",\n",
    "    \"year\" : 2011\n",
    "  }\n",
    "}\n",
    "print (sorted(myfamily))"
   ]
  },
  {
   "cell_type": "code",
   "execution_count": 21,
   "id": "40f1e9ba",
   "metadata": {},
   "outputs": [
    {
     "ename": "TypeError",
     "evalue": "'<' not supported between instances of 'dict' and 'dict'",
     "output_type": "error",
     "traceback": [
      "\u001b[1;31m---------------------------------------------------------------------------\u001b[0m",
      "\u001b[1;31mTypeError\u001b[0m                                 Traceback (most recent call last)",
      "\u001b[1;32m~\\AppData\\Local\\Temp/ipykernel_1984/351046910.py\u001b[0m in \u001b[0;36m<module>\u001b[1;34m\u001b[0m\n\u001b[0;32m      1\u001b[0m \u001b[0mmy_list\u001b[0m \u001b[1;33m=\u001b[0m \u001b[1;33m[\u001b[0m \u001b[1;33m{\u001b[0m\u001b[1;34m'subkey'\u001b[0m\u001b[1;33m:\u001b[0m \u001b[1;36m1\u001b[0m\u001b[1;33m}\u001b[0m\u001b[1;33m,\u001b[0m  \u001b[1;33m{\u001b[0m\u001b[1;34m'subkey'\u001b[0m\u001b[1;33m:\u001b[0m \u001b[1;36m10\u001b[0m\u001b[1;33m}\u001b[0m\u001b[1;33m,\u001b[0m  \u001b[1;33m{\u001b[0m\u001b[1;34m'subkey'\u001b[0m\u001b[1;33m:\u001b[0m \u001b[1;36m5\u001b[0m\u001b[1;33m}\u001b[0m\u001b[1;33m]\u001b[0m\u001b[1;33m\u001b[0m\u001b[1;33m\u001b[0m\u001b[0m\n\u001b[0;32m      2\u001b[0m \u001b[1;31m#for key, value in my_list:\u001b[0m\u001b[1;33m\u001b[0m\u001b[1;33m\u001b[0m\u001b[0m\n\u001b[1;32m----> 3\u001b[1;33m \u001b[0mprint\u001b[0m \u001b[1;33m(\u001b[0m\u001b[0msorted\u001b[0m\u001b[1;33m(\u001b[0m\u001b[0mmy_list\u001b[0m\u001b[1;33m)\u001b[0m\u001b[1;33m)\u001b[0m\u001b[1;33m\u001b[0m\u001b[1;33m\u001b[0m\u001b[0m\n\u001b[0m",
      "\u001b[1;31mTypeError\u001b[0m: '<' not supported between instances of 'dict' and 'dict'"
     ]
    }
   ],
   "source": [
    "my_list = [ {'subkey': 1},  {'subkey': 10},  {'subkey': 5}]\n",
    "#for key, value in my_list:\n",
    "print (sorted(my_list))"
   ]
  },
  {
   "cell_type": "code",
   "execution_count": 25,
   "id": "6f746cf8",
   "metadata": {},
   "outputs": [
    {
     "name": "stdout",
     "output_type": "stream",
     "text": [
      "RedGreenBlack\n"
     ]
    }
   ],
   "source": [
    "color = ['Red', 'Green', 'Black']\n",
    "#for i in color:\n",
    "print (''.join(color))"
   ]
  },
  {
   "cell_type": "code",
   "execution_count": 26,
   "id": "b55eaf6c",
   "metadata": {},
   "outputs": [
    {
     "ename": "TypeError",
     "evalue": "'str' object cannot be interpreted as an integer",
     "output_type": "error",
     "traceback": [
      "\u001b[1;31m---------------------------------------------------------------------------\u001b[0m",
      "\u001b[1;31mTypeError\u001b[0m                                 Traceback (most recent call last)",
      "\u001b[1;32m~\\AppData\\Local\\Temp/ipykernel_1984/1885576874.py\u001b[0m in \u001b[0;36m<module>\u001b[1;34m\u001b[0m\n\u001b[0;32m      1\u001b[0m \u001b[0moriginal_list\u001b[0m \u001b[1;33m=\u001b[0m \u001b[1;33m[\u001b[0m\u001b[1;33m{\u001b[0m\u001b[1;34m'key1'\u001b[0m\u001b[1;33m:\u001b[0m\u001b[1;34m'value1'\u001b[0m\u001b[1;33m,\u001b[0m \u001b[1;34m'key2'\u001b[0m\u001b[1;33m:\u001b[0m\u001b[1;34m'value2'\u001b[0m\u001b[1;33m}\u001b[0m\u001b[1;33m,\u001b[0m \u001b[1;33m{\u001b[0m\u001b[1;34m'key1'\u001b[0m\u001b[1;33m:\u001b[0m\u001b[1;34m'value3'\u001b[0m\u001b[1;33m,\u001b[0m \u001b[1;34m'key2'\u001b[0m\u001b[1;33m:\u001b[0m\u001b[1;34m'value4'\u001b[0m\u001b[1;33m}\u001b[0m\u001b[1;33m]\u001b[0m\u001b[1;33m\u001b[0m\u001b[1;33m\u001b[0m\u001b[0m\n\u001b[1;32m----> 2\u001b[1;33m \u001b[0mprint\u001b[0m \u001b[1;33m(\u001b[0m\u001b[0moriginal_list\u001b[0m\u001b[1;33m.\u001b[0m\u001b[0mpop\u001b[0m\u001b[1;33m(\u001b[0m\u001b[1;34m'key1'\u001b[0m\u001b[1;33m)\u001b[0m\u001b[1;33m)\u001b[0m\u001b[1;33m\u001b[0m\u001b[1;33m\u001b[0m\u001b[0m\n\u001b[0m",
      "\u001b[1;31mTypeError\u001b[0m: 'str' object cannot be interpreted as an integer"
     ]
    }
   ],
   "source": [
    "original_list = [{'key1':'value1', 'key2':'value2'}, {'key1':'value3', 'key2':'value4'}]\n",
    "print (original_list.pop('key1'))"
   ]
  },
  {
   "cell_type": "code",
   "execution_count": 28,
   "id": "d0bca253",
   "metadata": {},
   "outputs": [
    {
     "ename": "TypeError",
     "evalue": "'int' object is not subscriptable",
     "output_type": "error",
     "traceback": [
      "\u001b[1;31m---------------------------------------------------------------------------\u001b[0m",
      "\u001b[1;31mTypeError\u001b[0m                                 Traceback (most recent call last)",
      "\u001b[1;32m~\\AppData\\Local\\Temp/ipykernel_1984/2372388435.py\u001b[0m in \u001b[0;36m<module>\u001b[1;34m\u001b[0m\n\u001b[0;32m      1\u001b[0m \u001b[0mSample\u001b[0m \u001b[1;33m=\u001b[0m  \u001b[1;33m[\u001b[0m\u001b[1;36m1\u001b[0m\u001b[1;33m,\u001b[0m \u001b[1;36m3\u001b[0m\u001b[1;33m,\u001b[0m \u001b[1;36m5\u001b[0m\u001b[1;33m,\u001b[0m \u001b[1;36m7\u001b[0m\u001b[1;33m,\u001b[0m \u001b[1;36m9\u001b[0m\u001b[1;33m,\u001b[0m \u001b[1;36m10\u001b[0m\u001b[1;33m]\u001b[0m\u001b[1;33m\u001b[0m\u001b[1;33m\u001b[0m\u001b[0m\n\u001b[0;32m      2\u001b[0m \u001b[1;32mfor\u001b[0m \u001b[0mi\u001b[0m \u001b[1;32min\u001b[0m \u001b[0mSample\u001b[0m\u001b[1;33m:\u001b[0m\u001b[1;33m\u001b[0m\u001b[1;33m\u001b[0m\u001b[0m\n\u001b[1;32m----> 3\u001b[1;33m     \u001b[0mSample\u001b[0m\u001b[1;33m.\u001b[0m\u001b[0mremove\u001b[0m\u001b[1;33m(\u001b[0m\u001b[0mi\u001b[0m\u001b[1;33m[\u001b[0m\u001b[1;33m-\u001b[0m\u001b[1;36m1\u001b[0m\u001b[1;33m]\u001b[0m\u001b[1;33m)\u001b[0m\u001b[1;33m\u001b[0m\u001b[1;33m\u001b[0m\u001b[0m\n\u001b[0m",
      "\u001b[1;31mTypeError\u001b[0m: 'int' object is not subscriptable"
     ]
    }
   ],
   "source": [
    "Sample =  [1, 3, 5, 7, 9, 10]\n",
    "for i in Sample:\n",
    "    Sample.remove(i[-1])"
   ]
  },
  {
   "cell_type": "code",
   "execution_count": 3,
   "id": "dbb702f4",
   "metadata": {},
   "outputs": [
    {
     "name": "stdout",
     "output_type": "stream",
     "text": [
      "not equal\n",
      "not equal\n",
      "not equal\n",
      "not equal\n",
      "not equal\n"
     ]
    }
   ],
   "source": [
    "d = ['n','h','f','k','g']\n",
    "f = ['asdfg']\n",
    "for i in d:\n",
    "    if len(d)==len(f):\n",
    "        print ('equal')\n",
    "    else:\n",
    "        print ('not equal')"
   ]
  },
  {
   "cell_type": "code",
   "execution_count": 5,
   "id": "2327841e",
   "metadata": {},
   "outputs": [
    {
     "name": "stdout",
     "output_type": "stream",
     "text": [
      "gv\n"
     ]
    }
   ],
   "source": [
    "d = ['n','h','f','k','g']\n",
    "f = ['asdfg']\n",
    "if d in f:\n",
    "    print ('asdfg')\n",
    "else:\n",
    "    print ('gv')"
   ]
  },
  {
   "cell_type": "code",
   "execution_count": 6,
   "id": "3a04ba1e",
   "metadata": {},
   "outputs": [
    {
     "name": "stdout",
     "output_type": "stream",
     "text": [
      "False\n",
      "True\n"
     ]
    }
   ],
   "source": [
    "def all_equal(nums):\n",
    "  return len(set(nums)) == 1\n",
    "print(all_equal([1, 2, 3, 4, 5, 6]))\n",
    "print(all_equal([4, 4, 4, 4, 4])) \n"
   ]
  },
  {
   "cell_type": "code",
   "execution_count": 8,
   "id": "1a276e90",
   "metadata": {},
   "outputs": [],
   "source": [
    "d = ['n','h','f','k','g']\n",
    "f = ['asdfg']\n",
    "if 'a' in d:\n",
    "    print ('sdfg')"
   ]
  },
  {
   "cell_type": "code",
   "execution_count": 9,
   "id": "f62be727",
   "metadata": {},
   "outputs": [
    {
     "name": "stdout",
     "output_type": "stream",
     "text": [
      "[{}, {}, {}, {}, {}, {}]\n"
     ]
    }
   ],
   "source": [
    "d = [{}] * 6\n",
    "print (d)"
   ]
  },
  {
   "cell_type": "code",
   "execution_count": 16,
   "id": "ddad3638",
   "metadata": {},
   "outputs": [
    {
     "name": "stdout",
     "output_type": "stream",
     "text": [
      "['emp1', 'emp2', 'emp3', 'emp4']\n"
     ]
    }
   ],
   "source": [
    "num = [1,2,3,4]\n",
    "print(['emp{0}'.format(i) for i in  num])\n"
   ]
  },
  {
   "cell_type": "code",
   "execution_count": 22,
   "id": "3b8368d1",
   "metadata": {},
   "outputs": [
    {
     "name": "stdout",
     "output_type": "stream",
     "text": [
      "[0, 0, 0, 0, 0, 0, 0, 0, 0, 1, 2, 2, 3, 3, 4, 4, 4, 5, 6, 6, 6, 7, 7, 7, 9, 9, 10]\n"
     ]
    }
   ],
   "source": [
    "d = [3, 4, 0, 0, 0, 6, 2, 0, 6, 7, 6, 0, 0, 0, 9, 10, 7, 4, 4, 5, 3, 0, 0, 2, 9, 7, 1]\n",
    "print (sorted(d))"
   ]
  },
  {
   "cell_type": "code",
   "execution_count": 27,
   "id": "a3b453fd",
   "metadata": {},
   "outputs": [],
   "source": [
    "Sample =  [1,2,3], [4,5,6], [10,11,12], [7,8,9]\n",
    "for i in Sample:\n",
    "    if (sum(i)) == (max(i)):\n",
    "        print (i)"
   ]
  },
  {
   "cell_type": "code",
   "execution_count": 28,
   "id": "61ae8419",
   "metadata": {},
   "outputs": [
    {
     "name": "stdout",
     "output_type": "stream",
     "text": [
      "[7, 8, 9]\n"
     ]
    }
   ],
   "source": [
    "print (i)"
   ]
  },
  {
   "cell_type": "code",
   "execution_count": 29,
   "id": "4733570e",
   "metadata": {},
   "outputs": [],
   "source": [
    "d = [3, 4, 0, 0, 0, 6, 2, 0, 6, 7, 6, 0, 0, 0, 9, 10, 7, 4, 4, 5, 3, 0, 0, 2, 9, 7, 1]\n",
    "def d(d):\n",
    "    f = 8\n",
    "    for i in d:\n",
    "        if i > f:\n",
    "            print (i)"
   ]
  },
  {
   "cell_type": "code",
   "execution_count": 31,
   "id": "e4747514",
   "metadata": {},
   "outputs": [
    {
     "name": "stdout",
     "output_type": "stream",
     "text": [
      "9\n",
      "10\n",
      "9\n",
      "None\n"
     ]
    }
   ],
   "source": [
    "print (d( [3, 4, 0, 0, 0, 6, 2, 0, 6, 7, 6, 0, 0, 0, 9, 10, 7, 4, 4, 5, 3, 0, 0, 2, 9, 7, 1]))"
   ]
  },
  {
   "cell_type": "code",
   "execution_count": 34,
   "id": "aff46fee",
   "metadata": {},
   "outputs": [
    {
     "name": "stdout",
     "output_type": "stream",
     "text": [
      "[1, 2, 3, 1, 2, 3]\n",
      "[4, 5, 6, 4, 5, 6]\n"
     ]
    }
   ],
   "source": [
    "Sample =  [1,2,3], [4,5,6]\n",
    "for list1 in Sample:\n",
    "    print (list1+list1)"
   ]
  },
  {
   "cell_type": "code",
   "execution_count": 36,
   "id": "3f95bace",
   "metadata": {},
   "outputs": [
    {
     "name": "stdout",
     "output_type": "stream",
     "text": [
      "abcd\n",
      "abc\n",
      "acjd\n"
     ]
    }
   ],
   "source": [
    "d = ['abcd', 'abc', 'bcd', 'bkie', 'cder', 'cdsw', 'sdfsd', 'dagfa', 'acjd']\n",
    "for i in d:\n",
    "    if i.startswith('a'):\n",
    "        print (i)\n"
   ]
  },
  {
   "cell_type": "code",
   "execution_count": 39,
   "id": "8feb0aaf",
   "metadata": {},
   "outputs": [],
   "source": [
    "Sample = [{},{},{}]\n",
    "if len(Sample) == 0:\n",
    "    print ('true')\n"
   ]
  },
  {
   "cell_type": "code",
   "execution_count": 44,
   "id": "6f0a63ae",
   "metadata": {},
   "outputs": [
    {
     "name": "stdout",
     "output_type": "stream",
     "text": [
      "None\n"
     ]
    }
   ],
   "source": [
    "Original = [0, 10, [20, 30], 40, 50, [60, 70, 80], [90, 100, 110, 120]]\n",
    "def h(Original):\n",
    "    f = []\n",
    "    for i in Original:\n",
    "        return f.append(i)\n",
    "print (h( [0, 10, [20, 30], 40, 50, [60, 70, 80], [90, 100, 110, 120]]))    \n"
   ]
  },
  {
   "cell_type": "code",
   "execution_count": 43,
   "id": "2e43adf0",
   "metadata": {},
   "outputs": [],
   "source": [
    "#print (h( [0, 10, [20, 30], 40, 50, [60, 70, 80], [90, 100, 110, 120]]))"
   ]
  },
  {
   "cell_type": "code",
   "execution_count": 45,
   "id": "16fc1269",
   "metadata": {},
   "outputs": [
    {
     "name": "stdout",
     "output_type": "stream",
     "text": [
      "Original list:\n",
      "[0, 10, [20, 30], 40, 50, [60, 70, 80], [90, 100, 110, 120]]\n",
      "\n",
      "Flatten list:\n",
      "[0, 10, 20, 30, 40, 50, 60, 70, 80, 90, 100, 110, 120]\n"
     ]
    }
   ],
   "source": [
    "def flatten_list(n_list):\n",
    "    result_list = []\n",
    "    if not n_list: return result_list\n",
    "    stack = [list(n_list)]\n",
    "    while stack:\n",
    "        c_num = stack.pop()\n",
    "        next = c_num.pop()\n",
    "        if c_num: stack.append(c_num)\n",
    "        if isinstance(next, list):\n",
    "            if next: stack.append(list(next))\n",
    "        else: result_list.append(next)\n",
    "    result_list.reverse()\n",
    "    return result_list \n",
    "n_list = [0, 10, [20, 30], 40, 50, [60, 70, 80], [90, 100, 110, 120]]\n",
    "print(\"Original list:\") \n",
    "print(n_list)\n",
    "print(\"\\nFlatten list:\")\n",
    "print(flatten_list(n_list))\n"
   ]
  },
  {
   "cell_type": "code",
   "execution_count": 2,
   "id": "1a1d32a9",
   "metadata": {},
   "outputs": [
    {
     "name": "stdout",
     "output_type": "stream",
     "text": [
      "[1, 1, 2]\n"
     ]
    }
   ],
   "source": [
    "org = [1, 1, 2, 3, 4, 4, 5, 1,8]\n",
    "leng = len(org)\n",
    "\n",
    "f = leng//3\n",
    "fis = org[:f]\n",
    "li = org[f:]\n",
    "print (fis)"
   ]
  },
  {
   "cell_type": "code",
   "execution_count": 8,
   "id": "c74af578",
   "metadata": {},
   "outputs": [
    {
     "name": "stdout",
     "output_type": "stream",
     "text": [
      "Original list:\n",
      "[1, 1, 2, 3, 4, 4, 5, 1]\n",
      "\n",
      "After removing an element at the kth position of the said list:\n",
      "[1, 1, 3, 4, 4, 5, 1]\n"
     ]
    }
   ],
   "source": [
    "def remove_kth_element(n_list, L):\n",
    "    return  n_list[:L-1] + n_list[L:]\n",
    "\n",
    "n_list = [1,1,2,3,4,4,5,1]\n",
    "print(\"Original list:\") \n",
    "print(n_list)\n",
    "kth_position = 3\n",
    "result = remove_kth_element(n_list, kth_position)\n",
    "print(\"\\nAfter removing an element at the kth position of the said list:\")\n",
    "print(result)\n"
   ]
  },
  {
   "cell_type": "code",
   "execution_count": null,
   "id": "2fd1f60a",
   "metadata": {},
   "outputs": [],
   "source": []
  }
 ],
 "metadata": {
  "kernelspec": {
   "display_name": "Python 3 (ipykernel)",
   "language": "python",
   "name": "python3"
  },
  "language_info": {
   "codemirror_mode": {
    "name": "ipython",
    "version": 3
   },
   "file_extension": ".py",
   "mimetype": "text/x-python",
   "name": "python",
   "nbconvert_exporter": "python",
   "pygments_lexer": "ipython3",
   "version": "3.9.7"
  }
 },
 "nbformat": 4,
 "nbformat_minor": 5
}
